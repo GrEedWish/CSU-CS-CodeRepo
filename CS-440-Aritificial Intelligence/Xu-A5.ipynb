{
 "cells": [
  {
   "cell_type": "markdown",
   "metadata": {},
   "source": [
    "# Reinforcement Learning Solution to the Towers of Hanoi Puzzle"
   ]
  },
  {
   "cell_type": "markdown",
   "metadata": {},
   "source": [
    "For this assignment, you will use reinforcement learning to solve the [Towers of Hanoi](https://en.wikipedia.org/wiki/Tower_of_Hanoi) puzzle.  \n",
    "\n",
    "To accomplish this, you must modify the code discussed in lecture for learning to play Tic-Tac-Toe.  Modify the code  so that it learns to solve the three-disk, three-peg\n",
    "Towers of Hanoi Puzzle.  In some ways, this will be simpler than the\n",
    "Tic-Tac-Toe code.  \n",
    "\n",
    "Steps required to do this include the following:\n",
    "\n",
    "  - Represent the state, and use it as a tuple as a key to the Q dictionary.\n",
    "  - Make sure only valid moves are tried from each state.\n",
    "  - Assign reinforcement of $-1$ to each move unless it is a move to the goal state, for which the reinforcement is $0$.  This represents the goal of finding the shortest path to the goal.\n",
    "\n",
    "Make a plot of the number of steps required to reach the goal for each\n",
    "trial.  Each trial starts from the same initial state.  Decay epsilon\n",
    "as in the Tic-Tac-Toe code."
   ]
  },
  {
   "cell_type": "markdown",
   "metadata": {},
   "source": [
    "## Requirements"
   ]
  },
  {
   "cell_type": "markdown",
   "metadata": {},
   "source": [
    "First, how should we represent the state of this puzzle?  We need to keep track of which disks are on which pegs. Name the disks 1, 2, and 3, with 1 being the smallest disk and 3 being the largest. The set of disks on a peg can be represented as a list of integers.  Then the state can be a list of three lists.\n",
    "\n",
    "For example, the starting state with all disks being on the left peg would be `[[1, 2, 3], [], []]`.  After moving disk 1 to peg 2, we have `[[2, 3], [1], []]`.\n",
    "\n",
    "To represent that move we just made, we can use a list of two peg numbers, like `[1, 2]`, representing a move of the top disk on peg 1 to peg 2."
   ]
  },
  {
   "cell_type": "markdown",
   "metadata": {},
   "source": [
    "Now on to some functions. Define at least the following functions. Examples showing required output appear below.\n",
    "\n",
    "   - `printState(state)`: prints the state in the form shown below\n",
    "   - `validMoves(state)`: returns list of moves that are valid from `state`\n",
    "   - `makeMove(state, move)`: returns new (copy of) state after move has been applied.\n",
    "   - `trainQ(nRepetitions, learningRate, epsilonDecayFactor, validMovesF, makeMoveF)`: train the Q function for number of repetitions, decaying epsilon at start of each repetition. Returns Q and list or array of number of steps to reach goal for each repetition.\n",
    "   - `testQ(Q, maxSteps, validMovesF, makeMoveF)`: without updating Q, use Q to find greedy action each step until goal is found. Return path of states.\n",
    "\n",
    "A function that you might choose to implement is\n",
    "\n",
    "   - `stateMoveTuple(state, move)`: returns tuple of state and move.  \n",
    "    \n",
    "This is useful for converting state and move to a key to be used for the Q dictionary."
   ]
  },
  {
   "cell_type": "markdown",
   "metadata": {},
   "source": [
    "## Code"
   ]
  },
  {
   "cell_type": "code",
   "execution_count": 1,
   "metadata": {
    "collapsed": false
   },
   "outputs": [],
   "source": [
    "import copy\n",
    "import numpy as np\n",
    "import matplotlib.pyplot as plt\n",
    "from IPython.display import display, clear_output"
   ]
  },
  {
   "cell_type": "code",
   "execution_count": 2,
   "metadata": {
    "collapsed": false
   },
   "outputs": [],
   "source": [
    "# prints the state in the form shown below\n",
    "def printState(state):\n",
    "    pState = copy.deepcopy(state)\n",
    "    maxs = -1\n",
    "    for curState in pState:\n",
    "        maxs = max(len(curState), maxs)\n",
    "    for level in reversed(range(1, maxs+1)):\n",
    "        for i in range(len(pState)):\n",
    "            curState = pState[i]\n",
    "            if len(curState) == level:\n",
    "                print(curState.pop(0), end=\"\")\n",
    "            else: print(\" \", end=\"\")\n",
    "            print(\" \", end=\"\")\n",
    "        print()\n",
    "    for i in range(len(state)):\n",
    "        print(\"--\", end=\"\")\n",
    "    print()\n",
    "    print()\n",
    "\n",
    "# returns list of moves that are valid from state\n",
    "def validMoves(state):\n",
    "    tops = []\n",
    "    results = []\n",
    "    for curState in state:\n",
    "        if curState: tops.append(curState[0])\n",
    "        else: tops.append(float('Inf'))\n",
    "    for count, elem in enumerate(tops):\n",
    "        for cCount, cElem in enumerate(tops):\n",
    "            if elem < cElem:\n",
    "                results.append([count + 1, cCount + 1])\n",
    "    return results\n",
    "\n",
    "# returns new (copy of) state after move has been applied.\n",
    "def makeMove(state, move):\n",
    "    pState = copy.deepcopy(state)\n",
    "    sIndex = move[0] - 1\n",
    "    eIndex = move[1] - 1\n",
    "    pState[eIndex].insert(0, pState[sIndex].pop(0))\n",
    "    return pState\n",
    "\n",
    "# returns tuple of state and move.\n",
    "def stateMoveTuple(state, move):\n",
    "    pState = []\n",
    "    for curState in state:\n",
    "        pState.append(tuple(curState))\n",
    "    return (tuple(pState), tuple(move))"
   ]
  },
  {
   "cell_type": "markdown",
   "metadata": {},
   "source": [
    "### Test Case"
   ]
  },
  {
   "cell_type": "code",
   "execution_count": 3,
   "metadata": {
    "collapsed": false
   },
   "outputs": [
    {
     "name": "stdout",
     "output_type": "stream",
     "text": [
      "1     \n",
      "2     \n",
      "3     \n",
      "------\n",
      "\n",
      "[[1, 2], [1, 3]]\n",
      "2     \n",
      "3 1   \n",
      "------\n",
      "\n",
      "[(1, 3), (2, 1), (2, 3)]\n",
      "2     \n",
      "4 1 3 \n",
      "------\n",
      "\n",
      "[[1, 3], [2, 1], [2, 3]]\n",
      "\n",
      "1\n",
      "[1, 3]\n"
     ]
    },
    {
     "data": {
      "text/plain": [
       "[(1, 3), (2, 1), (2, 3)]"
      ]
     },
     "execution_count": 3,
     "metadata": {},
     "output_type": "execute_result"
    }
   ],
   "source": [
    "state = [[1, 2, 3], [], []]\n",
    "printState(state)\n",
    "print(validMoves(state))\n",
    "\n",
    "\n",
    "state2 = [[2, 3], [1], []]\n",
    "printState(state2)\n",
    "moves = validMoves(state2)\n",
    "validMove = []\n",
    "for move in moves:\n",
    "    validMove.append(tuple(move))\n",
    "print(validMove)\n",
    "\n",
    "state3 = [[2,4], [1], [3]]\n",
    "printState(state3)\n",
    "print(validMoves(state3))\n",
    "\n",
    "print()\n",
    "print(np.random.randint(len(moves)))\n",
    "print(moves[np.random.randint(len(moves))])\n",
    "validMove"
   ]
  },
  {
   "cell_type": "code",
   "execution_count": 4,
   "metadata": {
    "collapsed": false
   },
   "outputs": [
    {
     "data": {
      "text/plain": [
       "(((1, 2, 3), (), ()), (1, 2))"
      ]
     },
     "execution_count": 4,
     "metadata": {},
     "output_type": "execute_result"
    }
   ],
   "source": [
    "move =[1, 2]\n",
    "\n",
    "stateMoveTuple(state, move)"
   ]
  },
  {
   "cell_type": "code",
   "execution_count": 5,
   "metadata": {
    "collapsed": false
   },
   "outputs": [
    {
     "data": {
      "text/plain": [
       "[[2, 3], [1], []]"
      ]
     },
     "execution_count": 5,
     "metadata": {},
     "output_type": "execute_result"
    }
   ],
   "source": [
    "newstate = makeMove(state, move)\n",
    "newstate"
   ]
  },
  {
   "cell_type": "code",
   "execution_count": 6,
   "metadata": {
    "collapsed": false
   },
   "outputs": [
    {
     "name": "stdout",
     "output_type": "stream",
     "text": [
      "2     \n",
      "3 1   \n",
      "------\n",
      "\n"
     ]
    }
   ],
   "source": [
    "printState(newstate)"
   ]
  },
  {
   "cell_type": "markdown",
   "metadata": {},
   "source": [
    "## Code for Q funtion"
   ]
  },
  {
   "cell_type": "code",
   "execution_count": 7,
   "metadata": {
    "collapsed": false
   },
   "outputs": [],
   "source": [
    "# Modified from http://localhost:8888/notebooks/Desktop/cs440/15%20Reinforcement%20Learning%20for%20Two-Player%20Games.ipynb\n",
    "def epsilonGreedy(epsilon, Q, state, validMovesF):\n",
    "    validMoves = np.asarray(validMovesF(state))\n",
    "    if np.random.uniform() < epsilon:\n",
    "        # Random Move\n",
    "        seedNum = np.random.randint(len(validMoves))\n",
    "        return validMoves[seedNum]\n",
    "    else:\n",
    "        # Greedy Move\n",
    "        Qs = np.array(list([Q.get((stateMoveTuple(state, m)), 0)] for m in validMoves))\n",
    "        return validMoves[ np.argmax(Qs) ]\n",
    "    \n",
    "# train the Q function for number of repetitions, decaying epsilon at start of each repetition. \n",
    "# Returns Q and list or array of number of steps to reach goal for each repetition.\n",
    "def trainQ(nRepetitions, learningRate, epsilonDecayFactor, validMovesF, makeMoveF, \n",
    "           initState = [[1, 2, 3], [], []], goalState = [[], [], [1, 2, 3]], ploT = False):\n",
    "    Q = {}\n",
    "    epsilon = 1.0\n",
    "    epsilonDecayRate = epsilonDecayFactor\n",
    "    rho = learningRate\n",
    "    steps = np.zeros(nRepetitions)\n",
    "    for nRep in range(nRepetitions):\n",
    "        \n",
    "        epsilon *= epsilonDecayRate\n",
    "        state = initState\n",
    "        step = 0\n",
    "        done = False\n",
    "        \n",
    "        # iteration while not find goal state\n",
    "        while not done:\n",
    "            step += 1\n",
    "            \n",
    "            # choose the move from greedy algorithm\n",
    "            move = epsilonGreedy(epsilon, Q, state, validMovesF)\n",
    "            newState = makeMoveF(state, move)\n",
    "\n",
    "            # if the state not yet initiated, initiates it with -1\n",
    "            # which means initially it costs 1 step to goal step\n",
    "            if (stateMoveTuple(state, move)) not in Q:\n",
    "                Q[(stateMoveTuple(state, move))] = -1\n",
    "                \n",
    "            # if find GoalState\n",
    "            # assign Q value to -1\n",
    "            # which it costs 1 step to goal step\n",
    "            if newState == goalState:\n",
    "                Q[(stateMoveTuple(state, move))] = -1\n",
    "                # record steps\n",
    "                steps[nRep] = step\n",
    "                # break iteration\n",
    "                done = True\n",
    "\n",
    "            # else\n",
    "            else:\n",
    "                # if we have a previous step\n",
    "                if step > 1:\n",
    "                    # Q old = Q old + learning rate *(-1 + Q new - Q old )\n",
    "                    # Q Difference = Q new - Q old\n",
    "                    # update with (-1 + Q Difference)\n",
    "                    Q[(stateMoveTuple(oldState, oldMove))] += rho * (-1 + Q[(stateMoveTuple(state, move))] \n",
    "                                                                    - Q[(stateMoveTuple(oldState, oldMove))])\n",
    "            \n",
    "            # state is now oldState, move is now oldMove\n",
    "            oldState, oldMove = state, move\n",
    "            # newState is now state\n",
    "            state = newState\n",
    "            \n",
    "            # plot steps\n",
    "            if newState == goalState and (nRep+1) % 10 == 0 and ploT:\n",
    "                fig = plt.figure(figsize=(5,5))\n",
    "                fig.clf()\n",
    "                \n",
    "                plt.plot(steps,'-')\n",
    "\n",
    "                plt.xlabel(\"Trial\")\n",
    "                plt.ylabel(\"Steps to Goal\")\n",
    "\n",
    "                clear_output(wait=True)\n",
    "                display(fig)\n",
    "        \n",
    "    return Q, steps\n",
    "                "
   ]
  },
  {
   "cell_type": "code",
   "execution_count": 8,
   "metadata": {
    "collapsed": false
   },
   "outputs": [],
   "source": [
    "# without updating Q, use Q to find greedy action each step until goal is found. Return path of states.\n",
    "def testQ(Q, maxSteps, validMovesF, makeMoveF,\n",
    "         initState = [[1, 2, 3], [], []], goalState = [[], [], [1, 2, 3]]):\n",
    "    step = 0\n",
    "    state = initState\n",
    "    done = False\n",
    "    \n",
    "    # path add start state\n",
    "    path = [state]\n",
    "    \n",
    "    # while not done or not reach maxSteps\n",
    "    while not done and step < maxSteps:\n",
    "        step += 1\n",
    "\n",
    "        # find next move using Q\n",
    "        validMoves = np.asarray(validMovesF(state))\n",
    "        Qs = np.array(list([Q.get((stateMoveTuple(state, m)), 0)] for m in validMoves))\n",
    "        move = validMoves[ np.argmax(Qs) ]\n",
    "        newState = makeMoveF(state, move)\n",
    "        \n",
    "        # if GoalState\n",
    "        # done\n",
    "        if newState == goalState:\n",
    "            done = True\n",
    "        \n",
    "        # else\n",
    "        # assign newState to state\n",
    "        # path add state\n",
    "        state = newState\n",
    "        path.append(state)\n",
    "        \n",
    "    # if done return path\n",
    "    if done: return path\n",
    "    # else return cutoff\n",
    "    else: return 'cutoff'"
   ]
  },
  {
   "cell_type": "code",
   "execution_count": 9,
   "metadata": {
    "collapsed": false
   },
   "outputs": [
    {
     "data": {
      "image/png": "[encoded data removed]",
      "text/plain": [
       "<matplotlib.figure.Figure at 0x1185252e8>"
      ]
     },
     "metadata": {},
     "output_type": "display_data"
    }
   ],
   "source": [
    "Q, stepsToGoal = trainQ(50, 0.5, 0.7, validMoves, makeMove, ploT = True)"
   ]
  },
  {
   "cell_type": "code",
   "execution_count": 10,
   "metadata": {
    "collapsed": false,
    "scrolled": true
   },
   "outputs": [
    {
     "data": {
      "text/plain": [
       "array([  69.,   95.,   21.,   38.,   57.,  103.,    8.,   11.,   19.,\n",
       "         32.,   14.,    9.,   14.,    9.,   34.,   22.,    9.,   11.,\n",
       "         13.,   13.,    7.,   13.,    9.,    9.,    7.,    9.,    7.,\n",
       "          7.,    7.,   15.,    7.,    7.,    7.,    7.,    7.,    7.,\n",
       "          7.,    7.,    7.,    7.,    7.,    7.,    7.,    7.,    7.,\n",
       "          7.,    7.,    7.,    7.,    7.])"
      ]
     },
     "execution_count": 10,
     "metadata": {},
     "output_type": "execute_result"
    }
   ],
   "source": [
    "stepsToGoal"
   ]
  },
  {
   "cell_type": "code",
   "execution_count": 11,
   "metadata": {
    "collapsed": false
   },
   "outputs": [],
   "source": [
    "path = testQ(Q, 20, validMoves, makeMove)"
   ]
  },
  {
   "cell_type": "code",
   "execution_count": 12,
   "metadata": {
    "collapsed": false
   },
   "outputs": [
    {
     "name": "stdout",
     "output_type": "stream",
     "text": [
      "It took 8 steps to get the goal\n"
     ]
    },
    {
     "data": {
      "text/plain": [
       "[[[1, 2, 3], [], []],\n",
       " [[2, 3], [], [1]],\n",
       " [[3], [2], [1]],\n",
       " [[3], [1, 2], []],\n",
       " [[], [1, 2], [3]],\n",
       " [[1], [2], [3]],\n",
       " [[1], [], [2, 3]],\n",
       " [[], [], [1, 2, 3]]]"
      ]
     },
     "execution_count": 12,
     "metadata": {},
     "output_type": "execute_result"
    }
   ],
   "source": [
    "print(\"It took\", len(path), \"steps to get the goal\")\n",
    "path"
   ]
  },
  {
   "cell_type": "code",
   "execution_count": 13,
   "metadata": {
    "collapsed": false
   },
   "outputs": [
    {
     "name": "stdout",
     "output_type": "stream",
     "text": [
      "1     \n",
      "2     \n",
      "3     \n",
      "------\n",
      "\n",
      "\n",
      "2     \n",
      "3   1 \n",
      "------\n",
      "\n",
      "\n",
      "3 2 1 \n",
      "------\n",
      "\n",
      "\n",
      "  1   \n",
      "3 2   \n",
      "------\n",
      "\n",
      "\n",
      "  1   \n",
      "  2 3 \n",
      "------\n",
      "\n",
      "\n",
      "1 2 3 \n",
      "------\n",
      "\n",
      "\n",
      "    2 \n",
      "1   3 \n",
      "------\n",
      "\n",
      "\n",
      "    1 \n",
      "    2 \n",
      "    3 \n",
      "------\n",
      "\n",
      "\n"
     ]
    }
   ],
   "source": [
    "for s in path:\n",
    "    printState(s)\n",
    "    print()"
   ]
  },
  {
   "cell_type": "markdown",
   "metadata": {},
   "source": [
    "## Grading"
   ]
  },
  {
   "cell_type": "markdown",
   "metadata": {
    "collapsed": true
   },
   "source": [
    "Download and extract `A5grader.py` from [A5grader.tar](http://www.cs.colostate.edu/~anderson/cs440/notebooks/A5grader.tar)."
   ]
  },
  {
   "cell_type": "code",
   "execution_count": 14,
   "metadata": {
    "collapsed": false
   },
   "outputs": [
    {
     "name": "stdout",
     "output_type": "stream",
     "text": [
      "\n",
      "Testing validMoves([[1], [2], [3]])\n",
      "\n",
      "--- 10/10 points. Correctly returned [[1, 2], [1, 3], [2, 3]]\n",
      "\n",
      "Testing validMoves([[], [], [1, 2, 3]])\n",
      "\n",
      "--- 10/10 points. Correctly returned [[3, 1], [3, 2]]\n",
      "\n",
      "Testing makeMove([[], [], [1, 2, 3]], [3, 2])\n",
      "\n",
      "--- 10/10 points. Correctly returned [[], [1], [2, 3]]\n",
      "\n",
      "Testing makeMove([[2], [3], [1]], [1, 2])\n",
      "\n",
      "--- 10/10 points. Correctly returned [[], [2, 3], [1]]\n",
      "\n",
      "Testing   Q, steps = trainQ(1000, 0.5, 0.7, validMoves, makeMove).\n",
      "\n",
      "--- 10/10 points. Q dictionary has correct number of entries.\n",
      "\n",
      "--- 10/10 points. The mean of the number of steps is 7.443 which is correct.\n",
      "\n",
      "Testing   path = testQ(Q, 20, validMoves, makeMove).\n",
      "\n",
      "--- 20/20 points. Correctly returns path of length 8, less than 10.\n",
      "\n",
      "A5 Execution Grade is 80/80\n",
      "\n",
      " Remaining 20 points will be based on your text describing the trainQ and test! functions.\n",
      "\n",
      "A5 FINAL GRADE is __/100\n"
     ]
    }
   ],
   "source": [
    "%run -i A5grader.py"
   ]
  },
  {
   "cell_type": "markdown",
   "metadata": {},
   "source": [
    "## Extra Credit"
   ]
  },
  {
   "cell_type": "markdown",
   "metadata": {},
   "source": [
    "Modify your code to solve the Towers of Hanoi puzzle with 4 disks instead of 3.  Name your functions\n",
    "\n",
    "    - printState_4disk\n",
    "    - validMoves_4disk\n",
    "    - makeMove_4disk\n",
    "\n",
    "Find values for number of repetitions, learning rate, and epsilon decay factor for which trainQ learns a Q function that testQ can use to find the shortest solution path.  Include the output from the successful calls to trainQ and testQ."
   ]
  },
  {
   "cell_type": "code",
   "execution_count": 15,
   "metadata": {
    "collapsed": false,
    "scrolled": false
   },
   "outputs": [
    {
     "name": "stdout",
     "output_type": "stream",
     "text": [
      "1     \n",
      "2     \n",
      "3     \n",
      "4     \n",
      "------\n",
      "\n",
      "[[1, 2], [1, 3]]\n",
      "\n",
      "\n",
      "    3 \n",
      "1 2 4 \n",
      "------\n",
      "\n",
      "[[1, 2], [1, 3], [2, 3]]\n"
     ]
    }
   ],
   "source": [
    "state = [[1, 2, 3, 4], [], []]\n",
    "printState(state)\n",
    "print(validMoves(state))\n",
    "\n",
    "print()\n",
    "print()\n",
    "\n",
    "state2 = [[1], [2], [3, 4]]\n",
    "printState(state2)\n",
    "print(validMoves(state2))"
   ]
  },
  {
   "cell_type": "code",
   "execution_count": 16,
   "metadata": {
    "collapsed": true
   },
   "outputs": [],
   "source": [
    "# define 4disk game startState and endState\n",
    "sState_4disk = [[1, 2, 3, 4], [], []]\n",
    "eState_4disk = [[], [], [1, 2, 3, 4]]"
   ]
  },
  {
   "cell_type": "code",
   "execution_count": 17,
   "metadata": {
    "collapsed": true
   },
   "outputs": [],
   "source": [
    "# Testing my parameters\n",
    "nRepetitions = 100\n",
    "learningRate = 0.5\n",
    "epsilonDecayFactor = 0.9"
   ]
  },
  {
   "cell_type": "code",
   "execution_count": 18,
   "metadata": {
    "collapsed": false
   },
   "outputs": [
    {
     "data": {
      "image/png": "[encoded data removed]",
      "text/plain": [
       "<matplotlib.figure.Figure at 0x11906bac8>"
      ]
     },
     "metadata": {},
     "output_type": "display_data"
    }
   ],
   "source": [
    "Q, stepsToGoal = trainQ(nRepetitions, learningRate, epsilonDecayFactor, validMoves, makeMove, \n",
    "                        sState_4disk, eState_4disk, ploT = True)"
   ]
  },
  {
   "cell_type": "code",
   "execution_count": 19,
   "metadata": {
    "collapsed": false
   },
   "outputs": [
    {
     "name": "stdout",
     "output_type": "stream",
     "text": [
      "It took 16 steps to get the goal\n"
     ]
    },
    {
     "data": {
      "text/plain": [
       "[[[1, 2, 3, 4], [], []],\n",
       " [[2, 3, 4], [1], []],\n",
       " [[3, 4], [1], [2]],\n",
       " [[3, 4], [], [1, 2]],\n",
       " [[4], [3], [1, 2]],\n",
       " [[1, 4], [3], [2]],\n",
       " [[1, 4], [2, 3], []],\n",
       " [[4], [1, 2, 3], []],\n",
       " [[], [1, 2, 3], [4]],\n",
       " [[], [2, 3], [1, 4]],\n",
       " [[2], [3], [1, 4]],\n",
       " [[1, 2], [3], [4]],\n",
       " [[1, 2], [], [3, 4]],\n",
       " [[2], [1], [3, 4]],\n",
       " [[], [1], [2, 3, 4]],\n",
       " [[], [], [1, 2, 3, 4]]]"
      ]
     },
     "execution_count": 19,
     "metadata": {},
     "output_type": "execute_result"
    }
   ],
   "source": [
    "path = testQ(Q, 20, validMoves, makeMove, sState_4disk, eState_4disk)\n",
    "print(\"It took\", len(path), \"steps to get the goal\")\n",
    "path"
   ]
  }
 ],
 "metadata": {
  "kernelspec": {
   "display_name": "Python 3",
   "language": "python",
   "name": "python3"
  },
  "language_info": {
   "codemirror_mode": {
    "name": "ipython",
    "version": 3
   },
   "file_extension": ".py",
   "mimetype": "text/x-python",
   "name": "python",
   "nbconvert_exporter": "python",
   "pygments_lexer": "ipython3",
   "version": "3.6.0"
  }
 },
 "nbformat": 4,
 "nbformat_minor": 2
}
