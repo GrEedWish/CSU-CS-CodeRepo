{
 "cells": [
  {
   "cell_type": "markdown",
   "metadata": {},
   "source": [
    "$\\newcommand{\\xv}{\\mathbf{x}}\n",
    "\\newcommand{\\Xv}{\\mathbf{X}}\n",
    "\\newcommand{\\yv}{\\mathbf{y}}\n",
    "\\newcommand{\\zv}{\\mathbf{z}}\n",
    "\\newcommand{\\av}{\\mathbf{a}}\n",
    "\\newcommand{\\Wv}{\\mathbf{W}}\n",
    "\\newcommand{\\wv}{\\mathbf{w}}\n",
    "\\newcommand{\\tv}{\\mathbf{t}}\n",
    "\\newcommand{\\Tv}{\\mathbf{T}}\n",
    "\\newcommand{\\muv}{\\boldsymbol{\\mu}}\n",
    "\\newcommand{\\sigmav}{\\boldsymbol{\\sigma}}\n",
    "\\newcommand{\\phiv}{\\boldsymbol{\\phi}}\n",
    "\\newcommand{\\Phiv}{\\boldsymbol{\\Phi}}\n",
    "\\newcommand{\\Sigmav}{\\boldsymbol{\\Sigma}}\n",
    "\\newcommand{\\Lambdav}{\\boldsymbol{\\Lambda}}\n",
    "\\newcommand{\\half}{\\frac{1}{2}}\n",
    "\\newcommand{\\argmax}[1]{\\underset{#1}{\\operatorname{argmax}}}\n",
    "\\newcommand{\\argmin}[1]{\\underset{#1}{\\operatorname{argmin}}}$"
   ]
  },
  {
   "cell_type": "markdown",
   "metadata": {},
   "source": [
    "# Assignment 1: Linear Regression"
   ]
  },
  {
   "cell_type": "markdown",
   "metadata": {},
   "source": [
    "Jim Xu\n",
    "\n",
    "831-156-383"
   ]
  },
  {
   "cell_type": "markdown",
   "metadata": {},
   "source": [
    "## Overview"
   ]
  },
  {
   "cell_type": "markdown",
   "metadata": {},
   "source": [
    "Using Stochastic Gradient Descent (SGD) to fit a Linear Regression Model by minimizing the Sum of Squared Errors(SSE)."
   ]
  },
  {
   "cell_type": "markdown",
   "metadata": {},
   "source": [
    "## Method"
   ]
  },
  {
   "cell_type": "markdown",
   "metadata": {},
   "source": [
    "#### 1. Data PreProcess\n",
    "    \n",
    "* ```Xtrain, Ttrain, Xtest, Ttest = shuffleIndice(X, T)```\n",
    "\n",
    "Function ```shuffleIndice``` shuffles the X(variables) and T(target) data into two disjointed dataset for Training and Testing purpose."
   ]
  },
  {
   "cell_type": "code",
   "execution_count": 1,
   "metadata": {
    "collapsed": true
   },
   "outputs": [],
   "source": [
    "def shuffleIndice(X, T):\n",
    "    '''\n",
    "    shuffle data samples to non-overlapping\n",
    "    80% training and 20% testing\n",
    "    '''\n",
    "    nrows = X.shape[0]\n",
    "    nTrain = int(round(nrows*0.8))\n",
    "    nTest = nrows - nTrain\n",
    "    rows = np.arange(nrows)\n",
    "    np.random.shuffle(rows)\n",
    "    trainIndices = rows[:nTrain]\n",
    "    testIndices = rows[nTrain:]\n",
    "    Xtrain = X[trainIndices, :]\n",
    "    Ttrain = T[trainIndices, :]\n",
    "    Xtest = X[testIndices, :]\n",
    "    Ttest = T[testIndices, :]\n",
    "    return Xtrain, Ttrain, Xtest, Ttest"
   ]
  },
  {
   "cell_type": "markdown",
   "metadata": {},
   "source": [
    "#### 2. Data Standardize (z-score)\n",
    "    \n",
    "* ```means, stds, XStd = standardize(X, means = None, stds = None)```\n",
    "\n",
    "Function ```standardize``` standardizes the X(variable) data by adjusting the values to have zero mean and unit variance in order to compare the relative importance of each input variable."
   ]
  },
  {
   "cell_type": "code",
   "execution_count": 2,
   "metadata": {
    "collapsed": true
   },
   "outputs": [],
   "source": [
    "# http://nbviewer.jupyter.org/url/www.cs.colostate.edu/~anderson/cs445/notebooks/03%20Linear%20Regression.ipynb\n",
    "def makeStandardize(X, means = None, stds = None):\n",
    "    if means is None: means = X.mean(axis=0)\n",
    "    if stds is None: stds = X.std(axis=0)\n",
    "    \n",
    "    def standardize(origX):\n",
    "        return means, stds, (origX - means) / stds\n",
    "    \n",
    "    def unStandardize(stdX):\n",
    "        return means, stds, stds * stdX + means\n",
    "    \n",
    "    return (standardize, unStandardize)"
   ]
  },
  {
   "cell_type": "markdown",
   "metadata": {},
   "source": [
    "#### 3. Train Model using Matrix Operation\n",
    "    \n",
    "* ```model = train(X, T)```\n",
    "\n",
    "Function ```train``` standardize the input data in X and return a dictionary with keys named means, stds, and calculate w(coefficients of variables) by using Matrix Operation according to the equation:\n",
    "\n",
    "$$\n",
    "      \\wv = (X^T X)^{-1} X^T T\n",
    "$$"
   ]
  },
  {
   "cell_type": "code",
   "execution_count": 3,
   "metadata": {
    "collapsed": true
   },
   "outputs": [],
   "source": [
    "def train(X, T):\n",
    "    # N samples\n",
    "    ret = {}\n",
    "\n",
    "    (standardize, unStandardize) = makeStandardize(X)\n",
    "    \n",
    "    means, stds, XStd = standardize(X)\n",
    "    XStd1 = np.insert(XStd, 0, 1, axis=1)\n",
    "    \n",
    "    w = np.linalg.lstsq(XStd1.T @ XStd1, XStd1.T @ T)[0]\n",
    "    \n",
    "    ret[\"means\"] = means\n",
    "    ret[\"stds\"] = stds\n",
    "    ret[\"w\"] = w\n",
    "    return ret"
   ]
  },
  {
   "cell_type": "markdown",
   "metadata": {},
   "source": [
    "#### 4. Predict target values using new data\n",
    "    \n",
    "* ```predict = use(model, X)```\n",
    "\n",
    "Function ```use``` standardize its input data X by using the means and standard deviations in the dictionary returned by train. Return predicted values using testing data.\n"
   ]
  },
  {
   "cell_type": "code",
   "execution_count": 4,
   "metadata": {
    "collapsed": true
   },
   "outputs": [],
   "source": [
    "def use(model, X):\n",
    "    (standardize, unStandardize) = makeStandardize(X, model[\"means\"], model[\"stds\"])\n",
    "    \n",
    "    _1, _2, XStd = standardize(X)\n",
    "    XStd1 = np.insert(XStd, 0, 1, axis=1)\n",
    "    return XStd1 @ model[\"w\"]"
   ]
  },
  {
   "cell_type": "markdown",
   "metadata": {},
   "source": [
    "#### 5. Calculate Error Rate between Predicted and Target values using RMSE\n",
    "    \n",
    "* ```error = rmse(predict, T)```\n",
    "\n",
    "Function ```rmse``` returns the square root of the mean of the squared error between predict and T(target values).\n"
   ]
  },
  {
   "cell_type": "code",
   "execution_count": 5,
   "metadata": {
    "collapsed": true
   },
   "outputs": [],
   "source": [
    "# https://stackoverflow.com/questions/17197492/root-mean-square-error-in-python\n",
    "def rmse(predictions, targets):\n",
    "    differences = predictions - targets                       #the DIFFERENCEs.\n",
    "    differences_squared = differences ** 2                    #the SQUAREs of ^\n",
    "    mean_of_differences_squared = differences_squared.mean()  #the MEAN of ^\n",
    "    rmse_val = np.sqrt(mean_of_differences_squared)           #ROOT of ^\n",
    "    return rmse_val                                           #get the ^\n",
    "    "
   ]
  },
  {
   "cell_type": "markdown",
   "metadata": {},
   "source": [
    "#### 6. Train Model using Stochastic Gradient Descent (SGC)\n",
    "    \n",
    "* ```model = trainSGD(X, T, learningRate, numberOfIterations)```\n",
    "\n",
    "Function ```trainSGD``` performs the incremental training process described in class as stochastic gradient descent (SGC). The result of this function is a dictionary with the same keys as the dictionary returned by the above train function.\n",
    "\n",
    "Instead of doing huge calculation of matrix, taking the derivative of w(coefficients) and use SGC to update w based on the equation:\n",
    "\n",
    "$$\n",
    "\\begin{align*}\n",
    "\\frac{\\partial \\sum_{n=1}^N (t_n - \\xv_n^T \\wv)^2}{\\partial \\wv} \n",
    "&= \n",
    "\\sum_{n=1}^N \\frac{\\partial (t_n - \\xv_n^T \\wv)^2}{\\partial \\wv}\\\\\n",
    "&= -2 \\sum_{n=1}^N (t_n - \\xv_n^T  \\wv) \\xv_n\\\\\n",
    "\\end{align*}\n",
    "$$\n",
    "\n",
    "$$\n",
    "\\begin{align*}\n",
    "\\wv^{(k+1)} &= \\wv^{(k)} - (-2) \\eta \\xv_n (\\tv_n^T - \\xv_n^T  \\wv)\\\\\n",
    " &= \\wv^{(k)} + \\eta \\xv_n (\\tv_n^T - \\xv_n^T  \\wv) \n",
    "\\end{align*}\n",
    "$$"
   ]
  },
  {
   "cell_type": "code",
   "execution_count": 6,
   "metadata": {
    "collapsed": true
   },
   "outputs": [],
   "source": [
    "def trainSGD(X, T, learningRate, numberOfIterations):\n",
    "    ret = {}\n",
    "    # N samples\n",
    "    nSamples = X.shape[0]\n",
    "    \n",
    "    (standardize, unStandardize) = makeStandardize(X)\n",
    "    \n",
    "    means, stds, XStd = standardize(X)\n",
    "    XStd1 = np.insert(XStd, 0, 1, axis=1)\n",
    "    \n",
    "    w = np.zeros((XStd1.shape[1],T.shape[1]))\n",
    "    \n",
    "    for iter in range(numberOfIterations):\n",
    "        for n in range(nSamples):\n",
    "            \n",
    "            predicted = XStd1[n:n+1,:] @ w\n",
    "            w += learningRate * XStd1[n:n+1,:].T * (T[n:n+1,:] - predicted)\n",
    "    \n",
    "    ret[\"means\"] = means\n",
    "    ret[\"stds\"] = stds\n",
    "    ret[\"w\"] = w\n",
    "    return ret"
   ]
  },
  {
   "cell_type": "markdown",
   "metadata": {},
   "source": [
    "## Data Sample"
   ]
  },
  {
   "cell_type": "markdown",
   "metadata": {},
   "source": [
    "Source: [Appliances energy prediction Data Set](https://archive.ics.uci.edu/ml/datasets/Appliances+energy+prediction)\n",
    "\n",
    "The data set has 19735 number of instances, 29 number of attributes, where 24 are input variables and 2 are target variables. Input variables contains temperature, humidity, pressure, wind speed, visibility and dew point. Target variables are energy use in Appliances and light in Wh. \n",
    "\n",
    "\n",
    "The house temperature and humidity conditions were monitored with a ZigBee wireless sensor network. Each wireless node transmitted the temperature and humidity conditions around 3.3 min. Then, the wireless data was averaged for 10 minutes periods. The energy data was logged every 10 minutes with m-bus energy meters. Weather from the nearest airport weather station (Chievres Airport, Belgium) was downloaded from a public data set from Reliable Prognosis (rp5.ru), and merged together with the experimental data sets using the date and time column."
   ]
  },
  {
   "cell_type": "code",
   "execution_count": 7,
   "metadata": {
    "collapsed": true
   },
   "outputs": [],
   "source": [
    "# !wget https://archive.ics.uci.edu/ml/machine-learning-databases/00374/energydata_complete.csv"
   ]
  },
  {
   "cell_type": "code",
   "execution_count": 8,
   "metadata": {
    "collapsed": true
   },
   "outputs": [],
   "source": [
    "import pandas as pd\n",
    "import numpy as np\n",
    "import matplotlib.pyplot as plt"
   ]
  },
  {
   "cell_type": "code",
   "execution_count": 9,
   "metadata": {
    "collapsed": true
   },
   "outputs": [],
   "source": [
    "df = pd.read_csv(\"energydata_complete.csv\")"
   ]
  },
  {
   "cell_type": "code",
   "execution_count": 10,
   "metadata": {
    "collapsed": false
   },
   "outputs": [
    {
     "data": {
      "text/plain": [
       "array(['date', 'Appliances', 'lights', 'T1', 'RH_1', 'T2', 'RH_2', 'T3',\n",
       "       'RH_3', 'T4', 'RH_4', 'T5', 'RH_5', 'T6', 'RH_6', 'T7', 'RH_7',\n",
       "       'T8', 'RH_8', 'T9', 'RH_9', 'T_out', 'Press_mm_hg', 'RH_out',\n",
       "       'Windspeed', 'Visibility', 'Tdewpoint', 'rv1', 'rv2'], \n",
       "      dtype='<U11')"
      ]
     },
     "execution_count": 10,
     "metadata": {},
     "output_type": "execute_result"
    }
   ],
   "source": [
    "names = np.array(list(df))\n",
    "names"
   ]
  },
  {
   "cell_type": "code",
   "execution_count": 11,
   "metadata": {
    "collapsed": true
   },
   "outputs": [],
   "source": [
    "dat = df.as_matrix()"
   ]
  },
  {
   "cell_type": "code",
   "execution_count": 12,
   "metadata": {
    "collapsed": false
   },
   "outputs": [
    {
     "data": {
      "text/plain": [
       "(19735, 29)"
      ]
     },
     "execution_count": 12,
     "metadata": {},
     "output_type": "execute_result"
    }
   ],
   "source": [
    "dat.shape"
   ]
  },
  {
   "cell_type": "code",
   "execution_count": 13,
   "metadata": {
    "collapsed": false,
    "scrolled": false
   },
   "outputs": [
    {
     "data": {
      "image/png": "[encoded data removed]",
      "text/plain": [
       "<matplotlib.figure.Figure at 0x1114c6940>"
      ]
     },
     "metadata": {},
     "output_type": "display_data"
    }
   ],
   "source": [
    "plt.figure(figsize=(10, 10))\n",
    "nrow, ncol = dat.shape\n",
    "for c in range(9):\n",
    "    plt.subplot(3, 3, c+1)\n",
    "    plt.plot(dat[:, 3 + c*2], dat[:,1],'o')\n",
    "    plt.ylabel(names[1])\n",
    "    plt.xlabel(names[3 + c*2])\n",
    "plt.tight_layout()\n",
    "plt.show()"
   ]
  },
  {
   "cell_type": "markdown",
   "metadata": {},
   "source": [
    "Above plotted Application energy uses versus some variables. We can hardly see there is a relationship between them."
   ]
  },
  {
   "cell_type": "code",
   "execution_count": 14,
   "metadata": {
    "collapsed": false,
    "scrolled": false
   },
   "outputs": [
    {
     "data": {
      "image/png": "[encoded data removed]",
      "text/plain": [
       "<matplotlib.figure.Figure at 0x1153bd390>"
      ]
     },
     "metadata": {},
     "output_type": "display_data"
    }
   ],
   "source": [
    "plt.figure(figsize=(10, 10))\n",
    "nrow, ncol = dat.shape\n",
    "for c in range(9):\n",
    "    plt.subplot(3, 3, c+1)\n",
    "    plt.plot(dat[:, 3 + c*2], dat[:,2],'o')\n",
    "    plt.ylabel(names[2])\n",
    "    plt.xlabel(names[3 + c*2])\n",
    "plt.tight_layout()\n",
    "plt.show()"
   ]
  },
  {
   "cell_type": "markdown",
   "metadata": {},
   "source": [
    "Above plotted light energy uses versus some variables. We can hardly see there is a relationship between them."
   ]
  },
  {
   "cell_type": "markdown",
   "metadata": {},
   "source": [
    "## Results"
   ]
  },
  {
   "cell_type": "code",
   "execution_count": 15,
   "metadata": {
    "collapsed": true,
    "scrolled": true
   },
   "outputs": [],
   "source": [
    "T = np.float64(dat[:, 1:3])\n",
    "X = np.float64(dat[:, 3:-2])\n",
    "Tnames = names[1:3]\n",
    "Xnames = names[3:-2]"
   ]
  },
  {
   "cell_type": "code",
   "execution_count": 16,
   "metadata": {
    "collapsed": true
   },
   "outputs": [],
   "source": [
    "Xtrain, Ttrain, Xtest, Ttest = shuffleIndice(X, T)"
   ]
  },
  {
   "cell_type": "code",
   "execution_count": 17,
   "metadata": {
    "collapsed": false,
    "scrolled": true
   },
   "outputs": [
    {
     "data": {
      "text/plain": [
       "((15788, 24), (15788, 2), (3947, 24), (3947, 2))"
      ]
     },
     "execution_count": 17,
     "metadata": {},
     "output_type": "execute_result"
    }
   ],
   "source": [
    "Xtrain.shape, Ttrain.shape, Xtest.shape, Ttest.shape"
   ]
  },
  {
   "cell_type": "code",
   "execution_count": 18,
   "metadata": {
    "collapsed": false
   },
   "outputs": [],
   "source": [
    "model = train(Xtrain, Ttrain)"
   ]
  },
  {
   "cell_type": "code",
   "execution_count": 19,
   "metadata": {
    "collapsed": true
   },
   "outputs": [],
   "source": [
    "predict = use(model, Xtest)"
   ]
  },
  {
   "cell_type": "code",
   "execution_count": 20,
   "metadata": {
    "collapsed": false
   },
   "outputs": [
    {
     "data": {
      "text/plain": [
       "((3947, 2), (3947, 2))"
      ]
     },
     "execution_count": 20,
     "metadata": {},
     "output_type": "execute_result"
    }
   ],
   "source": [
    "predict.shape, Ttest.shape"
   ]
  },
  {
   "cell_type": "code",
   "execution_count": 21,
   "metadata": {
    "collapsed": true
   },
   "outputs": [],
   "source": [
    "error = rmse(predict, Ttest)"
   ]
  },
  {
   "cell_type": "code",
   "execution_count": 22,
   "metadata": {
    "collapsed": false,
    "scrolled": true
   },
   "outputs": [
    {
     "data": {
      "text/plain": [
       "65.585939896907107"
      ]
     },
     "execution_count": 22,
     "metadata": {},
     "output_type": "execute_result"
    }
   ],
   "source": [
    "error"
   ]
  },
  {
   "cell_type": "markdown",
   "metadata": {},
   "source": [
    "Using Matrix Calculation we get error is 67.3, which is ideally the best value (least)."
   ]
  },
  {
   "cell_type": "code",
   "execution_count": 23,
   "metadata": {
    "collapsed": false,
    "scrolled": true
   },
   "outputs": [
    {
     "name": "stdout",
     "output_type": "stream",
     "text": [
      "Learning rate 0.1 has error rate nan\n",
      "Learning rate 0.05 has error rate 99.9639355458\n",
      "Learning rate 0.01 has error rate 67.5060659441\n",
      "Learning rate 0.001 has error rate 66.507601723\n"
     ]
    }
   ],
   "source": [
    "learningRates = [0.1, 0.05, 0.01, 0.001]\n",
    "for lr in learningRates:\n",
    "    error = rmse(use(trainSGD(Xtrain, Ttrain, lr, 10), Xtest), Ttest)\n",
    "    print(\"Learning rate\", lr, \"has error rate\", error)"
   ]
  },
  {
   "cell_type": "markdown",
   "metadata": {},
   "source": [
    "As we can see, given the same number of training data and iteration numbers, smaller learning rate will generate more accurate fitted model, (error rate more smaller/closer to the theoretical error rate)."
   ]
  },
  {
   "cell_type": "code",
   "execution_count": 24,
   "metadata": {
    "collapsed": false
   },
   "outputs": [
    {
     "data": {
      "image/png": "[encoded data removed]",
      "text/plain": [
       "<matplotlib.figure.Figure at 0x115c54438>"
      ]
     },
     "metadata": {},
     "output_type": "display_data"
    },
    {
     "data": {
      "image/png": "[encoded data removed]",
      "text/plain": [
       "<matplotlib.figure.Figure at 0x11033eef0>"
      ]
     },
     "metadata": {},
     "output_type": "display_data"
    }
   ],
   "source": [
    "plt.plot(predict[:,0], 'o', color='blue', label = 'predict')\n",
    "plt.plot(Ttest[:,0], 'o', color='red', label = 'target')\n",
    "plt.legend()\n",
    "plt.title(\"Appliances, energy use in Wh\")\n",
    "# plt.legend('predict', 'Target')\n",
    "plt.show()\n",
    "\n",
    "plt.plot(predict[:,1], 'o', color='blue', label = 'predict')\n",
    "plt.plot(Ttest[:,1], 'o', color='red', label = 'target')\n",
    "plt.legend()\n",
    "plt.title(\"lights, energy use of light fixtures in the house in Wh\")\n",
    "# plt.legend('predict', 'Target')\n",
    "plt.show()"
   ]
  },
  {
   "cell_type": "markdown",
   "metadata": {},
   "source": [
    "Above plotted the predicted values versus target values using testing data set. We can see the predictions and real values do not match very well. It seems our fitted model does not perform well in this data set."
   ]
  },
  {
   "cell_type": "code",
   "execution_count": 25,
   "metadata": {
    "collapsed": false,
    "scrolled": false
   },
   "outputs": [
    {
     "data": {
      "image/png": "[encoded data removed]",
      "text/plain": [
       "<matplotlib.figure.Figure at 0x117f93dd8>"
      ]
     },
     "metadata": {},
     "output_type": "display_data"
    }
   ],
   "source": [
    "x = np.arange(25)\n",
    "plt.figure(figsize=(30, 15))\n",
    "plt.bar(x, model['w'][:,0])\n",
    "plt.bar(x, model['w'][:,1],bottom=model['w'][:,0])\n",
    "for i in range(25):\n",
    "    plt.text(i, model['w'].sum(axis=1)[i], model['w'].sum(axis=1)[i]//1, fontsize=45)\n",
    "plt.show()"
   ]
  },
  {
   "cell_type": "markdown",
   "metadata": {},
   "source": [
    "As we can see, some varibles contributes much less than others (those have smaller weight in coffecient)."
   ]
  },
  {
   "cell_type": "markdown",
   "metadata": {},
   "source": [
    "Now, a reduced model will be introduced by cutting off those less influential varibles (in this case, filter out varibles has less than 10 weight)."
   ]
  },
  {
   "cell_type": "code",
   "execution_count": 26,
   "metadata": {
    "collapsed": true,
    "scrolled": true
   },
   "outputs": [],
   "source": [
    "red = (model['w'].sum(axis=1)//1)[1:]\n",
    "reded = np.where(abs(red)<=10)[0]\n",
    "redx = np.where(abs(red)>10)[0]"
   ]
  },
  {
   "cell_type": "code",
   "execution_count": 27,
   "metadata": {
    "collapsed": false,
    "scrolled": true
   },
   "outputs": [
    {
     "data": {
      "text/plain": [
       "array(['T1', 'T5', 'RH_5', 'RH_6', 'T7', 'RH_9', 'Press_mm_hg',\n",
       "       'Windspeed', 'Visibility'], \n",
       "      dtype='<U11')"
      ]
     },
     "execution_count": 27,
     "metadata": {},
     "output_type": "execute_result"
    }
   ],
   "source": [
    "names[3+reded]"
   ]
  },
  {
   "cell_type": "markdown",
   "metadata": {},
   "source": [
    "we removed 'T1', 'T5', 'RH_5', 'RH_6', 'T7', 'RH_7', 'RH_9', 'Press_mm_hg','RH_out', 'Windspeed', 'Visibility' since their coefficients are less than 10"
   ]
  },
  {
   "cell_type": "code",
   "execution_count": 28,
   "metadata": {
    "collapsed": false
   },
   "outputs": [
    {
     "data": {
      "text/plain": [
       "array([ 1,  2,  3,  4,  5,  6,  7, 10, 13, 14, 15, 16, 18, 20, 23])"
      ]
     },
     "execution_count": 28,
     "metadata": {},
     "output_type": "execute_result"
    }
   ],
   "source": [
    "redx"
   ]
  },
  {
   "cell_type": "code",
   "execution_count": 29,
   "metadata": {
    "collapsed": true,
    "scrolled": true
   },
   "outputs": [],
   "source": [
    "redXtrain = Xtrain[:,redx]\n",
    "redXtest = Xtest[:,redx]"
   ]
  },
  {
   "cell_type": "code",
   "execution_count": 30,
   "metadata": {
    "collapsed": false
   },
   "outputs": [
    {
     "data": {
      "text/plain": [
       "((15788, 24), (15788, 15), (3947, 15), (15788, 2), (3947, 2))"
      ]
     },
     "execution_count": 30,
     "metadata": {},
     "output_type": "execute_result"
    }
   ],
   "source": [
    "Xtrain.shape, redXtrain.shape, redXtest.shape, Ttrain.shape, Ttest.shape"
   ]
  },
  {
   "cell_type": "code",
   "execution_count": 31,
   "metadata": {
    "collapsed": false
   },
   "outputs": [],
   "source": [
    "model = train(redXtrain, Ttrain)\n",
    "predict = use(model, redXtest)\n",
    "error = rmse(predict, Ttest)"
   ]
  },
  {
   "cell_type": "code",
   "execution_count": 32,
   "metadata": {
    "collapsed": false
   },
   "outputs": [
    {
     "data": {
      "text/plain": [
       "65.851088496395136"
      ]
     },
     "execution_count": 32,
     "metadata": {},
     "output_type": "execute_result"
    }
   ],
   "source": [
    "error"
   ]
  },
  {
   "cell_type": "code",
   "execution_count": 33,
   "metadata": {
    "collapsed": false
   },
   "outputs": [
    {
     "name": "stdout",
     "output_type": "stream",
     "text": [
      "Learning rate 0.1 has error rate nan\n",
      "Learning rate 0.05 has error rate 80.0164659065\n",
      "Learning rate 0.01 has error rate 66.2499378876\n",
      "Learning rate 0.001 has error rate 66.5923655544\n"
     ]
    }
   ],
   "source": [
    "learningRates = [0.1, 0.05, 0.01, 0.001]\n",
    "for lr in learningRates:\n",
    "    error = rmse(use(trainSGD(redXtrain, Ttrain, lr, 10), redXtest), Ttest)\n",
    "    print(\"Learning rate\", lr, \"has error rate\", error)"
   ]
  },
  {
   "cell_type": "markdown",
   "metadata": {},
   "source": [
    "Here is the comparsion between Full Model (with all variables) and Reduced Model (with influential variables). Rows are different learning rate, table values are rmse values for each fitted model."
   ]
  },
  {
   "cell_type": "markdown",
   "metadata": {},
   "source": [
    "|   |  Full Model |  Reduced Model  | Ideal Error\n",
    "|---|---|---| --- |\n",
    "| 0.1  | nan | 3671  | 67.3 |\n",
    "| 0.05 | 304 |  89 | 67.3 |\n",
    "| 0.01 | 74 |  70 | 67.3 |\n",
    "| 0.001 | 68 | 68  | 67.3 |\n"
   ]
  },
  {
   "cell_type": "markdown",
   "metadata": {},
   "source": [
    "With less influential variables filtered, SGD will be able to learn the linear regression model more quickly, while the final model accuracy does not change too much."
   ]
  },
  {
   "cell_type": "code",
   "execution_count": 34,
   "metadata": {
    "collapsed": false,
    "scrolled": false
   },
   "outputs": [
    {
     "data": {
      "image/png": "[encoded data removed]",
      "text/plain": [
       "<matplotlib.figure.Figure at 0x110167eb8>"
      ]
     },
     "metadata": {},
     "output_type": "display_data"
    },
    {
     "data": {
      "image/png": "[encoded data removed]",
      "text/plain": [
       "<matplotlib.figure.Figure at 0x115cef320>"
      ]
     },
     "metadata": {},
     "output_type": "display_data"
    }
   ],
   "source": [
    "plt.plot(predict[:,0], 'o', color='blue', label = 'predict')\n",
    "plt.plot(Ttest[:,0], 'o', color='red', label = 'target')\n",
    "plt.legend()\n",
    "plt.title(\"Appliances, energy use in Wh\")\n",
    "# plt.legend('predict', 'Target')\n",
    "plt.show()\n",
    "\n",
    "plt.plot(predict[:,1], 'o', color='blue', label = 'predict')\n",
    "plt.plot(Ttest[:,1], 'o', color='red', label = 'target')\n",
    "plt.legend()\n",
    "plt.title(\"lights, energy use of light fixtures in the house in Wh\")\n",
    "# plt.legend('predict', 'Target')\n",
    "plt.show()"
   ]
  },
  {
   "cell_type": "markdown",
   "metadata": {},
   "source": [
    "Although we used reduced variables, the fitted model still does not perform ideally."
   ]
  },
  {
   "cell_type": "code",
   "execution_count": 35,
   "metadata": {
    "collapsed": false
   },
   "outputs": [
    {
     "data": {
      "text/plain": [
       "(67.565573969499852, 65.585939896907107)"
      ]
     },
     "execution_count": 35,
     "metadata": {},
     "output_type": "execute_result"
    }
   ],
   "source": [
    "model = train(Xtrain, Ttrain)\n",
    "predict = use(model, Xtrain)\n",
    "error1 = rmse(predict, Ttrain)\n",
    "predict = use(model, Xtest)\n",
    "error2 = rmse(predict, Ttest)\n",
    "error1, error2"
   ]
  },
  {
   "cell_type": "markdown",
   "metadata": {},
   "source": [
    "The model predict bad on light energy use, decent on appliances energy use. The RMSE for training data set is 66.76 while for the testing data set is 68.80, which are quite similar and close. So we can conclude that, although the model does not predicts very well on target values, but the model itself fits well considering RMSE for training and testing data."
   ]
  },
  {
   "cell_type": "code",
   "execution_count": 36,
   "metadata": {
    "collapsed": false
   },
   "outputs": [
    {
     "name": "stdout",
     "output_type": "stream",
     "text": [
      "\n",
      "======================= Code Execution =======================\n",
      "\n",
      "Extracting python code from notebook and storing in notebookcode.py\n",
      "Removing all statements that are not function or class defs or import statements.\n",
      "Testing rmse(A, B) with\n",
      " A =\n",
      "[[1 2 3]\n",
      " [4 5 6]]\n",
      " and B =\n",
      "[[2 3 4]\n",
      " [5 6 7]]\n",
      "\n",
      "--- 10/10 points. Correctly returned 1.0\n",
      "\n",
      "Testing model = train(X, T) with\n",
      " X=\n",
      "[[ 0  1  2]\n",
      " [ 3  4  5]\n",
      " [ 6  7  8]\n",
      " [18 20 22]\n",
      " [24 26 28]]\n",
      " and T=\n",
      "[[  0.2   1.2]\n",
      " [  5.    6. ]\n",
      " [ 11.6  12.6]\n",
      " [ 62.   64. ]\n",
      " [ 96.8  98.8]]\n",
      "\n",
      "--- 5/5 points. Model correctly includes a key named 'means'.\n",
      "\n",
      "--- 5/5 points. Model correctly includes a key named 'stds'.\n",
      "\n",
      "--- 5/5 points. Model correctly includes a key named 'w'.\n",
      "\n",
      "Testing rmse(T, use(model, X))\n",
      "\n",
      "--- 15/15 points. Error is correctly calculated as 5.2427092232928585.\n",
      "\n",
      "Testing model = trainSGD(X, T, 0.01, 1000) with\n",
      " X=\n",
      "[[ 0  1  2]\n",
      " [ 3  4  5]\n",
      " [ 6  7  8]\n",
      " [18 20 22]\n",
      " [24 26 28]]\n",
      " and T=\n",
      "[[  0.2   1.2]\n",
      " [  5.    6. ]\n",
      " [ 11.6  12.6]\n",
      " [ 62.   64. ]\n",
      " [ 96.8  98.8]]\n",
      "\n",
      "--- 5/5 points. Model correctly includes a key named 'means'.\n",
      "\n",
      "--- 5/5 points. Model correctly includes a key named 'stds'.\n",
      "\n",
      "--- 5/5 points. Model correctly includes a key named 'w'.\n",
      "\n",
      "Testing rmse(T, use(model, X))\n",
      "\n",
      "--- 15/15 points. Error is correctly calculated as 5.2497852474720075.\n",
      "\n",
      "Assignments Execution Grade is 70/70\n",
      "\n",
      "======================= Plots and Descriptions =======================\n",
      "\n",
      "--- _/5 points. Descriptions of data, including plots.\n",
      "\n",
      "--- _/5 points. Descriptions of algorithms for fitting linear model.\n",
      "\n",
      "--- _/5 points. Descriptions of code for all defined functions.\n",
      "\n",
      "--- _/5 points. Plots of predictions made by models from train and trainSGD. Must at least include predicted values versus actual values for each target variable and for each model.\n",
      "\n",
      "--- _/5 points. Discussions of the above plots of predictions and actual values.\n",
      "\n",
      "--- _/5 points. Discussion of accuracy of each model.  Refer to RMSE values and what they mean with respect to the range of target values.\n",
      "\n",
      "Assignments Notebook Grade is __/30\n",
      "\n",
      "Assignments FINAL GRADE is __/100\n"
     ]
    }
   ],
   "source": [
    "%run -i \"A1grader.py\""
   ]
  },
  {
   "cell_type": "markdown",
   "metadata": {},
   "source": [
    "## Data Sample 2"
   ]
  },
  {
   "cell_type": "code",
   "execution_count": 37,
   "metadata": {
    "collapsed": true
   },
   "outputs": [],
   "source": [
    "# !wget https://archive.ics.uci.edu/ml/machine-learning-databases/00381/PRSA_data_2010.1.1-2014.12.31.csv"
   ]
  },
  {
   "cell_type": "markdown",
   "metadata": {},
   "source": [
    "This hourly data set contains the PM2.5 data of US Embassy in Beijing. Meanwhile, meteorological data from Beijing Capital International Airport are also included.\n",
    "\n",
    "Attribute Information:\n",
    "\n",
    "- No: row number \n",
    "- year: year of data in this row \n",
    "- month: month of data in this row \n",
    "- day: day of data in this row \n",
    "- hour: hour of data in this row \n",
    "- pm2.5: PM2.5 concentration (ug/m^3) \n",
    "- DEWP: Dew Point (â„ƒ) \n",
    "- TEMP: Temperature (â„ƒ) \n",
    "- PRES: Pressure (hPa) \n",
    "- cbwd: Combined wind direction \n",
    "- Iws: Cumulated wind speed (m/s) \n",
    "- Is: Cumulated hours of snow \n",
    "- Ir: Cumulated hours of rain \n",
    "\n"
   ]
  },
  {
   "cell_type": "code",
   "execution_count": 38,
   "metadata": {
    "collapsed": true
   },
   "outputs": [],
   "source": [
    "df = pd.read_csv(\"PRSA_data_2010.1.1-2014.12.31.csv\")"
   ]
  },
  {
   "cell_type": "code",
   "execution_count": 39,
   "metadata": {
    "collapsed": false,
    "scrolled": true
   },
   "outputs": [
    {
     "data": {
      "text/plain": [
       "array(['NW', 'cv', 'NE', 'SE'], dtype=object)"
      ]
     },
     "execution_count": 39,
     "metadata": {},
     "output_type": "execute_result"
    }
   ],
   "source": [
    "df.cbwd.unique()"
   ]
  },
  {
   "cell_type": "code",
   "execution_count": 40,
   "metadata": {
    "collapsed": false,
    "scrolled": true
   },
   "outputs": [
    {
     "data": {
      "text/html": [
       "<div>\n",
       "<table border=\"1\" class=\"dataframe\">\n",
       "  <thead>\n",
       "    <tr style=\"text-align: right;\">\n",
       "      <th></th>\n",
       "      <th>No</th>\n",
       "      <th>year</th>\n",
       "      <th>month</th>\n",
       "      <th>day</th>\n",
       "      <th>hour</th>\n",
       "      <th>pm2.5</th>\n",
       "      <th>DEWP</th>\n",
       "      <th>TEMP</th>\n",
       "      <th>PRES</th>\n",
       "      <th>cbwd</th>\n",
       "      <th>Iws</th>\n",
       "      <th>Is</th>\n",
       "      <th>Ir</th>\n",
       "    </tr>\n",
       "  </thead>\n",
       "  <tbody>\n",
       "    <tr>\n",
       "      <th>24</th>\n",
       "      <td>25</td>\n",
       "      <td>2010</td>\n",
       "      <td>1</td>\n",
       "      <td>2</td>\n",
       "      <td>0</td>\n",
       "      <td>129.0</td>\n",
       "      <td>-16</td>\n",
       "      <td>-4.0</td>\n",
       "      <td>1020.0</td>\n",
       "      <td>3</td>\n",
       "      <td>1.79</td>\n",
       "      <td>0</td>\n",
       "      <td>0</td>\n",
       "    </tr>\n",
       "    <tr>\n",
       "      <th>25</th>\n",
       "      <td>26</td>\n",
       "      <td>2010</td>\n",
       "      <td>1</td>\n",
       "      <td>2</td>\n",
       "      <td>1</td>\n",
       "      <td>148.0</td>\n",
       "      <td>-15</td>\n",
       "      <td>-4.0</td>\n",
       "      <td>1020.0</td>\n",
       "      <td>3</td>\n",
       "      <td>2.68</td>\n",
       "      <td>0</td>\n",
       "      <td>0</td>\n",
       "    </tr>\n",
       "    <tr>\n",
       "      <th>26</th>\n",
       "      <td>27</td>\n",
       "      <td>2010</td>\n",
       "      <td>1</td>\n",
       "      <td>2</td>\n",
       "      <td>2</td>\n",
       "      <td>159.0</td>\n",
       "      <td>-11</td>\n",
       "      <td>-5.0</td>\n",
       "      <td>1021.0</td>\n",
       "      <td>3</td>\n",
       "      <td>3.57</td>\n",
       "      <td>0</td>\n",
       "      <td>0</td>\n",
       "    </tr>\n",
       "    <tr>\n",
       "      <th>27</th>\n",
       "      <td>28</td>\n",
       "      <td>2010</td>\n",
       "      <td>1</td>\n",
       "      <td>2</td>\n",
       "      <td>3</td>\n",
       "      <td>181.0</td>\n",
       "      <td>-7</td>\n",
       "      <td>-5.0</td>\n",
       "      <td>1022.0</td>\n",
       "      <td>3</td>\n",
       "      <td>5.36</td>\n",
       "      <td>1</td>\n",
       "      <td>0</td>\n",
       "    </tr>\n",
       "    <tr>\n",
       "      <th>28</th>\n",
       "      <td>29</td>\n",
       "      <td>2010</td>\n",
       "      <td>1</td>\n",
       "      <td>2</td>\n",
       "      <td>4</td>\n",
       "      <td>138.0</td>\n",
       "      <td>-7</td>\n",
       "      <td>-5.0</td>\n",
       "      <td>1022.0</td>\n",
       "      <td>3</td>\n",
       "      <td>6.25</td>\n",
       "      <td>2</td>\n",
       "      <td>0</td>\n",
       "    </tr>\n",
       "    <tr>\n",
       "      <th>29</th>\n",
       "      <td>30</td>\n",
       "      <td>2010</td>\n",
       "      <td>1</td>\n",
       "      <td>2</td>\n",
       "      <td>5</td>\n",
       "      <td>109.0</td>\n",
       "      <td>-7</td>\n",
       "      <td>-6.0</td>\n",
       "      <td>1022.0</td>\n",
       "      <td>3</td>\n",
       "      <td>7.14</td>\n",
       "      <td>3</td>\n",
       "      <td>0</td>\n",
       "    </tr>\n",
       "    <tr>\n",
       "      <th>30</th>\n",
       "      <td>31</td>\n",
       "      <td>2010</td>\n",
       "      <td>1</td>\n",
       "      <td>2</td>\n",
       "      <td>6</td>\n",
       "      <td>105.0</td>\n",
       "      <td>-7</td>\n",
       "      <td>-6.0</td>\n",
       "      <td>1023.0</td>\n",
       "      <td>3</td>\n",
       "      <td>8.93</td>\n",
       "      <td>4</td>\n",
       "      <td>0</td>\n",
       "    </tr>\n",
       "    <tr>\n",
       "      <th>31</th>\n",
       "      <td>32</td>\n",
       "      <td>2010</td>\n",
       "      <td>1</td>\n",
       "      <td>2</td>\n",
       "      <td>7</td>\n",
       "      <td>124.0</td>\n",
       "      <td>-7</td>\n",
       "      <td>-5.0</td>\n",
       "      <td>1024.0</td>\n",
       "      <td>3</td>\n",
       "      <td>10.72</td>\n",
       "      <td>0</td>\n",
       "      <td>0</td>\n",
       "    </tr>\n",
       "    <tr>\n",
       "      <th>32</th>\n",
       "      <td>33</td>\n",
       "      <td>2010</td>\n",
       "      <td>1</td>\n",
       "      <td>2</td>\n",
       "      <td>8</td>\n",
       "      <td>120.0</td>\n",
       "      <td>-8</td>\n",
       "      <td>-6.0</td>\n",
       "      <td>1024.0</td>\n",
       "      <td>3</td>\n",
       "      <td>12.51</td>\n",
       "      <td>0</td>\n",
       "      <td>0</td>\n",
       "    </tr>\n",
       "    <tr>\n",
       "      <th>33</th>\n",
       "      <td>34</td>\n",
       "      <td>2010</td>\n",
       "      <td>1</td>\n",
       "      <td>2</td>\n",
       "      <td>9</td>\n",
       "      <td>132.0</td>\n",
       "      <td>-7</td>\n",
       "      <td>-5.0</td>\n",
       "      <td>1025.0</td>\n",
       "      <td>3</td>\n",
       "      <td>14.30</td>\n",
       "      <td>0</td>\n",
       "      <td>0</td>\n",
       "    </tr>\n",
       "    <tr>\n",
       "      <th>34</th>\n",
       "      <td>35</td>\n",
       "      <td>2010</td>\n",
       "      <td>1</td>\n",
       "      <td>2</td>\n",
       "      <td>10</td>\n",
       "      <td>140.0</td>\n",
       "      <td>-7</td>\n",
       "      <td>-5.0</td>\n",
       "      <td>1026.0</td>\n",
       "      <td>3</td>\n",
       "      <td>17.43</td>\n",
       "      <td>1</td>\n",
       "      <td>0</td>\n",
       "    </tr>\n",
       "    <tr>\n",
       "      <th>35</th>\n",
       "      <td>36</td>\n",
       "      <td>2010</td>\n",
       "      <td>1</td>\n",
       "      <td>2</td>\n",
       "      <td>11</td>\n",
       "      <td>152.0</td>\n",
       "      <td>-8</td>\n",
       "      <td>-5.0</td>\n",
       "      <td>1026.0</td>\n",
       "      <td>3</td>\n",
       "      <td>20.56</td>\n",
       "      <td>0</td>\n",
       "      <td>0</td>\n",
       "    </tr>\n",
       "    <tr>\n",
       "      <th>36</th>\n",
       "      <td>37</td>\n",
       "      <td>2010</td>\n",
       "      <td>1</td>\n",
       "      <td>2</td>\n",
       "      <td>12</td>\n",
       "      <td>148.0</td>\n",
       "      <td>-8</td>\n",
       "      <td>-5.0</td>\n",
       "      <td>1026.0</td>\n",
       "      <td>3</td>\n",
       "      <td>23.69</td>\n",
       "      <td>0</td>\n",
       "      <td>0</td>\n",
       "    </tr>\n",
       "    <tr>\n",
       "      <th>37</th>\n",
       "      <td>38</td>\n",
       "      <td>2010</td>\n",
       "      <td>1</td>\n",
       "      <td>2</td>\n",
       "      <td>13</td>\n",
       "      <td>164.0</td>\n",
       "      <td>-8</td>\n",
       "      <td>-5.0</td>\n",
       "      <td>1025.0</td>\n",
       "      <td>3</td>\n",
       "      <td>27.71</td>\n",
       "      <td>0</td>\n",
       "      <td>0</td>\n",
       "    </tr>\n",
       "    <tr>\n",
       "      <th>38</th>\n",
       "      <td>39</td>\n",
       "      <td>2010</td>\n",
       "      <td>1</td>\n",
       "      <td>2</td>\n",
       "      <td>14</td>\n",
       "      <td>158.0</td>\n",
       "      <td>-9</td>\n",
       "      <td>-5.0</td>\n",
       "      <td>1025.0</td>\n",
       "      <td>3</td>\n",
       "      <td>31.73</td>\n",
       "      <td>0</td>\n",
       "      <td>0</td>\n",
       "    </tr>\n",
       "    <tr>\n",
       "      <th>39</th>\n",
       "      <td>40</td>\n",
       "      <td>2010</td>\n",
       "      <td>1</td>\n",
       "      <td>2</td>\n",
       "      <td>15</td>\n",
       "      <td>154.0</td>\n",
       "      <td>-9</td>\n",
       "      <td>-5.0</td>\n",
       "      <td>1025.0</td>\n",
       "      <td>3</td>\n",
       "      <td>35.75</td>\n",
       "      <td>0</td>\n",
       "      <td>0</td>\n",
       "    </tr>\n",
       "    <tr>\n",
       "      <th>40</th>\n",
       "      <td>41</td>\n",
       "      <td>2010</td>\n",
       "      <td>1</td>\n",
       "      <td>2</td>\n",
       "      <td>16</td>\n",
       "      <td>159.0</td>\n",
       "      <td>-9</td>\n",
       "      <td>-5.0</td>\n",
       "      <td>1026.0</td>\n",
       "      <td>3</td>\n",
       "      <td>37.54</td>\n",
       "      <td>0</td>\n",
       "      <td>0</td>\n",
       "    </tr>\n",
       "    <tr>\n",
       "      <th>41</th>\n",
       "      <td>42</td>\n",
       "      <td>2010</td>\n",
       "      <td>1</td>\n",
       "      <td>2</td>\n",
       "      <td>17</td>\n",
       "      <td>164.0</td>\n",
       "      <td>-8</td>\n",
       "      <td>-5.0</td>\n",
       "      <td>1027.0</td>\n",
       "      <td>3</td>\n",
       "      <td>39.33</td>\n",
       "      <td>0</td>\n",
       "      <td>0</td>\n",
       "    </tr>\n",
       "    <tr>\n",
       "      <th>42</th>\n",
       "      <td>43</td>\n",
       "      <td>2010</td>\n",
       "      <td>1</td>\n",
       "      <td>2</td>\n",
       "      <td>18</td>\n",
       "      <td>170.0</td>\n",
       "      <td>-8</td>\n",
       "      <td>-5.0</td>\n",
       "      <td>1027.0</td>\n",
       "      <td>3</td>\n",
       "      <td>42.46</td>\n",
       "      <td>0</td>\n",
       "      <td>0</td>\n",
       "    </tr>\n",
       "    <tr>\n",
       "      <th>43</th>\n",
       "      <td>44</td>\n",
       "      <td>2010</td>\n",
       "      <td>1</td>\n",
       "      <td>2</td>\n",
       "      <td>19</td>\n",
       "      <td>149.0</td>\n",
       "      <td>-8</td>\n",
       "      <td>-5.0</td>\n",
       "      <td>1028.0</td>\n",
       "      <td>3</td>\n",
       "      <td>44.25</td>\n",
       "      <td>0</td>\n",
       "      <td>0</td>\n",
       "    </tr>\n",
       "    <tr>\n",
       "      <th>44</th>\n",
       "      <td>45</td>\n",
       "      <td>2010</td>\n",
       "      <td>1</td>\n",
       "      <td>2</td>\n",
       "      <td>20</td>\n",
       "      <td>154.0</td>\n",
       "      <td>-7</td>\n",
       "      <td>-5.0</td>\n",
       "      <td>1028.0</td>\n",
       "      <td>3</td>\n",
       "      <td>46.04</td>\n",
       "      <td>0</td>\n",
       "      <td>0</td>\n",
       "    </tr>\n",
       "    <tr>\n",
       "      <th>45</th>\n",
       "      <td>46</td>\n",
       "      <td>2010</td>\n",
       "      <td>1</td>\n",
       "      <td>2</td>\n",
       "      <td>21</td>\n",
       "      <td>164.0</td>\n",
       "      <td>-7</td>\n",
       "      <td>-5.0</td>\n",
       "      <td>1027.0</td>\n",
       "      <td>3</td>\n",
       "      <td>49.17</td>\n",
       "      <td>1</td>\n",
       "      <td>0</td>\n",
       "    </tr>\n",
       "    <tr>\n",
       "      <th>46</th>\n",
       "      <td>47</td>\n",
       "      <td>2010</td>\n",
       "      <td>1</td>\n",
       "      <td>2</td>\n",
       "      <td>22</td>\n",
       "      <td>156.0</td>\n",
       "      <td>-8</td>\n",
       "      <td>-6.0</td>\n",
       "      <td>1028.0</td>\n",
       "      <td>3</td>\n",
       "      <td>52.30</td>\n",
       "      <td>2</td>\n",
       "      <td>0</td>\n",
       "    </tr>\n",
       "    <tr>\n",
       "      <th>47</th>\n",
       "      <td>48</td>\n",
       "      <td>2010</td>\n",
       "      <td>1</td>\n",
       "      <td>2</td>\n",
       "      <td>23</td>\n",
       "      <td>126.0</td>\n",
       "      <td>-8</td>\n",
       "      <td>-6.0</td>\n",
       "      <td>1027.0</td>\n",
       "      <td>3</td>\n",
       "      <td>55.43</td>\n",
       "      <td>3</td>\n",
       "      <td>0</td>\n",
       "    </tr>\n",
       "    <tr>\n",
       "      <th>48</th>\n",
       "      <td>49</td>\n",
       "      <td>2010</td>\n",
       "      <td>1</td>\n",
       "      <td>3</td>\n",
       "      <td>0</td>\n",
       "      <td>90.0</td>\n",
       "      <td>-7</td>\n",
       "      <td>-6.0</td>\n",
       "      <td>1027.0</td>\n",
       "      <td>3</td>\n",
       "      <td>58.56</td>\n",
       "      <td>4</td>\n",
       "      <td>0</td>\n",
       "    </tr>\n",
       "    <tr>\n",
       "      <th>49</th>\n",
       "      <td>50</td>\n",
       "      <td>2010</td>\n",
       "      <td>1</td>\n",
       "      <td>3</td>\n",
       "      <td>1</td>\n",
       "      <td>63.0</td>\n",
       "      <td>-8</td>\n",
       "      <td>-6.0</td>\n",
       "      <td>1026.0</td>\n",
       "      <td>3</td>\n",
       "      <td>61.69</td>\n",
       "      <td>5</td>\n",
       "      <td>0</td>\n",
       "    </tr>\n",
       "    <tr>\n",
       "      <th>50</th>\n",
       "      <td>51</td>\n",
       "      <td>2010</td>\n",
       "      <td>1</td>\n",
       "      <td>3</td>\n",
       "      <td>2</td>\n",
       "      <td>65.0</td>\n",
       "      <td>-8</td>\n",
       "      <td>-7.0</td>\n",
       "      <td>1026.0</td>\n",
       "      <td>3</td>\n",
       "      <td>65.71</td>\n",
       "      <td>6</td>\n",
       "      <td>0</td>\n",
       "    </tr>\n",
       "    <tr>\n",
       "      <th>51</th>\n",
       "      <td>52</td>\n",
       "      <td>2010</td>\n",
       "      <td>1</td>\n",
       "      <td>3</td>\n",
       "      <td>3</td>\n",
       "      <td>55.0</td>\n",
       "      <td>-8</td>\n",
       "      <td>-7.0</td>\n",
       "      <td>1025.0</td>\n",
       "      <td>3</td>\n",
       "      <td>68.84</td>\n",
       "      <td>7</td>\n",
       "      <td>0</td>\n",
       "    </tr>\n",
       "    <tr>\n",
       "      <th>52</th>\n",
       "      <td>53</td>\n",
       "      <td>2010</td>\n",
       "      <td>1</td>\n",
       "      <td>3</td>\n",
       "      <td>4</td>\n",
       "      <td>65.0</td>\n",
       "      <td>-8</td>\n",
       "      <td>-7.0</td>\n",
       "      <td>1024.0</td>\n",
       "      <td>3</td>\n",
       "      <td>72.86</td>\n",
       "      <td>8</td>\n",
       "      <td>0</td>\n",
       "    </tr>\n",
       "    <tr>\n",
       "      <th>53</th>\n",
       "      <td>54</td>\n",
       "      <td>2010</td>\n",
       "      <td>1</td>\n",
       "      <td>3</td>\n",
       "      <td>5</td>\n",
       "      <td>83.0</td>\n",
       "      <td>-9</td>\n",
       "      <td>-8.0</td>\n",
       "      <td>1024.0</td>\n",
       "      <td>3</td>\n",
       "      <td>76.88</td>\n",
       "      <td>9</td>\n",
       "      <td>0</td>\n",
       "    </tr>\n",
       "    <tr>\n",
       "      <th>...</th>\n",
       "      <td>...</td>\n",
       "      <td>...</td>\n",
       "      <td>...</td>\n",
       "      <td>...</td>\n",
       "      <td>...</td>\n",
       "      <td>...</td>\n",
       "      <td>...</td>\n",
       "      <td>...</td>\n",
       "      <td>...</td>\n",
       "      <td>...</td>\n",
       "      <td>...</td>\n",
       "      <td>...</td>\n",
       "      <td>...</td>\n",
       "    </tr>\n",
       "    <tr>\n",
       "      <th>43794</th>\n",
       "      <td>43795</td>\n",
       "      <td>2014</td>\n",
       "      <td>12</td>\n",
       "      <td>30</td>\n",
       "      <td>18</td>\n",
       "      <td>79.0</td>\n",
       "      <td>-13</td>\n",
       "      <td>2.0</td>\n",
       "      <td>1020.0</td>\n",
       "      <td>1</td>\n",
       "      <td>3.58</td>\n",
       "      <td>0</td>\n",
       "      <td>0</td>\n",
       "    </tr>\n",
       "    <tr>\n",
       "      <th>43795</th>\n",
       "      <td>43796</td>\n",
       "      <td>2014</td>\n",
       "      <td>12</td>\n",
       "      <td>30</td>\n",
       "      <td>19</td>\n",
       "      <td>35.0</td>\n",
       "      <td>-8</td>\n",
       "      <td>6.0</td>\n",
       "      <td>1021.0</td>\n",
       "      <td>2</td>\n",
       "      <td>5.81</td>\n",
       "      <td>0</td>\n",
       "      <td>0</td>\n",
       "    </tr>\n",
       "    <tr>\n",
       "      <th>43796</th>\n",
       "      <td>43797</td>\n",
       "      <td>2014</td>\n",
       "      <td>12</td>\n",
       "      <td>30</td>\n",
       "      <td>20</td>\n",
       "      <td>26.0</td>\n",
       "      <td>-11</td>\n",
       "      <td>5.0</td>\n",
       "      <td>1022.0</td>\n",
       "      <td>2</td>\n",
       "      <td>12.96</td>\n",
       "      <td>0</td>\n",
       "      <td>0</td>\n",
       "    </tr>\n",
       "    <tr>\n",
       "      <th>43797</th>\n",
       "      <td>43798</td>\n",
       "      <td>2014</td>\n",
       "      <td>12</td>\n",
       "      <td>30</td>\n",
       "      <td>21</td>\n",
       "      <td>20.0</td>\n",
       "      <td>-12</td>\n",
       "      <td>4.0</td>\n",
       "      <td>1023.0</td>\n",
       "      <td>2</td>\n",
       "      <td>21.90</td>\n",
       "      <td>0</td>\n",
       "      <td>0</td>\n",
       "    </tr>\n",
       "    <tr>\n",
       "      <th>43798</th>\n",
       "      <td>43799</td>\n",
       "      <td>2014</td>\n",
       "      <td>12</td>\n",
       "      <td>30</td>\n",
       "      <td>22</td>\n",
       "      <td>8.0</td>\n",
       "      <td>-21</td>\n",
       "      <td>2.0</td>\n",
       "      <td>1025.0</td>\n",
       "      <td>2</td>\n",
       "      <td>31.73</td>\n",
       "      <td>0</td>\n",
       "      <td>0</td>\n",
       "    </tr>\n",
       "    <tr>\n",
       "      <th>43799</th>\n",
       "      <td>43800</td>\n",
       "      <td>2014</td>\n",
       "      <td>12</td>\n",
       "      <td>30</td>\n",
       "      <td>23</td>\n",
       "      <td>16.0</td>\n",
       "      <td>-22</td>\n",
       "      <td>0.0</td>\n",
       "      <td>1026.0</td>\n",
       "      <td>2</td>\n",
       "      <td>38.88</td>\n",
       "      <td>0</td>\n",
       "      <td>0</td>\n",
       "    </tr>\n",
       "    <tr>\n",
       "      <th>43800</th>\n",
       "      <td>43801</td>\n",
       "      <td>2014</td>\n",
       "      <td>12</td>\n",
       "      <td>31</td>\n",
       "      <td>0</td>\n",
       "      <td>10.0</td>\n",
       "      <td>-19</td>\n",
       "      <td>-1.0</td>\n",
       "      <td>1027.0</td>\n",
       "      <td>2</td>\n",
       "      <td>51.84</td>\n",
       "      <td>0</td>\n",
       "      <td>0</td>\n",
       "    </tr>\n",
       "    <tr>\n",
       "      <th>43801</th>\n",
       "      <td>43802</td>\n",
       "      <td>2014</td>\n",
       "      <td>12</td>\n",
       "      <td>31</td>\n",
       "      <td>1</td>\n",
       "      <td>11.0</td>\n",
       "      <td>-18</td>\n",
       "      <td>-1.0</td>\n",
       "      <td>1028.0</td>\n",
       "      <td>2</td>\n",
       "      <td>61.67</td>\n",
       "      <td>0</td>\n",
       "      <td>0</td>\n",
       "    </tr>\n",
       "    <tr>\n",
       "      <th>43802</th>\n",
       "      <td>43803</td>\n",
       "      <td>2014</td>\n",
       "      <td>12</td>\n",
       "      <td>31</td>\n",
       "      <td>2</td>\n",
       "      <td>20.0</td>\n",
       "      <td>-17</td>\n",
       "      <td>-1.0</td>\n",
       "      <td>1028.0</td>\n",
       "      <td>2</td>\n",
       "      <td>70.61</td>\n",
       "      <td>0</td>\n",
       "      <td>0</td>\n",
       "    </tr>\n",
       "    <tr>\n",
       "      <th>43803</th>\n",
       "      <td>43804</td>\n",
       "      <td>2014</td>\n",
       "      <td>12</td>\n",
       "      <td>31</td>\n",
       "      <td>3</td>\n",
       "      <td>9.0</td>\n",
       "      <td>-17</td>\n",
       "      <td>-1.0</td>\n",
       "      <td>1029.0</td>\n",
       "      <td>2</td>\n",
       "      <td>81.79</td>\n",
       "      <td>0</td>\n",
       "      <td>0</td>\n",
       "    </tr>\n",
       "    <tr>\n",
       "      <th>43804</th>\n",
       "      <td>43805</td>\n",
       "      <td>2014</td>\n",
       "      <td>12</td>\n",
       "      <td>31</td>\n",
       "      <td>4</td>\n",
       "      <td>8.0</td>\n",
       "      <td>-19</td>\n",
       "      <td>-2.0</td>\n",
       "      <td>1030.0</td>\n",
       "      <td>2</td>\n",
       "      <td>94.75</td>\n",
       "      <td>0</td>\n",
       "      <td>0</td>\n",
       "    </tr>\n",
       "    <tr>\n",
       "      <th>43805</th>\n",
       "      <td>43806</td>\n",
       "      <td>2014</td>\n",
       "      <td>12</td>\n",
       "      <td>31</td>\n",
       "      <td>5</td>\n",
       "      <td>9.0</td>\n",
       "      <td>-21</td>\n",
       "      <td>-3.0</td>\n",
       "      <td>1030.0</td>\n",
       "      <td>2</td>\n",
       "      <td>109.95</td>\n",
       "      <td>0</td>\n",
       "      <td>0</td>\n",
       "    </tr>\n",
       "    <tr>\n",
       "      <th>43806</th>\n",
       "      <td>43807</td>\n",
       "      <td>2014</td>\n",
       "      <td>12</td>\n",
       "      <td>31</td>\n",
       "      <td>6</td>\n",
       "      <td>8.0</td>\n",
       "      <td>-23</td>\n",
       "      <td>-4.0</td>\n",
       "      <td>1032.0</td>\n",
       "      <td>2</td>\n",
       "      <td>130.07</td>\n",
       "      <td>0</td>\n",
       "      <td>0</td>\n",
       "    </tr>\n",
       "    <tr>\n",
       "      <th>43807</th>\n",
       "      <td>43808</td>\n",
       "      <td>2014</td>\n",
       "      <td>12</td>\n",
       "      <td>31</td>\n",
       "      <td>7</td>\n",
       "      <td>8.0</td>\n",
       "      <td>-22</td>\n",
       "      <td>-5.0</td>\n",
       "      <td>1034.0</td>\n",
       "      <td>2</td>\n",
       "      <td>143.03</td>\n",
       "      <td>0</td>\n",
       "      <td>0</td>\n",
       "    </tr>\n",
       "    <tr>\n",
       "      <th>43808</th>\n",
       "      <td>43809</td>\n",
       "      <td>2014</td>\n",
       "      <td>12</td>\n",
       "      <td>31</td>\n",
       "      <td>8</td>\n",
       "      <td>8.0</td>\n",
       "      <td>-22</td>\n",
       "      <td>-5.0</td>\n",
       "      <td>1034.0</td>\n",
       "      <td>2</td>\n",
       "      <td>150.18</td>\n",
       "      <td>0</td>\n",
       "      <td>0</td>\n",
       "    </tr>\n",
       "    <tr>\n",
       "      <th>43809</th>\n",
       "      <td>43810</td>\n",
       "      <td>2014</td>\n",
       "      <td>12</td>\n",
       "      <td>31</td>\n",
       "      <td>9</td>\n",
       "      <td>8.0</td>\n",
       "      <td>-22</td>\n",
       "      <td>-3.0</td>\n",
       "      <td>1034.0</td>\n",
       "      <td>2</td>\n",
       "      <td>155.99</td>\n",
       "      <td>0</td>\n",
       "      <td>0</td>\n",
       "    </tr>\n",
       "    <tr>\n",
       "      <th>43810</th>\n",
       "      <td>43811</td>\n",
       "      <td>2014</td>\n",
       "      <td>12</td>\n",
       "      <td>31</td>\n",
       "      <td>10</td>\n",
       "      <td>7.0</td>\n",
       "      <td>-22</td>\n",
       "      <td>-2.0</td>\n",
       "      <td>1034.0</td>\n",
       "      <td>2</td>\n",
       "      <td>163.14</td>\n",
       "      <td>0</td>\n",
       "      <td>0</td>\n",
       "    </tr>\n",
       "    <tr>\n",
       "      <th>43811</th>\n",
       "      <td>43812</td>\n",
       "      <td>2014</td>\n",
       "      <td>12</td>\n",
       "      <td>31</td>\n",
       "      <td>11</td>\n",
       "      <td>12.0</td>\n",
       "      <td>-22</td>\n",
       "      <td>-2.0</td>\n",
       "      <td>1034.0</td>\n",
       "      <td>2</td>\n",
       "      <td>170.29</td>\n",
       "      <td>0</td>\n",
       "      <td>0</td>\n",
       "    </tr>\n",
       "    <tr>\n",
       "      <th>43812</th>\n",
       "      <td>43813</td>\n",
       "      <td>2014</td>\n",
       "      <td>12</td>\n",
       "      <td>31</td>\n",
       "      <td>12</td>\n",
       "      <td>17.0</td>\n",
       "      <td>-22</td>\n",
       "      <td>0.0</td>\n",
       "      <td>1033.0</td>\n",
       "      <td>2</td>\n",
       "      <td>177.44</td>\n",
       "      <td>0</td>\n",
       "      <td>0</td>\n",
       "    </tr>\n",
       "    <tr>\n",
       "      <th>43813</th>\n",
       "      <td>43814</td>\n",
       "      <td>2014</td>\n",
       "      <td>12</td>\n",
       "      <td>31</td>\n",
       "      <td>13</td>\n",
       "      <td>11.0</td>\n",
       "      <td>-27</td>\n",
       "      <td>0.0</td>\n",
       "      <td>1032.0</td>\n",
       "      <td>2</td>\n",
       "      <td>186.38</td>\n",
       "      <td>0</td>\n",
       "      <td>0</td>\n",
       "    </tr>\n",
       "    <tr>\n",
       "      <th>43814</th>\n",
       "      <td>43815</td>\n",
       "      <td>2014</td>\n",
       "      <td>12</td>\n",
       "      <td>31</td>\n",
       "      <td>14</td>\n",
       "      <td>9.0</td>\n",
       "      <td>-27</td>\n",
       "      <td>1.0</td>\n",
       "      <td>1032.0</td>\n",
       "      <td>2</td>\n",
       "      <td>196.21</td>\n",
       "      <td>0</td>\n",
       "      <td>0</td>\n",
       "    </tr>\n",
       "    <tr>\n",
       "      <th>43815</th>\n",
       "      <td>43816</td>\n",
       "      <td>2014</td>\n",
       "      <td>12</td>\n",
       "      <td>31</td>\n",
       "      <td>15</td>\n",
       "      <td>11.0</td>\n",
       "      <td>-26</td>\n",
       "      <td>1.0</td>\n",
       "      <td>1032.0</td>\n",
       "      <td>2</td>\n",
       "      <td>205.15</td>\n",
       "      <td>0</td>\n",
       "      <td>0</td>\n",
       "    </tr>\n",
       "    <tr>\n",
       "      <th>43816</th>\n",
       "      <td>43817</td>\n",
       "      <td>2014</td>\n",
       "      <td>12</td>\n",
       "      <td>31</td>\n",
       "      <td>16</td>\n",
       "      <td>8.0</td>\n",
       "      <td>-23</td>\n",
       "      <td>0.0</td>\n",
       "      <td>1032.0</td>\n",
       "      <td>2</td>\n",
       "      <td>214.09</td>\n",
       "      <td>0</td>\n",
       "      <td>0</td>\n",
       "    </tr>\n",
       "    <tr>\n",
       "      <th>43817</th>\n",
       "      <td>43818</td>\n",
       "      <td>2014</td>\n",
       "      <td>12</td>\n",
       "      <td>31</td>\n",
       "      <td>17</td>\n",
       "      <td>9.0</td>\n",
       "      <td>-22</td>\n",
       "      <td>-1.0</td>\n",
       "      <td>1033.0</td>\n",
       "      <td>2</td>\n",
       "      <td>221.24</td>\n",
       "      <td>0</td>\n",
       "      <td>0</td>\n",
       "    </tr>\n",
       "    <tr>\n",
       "      <th>43818</th>\n",
       "      <td>43819</td>\n",
       "      <td>2014</td>\n",
       "      <td>12</td>\n",
       "      <td>31</td>\n",
       "      <td>18</td>\n",
       "      <td>10.0</td>\n",
       "      <td>-22</td>\n",
       "      <td>-2.0</td>\n",
       "      <td>1033.0</td>\n",
       "      <td>2</td>\n",
       "      <td>226.16</td>\n",
       "      <td>0</td>\n",
       "      <td>0</td>\n",
       "    </tr>\n",
       "    <tr>\n",
       "      <th>43819</th>\n",
       "      <td>43820</td>\n",
       "      <td>2014</td>\n",
       "      <td>12</td>\n",
       "      <td>31</td>\n",
       "      <td>19</td>\n",
       "      <td>8.0</td>\n",
       "      <td>-23</td>\n",
       "      <td>-2.0</td>\n",
       "      <td>1034.0</td>\n",
       "      <td>2</td>\n",
       "      <td>231.97</td>\n",
       "      <td>0</td>\n",
       "      <td>0</td>\n",
       "    </tr>\n",
       "    <tr>\n",
       "      <th>43820</th>\n",
       "      <td>43821</td>\n",
       "      <td>2014</td>\n",
       "      <td>12</td>\n",
       "      <td>31</td>\n",
       "      <td>20</td>\n",
       "      <td>10.0</td>\n",
       "      <td>-22</td>\n",
       "      <td>-3.0</td>\n",
       "      <td>1034.0</td>\n",
       "      <td>2</td>\n",
       "      <td>237.78</td>\n",
       "      <td>0</td>\n",
       "      <td>0</td>\n",
       "    </tr>\n",
       "    <tr>\n",
       "      <th>43821</th>\n",
       "      <td>43822</td>\n",
       "      <td>2014</td>\n",
       "      <td>12</td>\n",
       "      <td>31</td>\n",
       "      <td>21</td>\n",
       "      <td>10.0</td>\n",
       "      <td>-22</td>\n",
       "      <td>-3.0</td>\n",
       "      <td>1034.0</td>\n",
       "      <td>2</td>\n",
       "      <td>242.70</td>\n",
       "      <td>0</td>\n",
       "      <td>0</td>\n",
       "    </tr>\n",
       "    <tr>\n",
       "      <th>43822</th>\n",
       "      <td>43823</td>\n",
       "      <td>2014</td>\n",
       "      <td>12</td>\n",
       "      <td>31</td>\n",
       "      <td>22</td>\n",
       "      <td>8.0</td>\n",
       "      <td>-22</td>\n",
       "      <td>-4.0</td>\n",
       "      <td>1034.0</td>\n",
       "      <td>2</td>\n",
       "      <td>246.72</td>\n",
       "      <td>0</td>\n",
       "      <td>0</td>\n",
       "    </tr>\n",
       "    <tr>\n",
       "      <th>43823</th>\n",
       "      <td>43824</td>\n",
       "      <td>2014</td>\n",
       "      <td>12</td>\n",
       "      <td>31</td>\n",
       "      <td>23</td>\n",
       "      <td>12.0</td>\n",
       "      <td>-21</td>\n",
       "      <td>-3.0</td>\n",
       "      <td>1034.0</td>\n",
       "      <td>2</td>\n",
       "      <td>249.85</td>\n",
       "      <td>0</td>\n",
       "      <td>0</td>\n",
       "    </tr>\n",
       "  </tbody>\n",
       "</table>\n",
       "<p>41757 rows × 13 columns</p>\n",
       "</div>"
      ],
      "text/plain": [
       "          No  year  month  day  hour  pm2.5  DEWP  TEMP    PRES  cbwd     Iws  \\\n",
       "24        25  2010      1    2     0  129.0   -16  -4.0  1020.0     3    1.79   \n",
       "25        26  2010      1    2     1  148.0   -15  -4.0  1020.0     3    2.68   \n",
       "26        27  2010      1    2     2  159.0   -11  -5.0  1021.0     3    3.57   \n",
       "27        28  2010      1    2     3  181.0    -7  -5.0  1022.0     3    5.36   \n",
       "28        29  2010      1    2     4  138.0    -7  -5.0  1022.0     3    6.25   \n",
       "29        30  2010      1    2     5  109.0    -7  -6.0  1022.0     3    7.14   \n",
       "30        31  2010      1    2     6  105.0    -7  -6.0  1023.0     3    8.93   \n",
       "31        32  2010      1    2     7  124.0    -7  -5.0  1024.0     3   10.72   \n",
       "32        33  2010      1    2     8  120.0    -8  -6.0  1024.0     3   12.51   \n",
       "33        34  2010      1    2     9  132.0    -7  -5.0  1025.0     3   14.30   \n",
       "34        35  2010      1    2    10  140.0    -7  -5.0  1026.0     3   17.43   \n",
       "35        36  2010      1    2    11  152.0    -8  -5.0  1026.0     3   20.56   \n",
       "36        37  2010      1    2    12  148.0    -8  -5.0  1026.0     3   23.69   \n",
       "37        38  2010      1    2    13  164.0    -8  -5.0  1025.0     3   27.71   \n",
       "38        39  2010      1    2    14  158.0    -9  -5.0  1025.0     3   31.73   \n",
       "39        40  2010      1    2    15  154.0    -9  -5.0  1025.0     3   35.75   \n",
       "40        41  2010      1    2    16  159.0    -9  -5.0  1026.0     3   37.54   \n",
       "41        42  2010      1    2    17  164.0    -8  -5.0  1027.0     3   39.33   \n",
       "42        43  2010      1    2    18  170.0    -8  -5.0  1027.0     3   42.46   \n",
       "43        44  2010      1    2    19  149.0    -8  -5.0  1028.0     3   44.25   \n",
       "44        45  2010      1    2    20  154.0    -7  -5.0  1028.0     3   46.04   \n",
       "45        46  2010      1    2    21  164.0    -7  -5.0  1027.0     3   49.17   \n",
       "46        47  2010      1    2    22  156.0    -8  -6.0  1028.0     3   52.30   \n",
       "47        48  2010      1    2    23  126.0    -8  -6.0  1027.0     3   55.43   \n",
       "48        49  2010      1    3     0   90.0    -7  -6.0  1027.0     3   58.56   \n",
       "49        50  2010      1    3     1   63.0    -8  -6.0  1026.0     3   61.69   \n",
       "50        51  2010      1    3     2   65.0    -8  -7.0  1026.0     3   65.71   \n",
       "51        52  2010      1    3     3   55.0    -8  -7.0  1025.0     3   68.84   \n",
       "52        53  2010      1    3     4   65.0    -8  -7.0  1024.0     3   72.86   \n",
       "53        54  2010      1    3     5   83.0    -9  -8.0  1024.0     3   76.88   \n",
       "...      ...   ...    ...  ...   ...    ...   ...   ...     ...   ...     ...   \n",
       "43794  43795  2014     12   30    18   79.0   -13   2.0  1020.0     1    3.58   \n",
       "43795  43796  2014     12   30    19   35.0    -8   6.0  1021.0     2    5.81   \n",
       "43796  43797  2014     12   30    20   26.0   -11   5.0  1022.0     2   12.96   \n",
       "43797  43798  2014     12   30    21   20.0   -12   4.0  1023.0     2   21.90   \n",
       "43798  43799  2014     12   30    22    8.0   -21   2.0  1025.0     2   31.73   \n",
       "43799  43800  2014     12   30    23   16.0   -22   0.0  1026.0     2   38.88   \n",
       "43800  43801  2014     12   31     0   10.0   -19  -1.0  1027.0     2   51.84   \n",
       "43801  43802  2014     12   31     1   11.0   -18  -1.0  1028.0     2   61.67   \n",
       "43802  43803  2014     12   31     2   20.0   -17  -1.0  1028.0     2   70.61   \n",
       "43803  43804  2014     12   31     3    9.0   -17  -1.0  1029.0     2   81.79   \n",
       "43804  43805  2014     12   31     4    8.0   -19  -2.0  1030.0     2   94.75   \n",
       "43805  43806  2014     12   31     5    9.0   -21  -3.0  1030.0     2  109.95   \n",
       "43806  43807  2014     12   31     6    8.0   -23  -4.0  1032.0     2  130.07   \n",
       "43807  43808  2014     12   31     7    8.0   -22  -5.0  1034.0     2  143.03   \n",
       "43808  43809  2014     12   31     8    8.0   -22  -5.0  1034.0     2  150.18   \n",
       "43809  43810  2014     12   31     9    8.0   -22  -3.0  1034.0     2  155.99   \n",
       "43810  43811  2014     12   31    10    7.0   -22  -2.0  1034.0     2  163.14   \n",
       "43811  43812  2014     12   31    11   12.0   -22  -2.0  1034.0     2  170.29   \n",
       "43812  43813  2014     12   31    12   17.0   -22   0.0  1033.0     2  177.44   \n",
       "43813  43814  2014     12   31    13   11.0   -27   0.0  1032.0     2  186.38   \n",
       "43814  43815  2014     12   31    14    9.0   -27   1.0  1032.0     2  196.21   \n",
       "43815  43816  2014     12   31    15   11.0   -26   1.0  1032.0     2  205.15   \n",
       "43816  43817  2014     12   31    16    8.0   -23   0.0  1032.0     2  214.09   \n",
       "43817  43818  2014     12   31    17    9.0   -22  -1.0  1033.0     2  221.24   \n",
       "43818  43819  2014     12   31    18   10.0   -22  -2.0  1033.0     2  226.16   \n",
       "43819  43820  2014     12   31    19    8.0   -23  -2.0  1034.0     2  231.97   \n",
       "43820  43821  2014     12   31    20   10.0   -22  -3.0  1034.0     2  237.78   \n",
       "43821  43822  2014     12   31    21   10.0   -22  -3.0  1034.0     2  242.70   \n",
       "43822  43823  2014     12   31    22    8.0   -22  -4.0  1034.0     2  246.72   \n",
       "43823  43824  2014     12   31    23   12.0   -21  -3.0  1034.0     2  249.85   \n",
       "\n",
       "       Is  Ir  \n",
       "24      0   0  \n",
       "25      0   0  \n",
       "26      0   0  \n",
       "27      1   0  \n",
       "28      2   0  \n",
       "29      3   0  \n",
       "30      4   0  \n",
       "31      0   0  \n",
       "32      0   0  \n",
       "33      0   0  \n",
       "34      1   0  \n",
       "35      0   0  \n",
       "36      0   0  \n",
       "37      0   0  \n",
       "38      0   0  \n",
       "39      0   0  \n",
       "40      0   0  \n",
       "41      0   0  \n",
       "42      0   0  \n",
       "43      0   0  \n",
       "44      0   0  \n",
       "45      1   0  \n",
       "46      2   0  \n",
       "47      3   0  \n",
       "48      4   0  \n",
       "49      5   0  \n",
       "50      6   0  \n",
       "51      7   0  \n",
       "52      8   0  \n",
       "53      9   0  \n",
       "...    ..  ..  \n",
       "43794   0   0  \n",
       "43795   0   0  \n",
       "43796   0   0  \n",
       "43797   0   0  \n",
       "43798   0   0  \n",
       "43799   0   0  \n",
       "43800   0   0  \n",
       "43801   0   0  \n",
       "43802   0   0  \n",
       "43803   0   0  \n",
       "43804   0   0  \n",
       "43805   0   0  \n",
       "43806   0   0  \n",
       "43807   0   0  \n",
       "43808   0   0  \n",
       "43809   0   0  \n",
       "43810   0   0  \n",
       "43811   0   0  \n",
       "43812   0   0  \n",
       "43813   0   0  \n",
       "43814   0   0  \n",
       "43815   0   0  \n",
       "43816   0   0  \n",
       "43817   0   0  \n",
       "43818   0   0  \n",
       "43819   0   0  \n",
       "43820   0   0  \n",
       "43821   0   0  \n",
       "43822   0   0  \n",
       "43823   0   0  \n",
       "\n",
       "[41757 rows x 13 columns]"
      ]
     },
     "execution_count": 40,
     "metadata": {},
     "output_type": "execute_result"
    }
   ],
   "source": [
    "mapping = {'NE': 1, 'NW': 2, 'SE': 3, 'cv': 4}\n",
    "df = df.dropna(axis=0, how='any')\n",
    "df = df.replace({'cbwd': mapping})\n",
    "df"
   ]
  },
  {
   "cell_type": "code",
   "execution_count": 41,
   "metadata": {
    "collapsed": false
   },
   "outputs": [
    {
     "data": {
      "text/plain": [
       "(994.0, 0.0)"
      ]
     },
     "execution_count": 41,
     "metadata": {},
     "output_type": "execute_result"
    }
   ],
   "source": [
    "df[\"pm2.5\"].max(), df[\"pm2.5\"].min()"
   ]
  },
  {
   "cell_type": "code",
   "execution_count": 42,
   "metadata": {
    "collapsed": false
   },
   "outputs": [
    {
     "data": {
      "text/plain": [
       "array(['No', 'year', 'month', 'day', 'hour', 'pm2.5', 'DEWP', 'TEMP',\n",
       "       'PRES', 'cbwd', 'Iws', 'Is', 'Ir'], \n",
       "      dtype='<U5')"
      ]
     },
     "execution_count": 42,
     "metadata": {},
     "output_type": "execute_result"
    }
   ],
   "source": [
    "names = np.array(list(df))\n",
    "names"
   ]
  },
  {
   "cell_type": "code",
   "execution_count": 43,
   "metadata": {
    "collapsed": true
   },
   "outputs": [],
   "source": [
    "dat = df.as_matrix()"
   ]
  },
  {
   "cell_type": "code",
   "execution_count": 44,
   "metadata": {
    "collapsed": false,
    "scrolled": true
   },
   "outputs": [
    {
     "data": {
      "text/plain": [
       "(41757, 13)"
      ]
     },
     "execution_count": 44,
     "metadata": {},
     "output_type": "execute_result"
    }
   ],
   "source": [
    "dat.shape"
   ]
  },
  {
   "cell_type": "code",
   "execution_count": 45,
   "metadata": {
    "collapsed": true,
    "scrolled": true
   },
   "outputs": [],
   "source": [
    "T = np.float64(dat[:, 5]).reshape(-1, 1)\n",
    "X = (np.delete(dat, [0,5], 1))"
   ]
  },
  {
   "cell_type": "code",
   "execution_count": 46,
   "metadata": {
    "collapsed": false
   },
   "outputs": [
    {
     "data": {
      "text/plain": [
       "array([[ 129.],\n",
       "       [ 148.],\n",
       "       [ 159.],\n",
       "       ..., \n",
       "       [  10.],\n",
       "       [   8.],\n",
       "       [  12.]])"
      ]
     },
     "execution_count": 46,
     "metadata": {},
     "output_type": "execute_result"
    }
   ],
   "source": [
    "T"
   ]
  },
  {
   "cell_type": "code",
   "execution_count": 47,
   "metadata": {
    "collapsed": false
   },
   "outputs": [
    {
     "data": {
      "text/plain": [
       "((41757, 11), (41757, 1))"
      ]
     },
     "execution_count": 47,
     "metadata": {},
     "output_type": "execute_result"
    }
   ],
   "source": [
    "X.shape, T.shape"
   ]
  },
  {
   "cell_type": "code",
   "execution_count": 48,
   "metadata": {
    "collapsed": true
   },
   "outputs": [],
   "source": [
    "Xtrain, Ttrain, Xtest, Ttest = shuffleIndice(X, T)"
   ]
  },
  {
   "cell_type": "markdown",
   "metadata": {},
   "source": [
    "#### Theoretically Model:"
   ]
  },
  {
   "cell_type": "code",
   "execution_count": 49,
   "metadata": {
    "collapsed": false
   },
   "outputs": [],
   "source": [
    "model = train(Xtrain, Ttrain)"
   ]
  },
  {
   "cell_type": "code",
   "execution_count": 50,
   "metadata": {
    "collapsed": true
   },
   "outputs": [],
   "source": [
    "predict = use(model, Xtest)"
   ]
  },
  {
   "cell_type": "code",
   "execution_count": 51,
   "metadata": {
    "collapsed": true
   },
   "outputs": [],
   "source": [
    "error = rmse(predict, Ttest)"
   ]
  },
  {
   "cell_type": "code",
   "execution_count": 52,
   "metadata": {
    "collapsed": false
   },
   "outputs": [
    {
     "data": {
      "text/plain": [
       "78.206960308200664"
      ]
     },
     "execution_count": 52,
     "metadata": {},
     "output_type": "execute_result"
    }
   ],
   "source": [
    "error"
   ]
  },
  {
   "cell_type": "code",
   "execution_count": 53,
   "metadata": {
    "collapsed": false
   },
   "outputs": [
    {
     "name": "stdout",
     "output_type": "stream",
     "text": [
      "Learning rate 0.1 has error rate nan\n",
      "Learning rate 0.05 has error rate nan\n",
      "Learning rate 0.01 has error rate 80.8430732248\n",
      "Learning rate 0.001 has error rate 78.512021296\n"
     ]
    }
   ],
   "source": [
    "learningRates = [0.1, 0.05, 0.01, 0.001]\n",
    "for lr in learningRates:\n",
    "    error = rmse(use(trainSGD(Xtrain, Ttrain, lr, 10), Xtest), Ttest)\n",
    "    print(\"Learning rate\", lr, \"has error rate\", error)"
   ]
  },
  {
   "cell_type": "code",
   "execution_count": 54,
   "metadata": {
    "collapsed": false
   },
   "outputs": [
    {
     "data": {
      "image/png": "[encoded data removed]",
      "text/plain": [
       "<matplotlib.figure.Figure at 0x11013b390>"
      ]
     },
     "metadata": {},
     "output_type": "display_data"
    }
   ],
   "source": [
    "plt.plot(predict[:,0], 'o', color='blue', label = 'predict')\n",
    "plt.plot(Ttest[:,0], 'o', color='red', label = 'target')\n",
    "plt.legend()\n",
    "plt.title(\"Appliances, energy use in Wh\")\n",
    "# plt.legend('predict', 'Target')\n",
    "plt.show()"
   ]
  },
  {
   "cell_type": "code",
   "execution_count": 55,
   "metadata": {
    "collapsed": false
   },
   "outputs": [
    {
     "data": {
      "text/plain": [
       "array([ 98.675687  ,   1.19256603,  -4.80828251,   6.81733139,\n",
       "        10.13316679,  65.25686638, -79.31177593, -15.72702039,\n",
       "        10.4955857 , -11.05786804,  -2.18335902,  -9.8796474 ])"
      ]
     },
     "execution_count": 55,
     "metadata": {},
     "output_type": "execute_result"
    }
   ],
   "source": [
    "model['w'].sum(axis=1)[0]\n",
    "model['w'][:,0]"
   ]
  },
  {
   "cell_type": "code",
   "execution_count": 56,
   "metadata": {
    "collapsed": false
   },
   "outputs": [
    {
     "data": {
      "image/png": "[encoded data removed]",
      "text/plain": [
       "<matplotlib.figure.Figure at 0x11013b5c0>"
      ]
     },
     "metadata": {},
     "output_type": "display_data"
    }
   ],
   "source": [
    "x = np.arange(12)\n",
    "plt.figure(figsize=(30, 15))\n",
    "plt.bar(x, model['w'][:,0])\n",
    "for i in range(12):\n",
    "    plt.text(i, model['w'].sum(axis=1)[i], model['w'].sum(axis=1)[i]//1, fontsize=45)\n",
    "plt.show()"
   ]
  },
  {
   "cell_type": "code",
   "execution_count": 57,
   "metadata": {
    "collapsed": true
   },
   "outputs": [],
   "source": [
    "red = (model['w'].sum(axis=1)//1)[1:]\n",
    "reded = np.where(abs(red)<=10)[0]\n",
    "redx = np.where(abs(red)>10)[0]"
   ]
  },
  {
   "cell_type": "code",
   "execution_count": 58,
   "metadata": {
    "collapsed": true
   },
   "outputs": [],
   "source": [
    "redXtrain = Xtrain[:,redx]\n",
    "redXtest = Xtest[:,redx]"
   ]
  },
  {
   "cell_type": "code",
   "execution_count": 59,
   "metadata": {
    "collapsed": false
   },
   "outputs": [
    {
     "data": {
      "text/plain": [
       "((33406, 4), (33406, 1))"
      ]
     },
     "execution_count": 59,
     "metadata": {},
     "output_type": "execute_result"
    }
   ],
   "source": [
    "redXtrain.shape, Ttrain.shape"
   ]
  },
  {
   "cell_type": "code",
   "execution_count": 60,
   "metadata": {
    "collapsed": false
   },
   "outputs": [
    {
     "name": "stdout",
     "output_type": "stream",
     "text": [
      "Learning rate 0.1 has error rate 85.301918164\n",
      "Learning rate 0.05 has error rate 82.3169189776\n",
      "Learning rate 0.01 has error rate 81.4877361229\n",
      "Learning rate 0.001 has error rate 80.7110089395\n"
     ]
    }
   ],
   "source": [
    "learningRates = [0.1, 0.05, 0.01, 0.001]\n",
    "for lr in learningRates:\n",
    "    error = rmse(use(trainSGD(redXtrain, Ttrain, lr, 10), redXtest), Ttest)\n",
    "    print(\"Learning rate\", lr, \"has error rate\", error)"
   ]
  },
  {
   "cell_type": "code",
   "execution_count": 61,
   "metadata": {
    "collapsed": false
   },
   "outputs": [],
   "source": [
    "model = train(Xtrain, Ttrain)"
   ]
  },
  {
   "cell_type": "code",
   "execution_count": 62,
   "metadata": {
    "collapsed": true
   },
   "outputs": [],
   "source": [
    "predict = use(model, Xtest)"
   ]
  },
  {
   "cell_type": "code",
   "execution_count": 63,
   "metadata": {
    "collapsed": true
   },
   "outputs": [],
   "source": [
    "error = rmse(predict, Ttest)"
   ]
  },
  {
   "cell_type": "code",
   "execution_count": 64,
   "metadata": {
    "collapsed": false,
    "scrolled": false
   },
   "outputs": [
    {
     "data": {
      "image/png": "[encoded data removed]",
      "text/plain": [
       "<matplotlib.figure.Figure at 0x115c9b7b8>"
      ]
     },
     "metadata": {},
     "output_type": "display_data"
    }
   ],
   "source": [
    "plt.plot(predict[:,0], 'o', color='blue', label = 'predict')\n",
    "plt.plot(Ttest[:,0], 'o', color='red', label = 'target')\n",
    "plt.legend()\n",
    "plt.title(\"Appliances, energy use in Wh\")\n",
    "# plt.legend('predict', 'Target')\n",
    "plt.show()"
   ]
  },
  {
   "cell_type": "markdown",
   "metadata": {},
   "source": [
    "The predict model obviously does not work well in test data"
   ]
  },
  {
   "cell_type": "markdown",
   "metadata": {},
   "source": [
    "## One More Date Sample"
   ]
  },
  {
   "cell_type": "code",
   "execution_count": 65,
   "metadata": {
    "collapsed": false,
    "scrolled": false
   },
   "outputs": [
    {
     "data": {
      "text/plain": [
       "((100, 2), (100, 1))"
      ]
     },
     "execution_count": 65,
     "metadata": {},
     "output_type": "execute_result"
    }
   ],
   "source": [
    "nSamples = 100\n",
    "X = np.random.uniform(0,10,(nSamples,1))\n",
    "T = 2 - 0.1 * X + np.random.normal(0,0.1,(nSamples,1)) + 0.0*(X-6)**2 # Change 0 to 0.05 to try to fit nonlinear cloud\n",
    "\n",
    "X1 = np.insert(X, 0, 1, axis=1)\n",
    "\n",
    "X1.shape, T.shape"
   ]
  },
  {
   "cell_type": "code",
   "execution_count": 66,
   "metadata": {
    "collapsed": true
   },
   "outputs": [],
   "source": [
    "(standardize, unStandardize) = makeStandardize(X)\n",
    "    \n",
    "means, stds, XStd = standardize(X)"
   ]
  },
  {
   "cell_type": "code",
   "execution_count": 67,
   "metadata": {
    "collapsed": false,
    "scrolled": true
   },
   "outputs": [
    {
     "data": {
      "text/plain": [
       "[<matplotlib.lines.Line2D at 0x1114c15f8>]"
      ]
     },
     "execution_count": 67,
     "metadata": {},
     "output_type": "execute_result"
    }
   ],
   "source": [
    "plt.plot(XStd, T, 'o', alpha=0.6, label='Data')"
   ]
  },
  {
   "cell_type": "code",
   "execution_count": 68,
   "metadata": {
    "collapsed": false
   },
   "outputs": [],
   "source": [
    "model = train(X, T)"
   ]
  },
  {
   "cell_type": "code",
   "execution_count": 69,
   "metadata": {
    "collapsed": false
   },
   "outputs": [
    {
     "data": {
      "text/plain": [
       "(array([[ 1.51381107],\n",
       "        [-0.29351327]]), array([ 1.51381107]), array([-0.29351327]))"
      ]
     },
     "execution_count": 69,
     "metadata": {},
     "output_type": "execute_result"
    }
   ],
   "source": [
    "model['w'], model['w'][0], model['w'][1]"
   ]
  },
  {
   "cell_type": "code",
   "execution_count": 70,
   "metadata": {
    "collapsed": true
   },
   "outputs": [],
   "source": [
    "model = trainSGD(X, T, 0.01, 20)"
   ]
  },
  {
   "cell_type": "code",
   "execution_count": 71,
   "metadata": {
    "collapsed": false
   },
   "outputs": [
    {
     "data": {
      "text/plain": [
       "(array([ 1.50984093]), array([-0.29509595]))"
      ]
     },
     "execution_count": 71,
     "metadata": {},
     "output_type": "execute_result"
    }
   ],
   "source": [
    "model['w'][0], model['w'][1]"
   ]
  },
  {
   "cell_type": "code",
   "execution_count": 72,
   "metadata": {
    "collapsed": false
   },
   "outputs": [
    {
     "name": "stdout",
     "output_type": "stream",
     "text": [
      "Learning rate 0.001 has error rate 0.0999896538879\n"
     ]
    }
   ],
   "source": [
    "error = rmse(use(model, X), T)\n",
    "print(\"Learning rate\", lr, \"has error rate\", error)"
   ]
  },
  {
   "cell_type": "code",
   "execution_count": 73,
   "metadata": {
    "collapsed": true
   },
   "outputs": [],
   "source": [
    "predict = use(model, X)"
   ]
  },
  {
   "cell_type": "code",
   "execution_count": 74,
   "metadata": {
    "collapsed": false
   },
   "outputs": [
    {
     "data": {
      "text/plain": [
       "(25,)"
      ]
     },
     "execution_count": 74,
     "metadata": {},
     "output_type": "execute_result"
    }
   ],
   "source": [
    "x = np.arange(10, step = 0.4)\n",
    "x.shape"
   ]
  },
  {
   "cell_type": "code",
   "execution_count": 75,
   "metadata": {
    "collapsed": false
   },
   "outputs": [
    {
     "data": {
      "text/plain": [
       "(array([ 1.50984093]), array([-0.29509595]))"
      ]
     },
     "execution_count": 75,
     "metadata": {},
     "output_type": "execute_result"
    }
   ],
   "source": [
    "model['w'][0], model['w'][1]"
   ]
  },
  {
   "cell_type": "code",
   "execution_count": 76,
   "metadata": {
    "collapsed": false
   },
   "outputs": [
    {
     "data": {
      "image/png": "[encoded data removed]",
      "text/plain": [
       "<matplotlib.figure.Figure at 0x115376cf8>"
      ]
     },
     "metadata": {},
     "output_type": "display_data"
    }
   ],
   "source": [
    "plt.plot(XStd, T, 'o', alpha=0.6, label='raw')\n",
    "plt.plot(XStd, predict, 'o', alpha=0.6, label='predict')\n",
    "plt.plot(XStd, model['w'][0] + model['w'][1] * XStd, label='model')\n",
    "plt.legend()\n",
    "plt.show()"
   ]
  },
  {
   "cell_type": "code",
   "execution_count": 77,
   "metadata": {
    "collapsed": false
   },
   "outputs": [
    {
     "data": {
      "text/plain": [
       "((100, 1), (100, 1))"
      ]
     },
     "execution_count": 77,
     "metadata": {},
     "output_type": "execute_result"
    }
   ],
   "source": [
    "T.shape, predict.shape"
   ]
  },
  {
   "cell_type": "code",
   "execution_count": 78,
   "metadata": {
    "collapsed": false,
    "scrolled": true
   },
   "outputs": [
    {
     "data": {
      "image/png": "[encoded data removed]",
      "text/plain": [
       "<matplotlib.figure.Figure at 0x1114b8a20>"
      ]
     },
     "metadata": {},
     "output_type": "display_data"
    }
   ],
   "source": [
    "plt.plot(T, 'o', alpha=0.6, label='raw')\n",
    "plt.plot(predict, 'o', alpha=0.6, label='predict')\n",
    "# plt.plot(XStd, model['w'][0] + model['w'][1] * XStd, label='model')\n",
    "plt.legend()\n",
    "plt.show()"
   ]
  },
  {
   "cell_type": "markdown",
   "metadata": {},
   "source": [
    "## Last Example"
   ]
  },
  {
   "cell_type": "code",
   "execution_count": 79,
   "metadata": {
    "collapsed": false
   },
   "outputs": [
    {
     "name": "stdout",
     "output_type": "stream",
     "text": [
      "Inputs\n",
      "[[0 1]\n",
      " [2 3]\n",
      " [4 5]\n",
      " [6 7]\n",
      " [8 9]]\n",
      "Targets\n",
      "[[  2.42244994]\n",
      " [  8.92460373]\n",
      " [ 13.04698416]\n",
      " [ 20.27692812]\n",
      " [ 25.3702177 ]]\n"
     ]
    }
   ],
   "source": [
    "X = np.arange(10).reshape((5,2))\n",
    "T = X[:,0:1] + 2 * X[:,1:2] + np.random.uniform(-1, 1,(5, 1))\n",
    "print('Inputs')\n",
    "print(X)\n",
    "print('Targets')\n",
    "print(T)"
   ]
  },
  {
   "cell_type": "code",
   "execution_count": 80,
   "metadata": {
    "collapsed": false
   },
   "outputs": [
    {
     "data": {
      "text/plain": [
       "{'means': array([ 4.,  5.]),\n",
       " 'stds': array([ 2.82842712,  2.82842712]),\n",
       " 'w': array([[ 14.00823673],\n",
       "        [  4.04803499],\n",
       "        [  4.04803499]])}"
      ]
     },
     "execution_count": 80,
     "metadata": {},
     "output_type": "execute_result"
    }
   ],
   "source": [
    "model = train(X, T)\n",
    "model"
   ]
  },
  {
   "cell_type": "code",
   "execution_count": 81,
   "metadata": {
    "collapsed": false
   },
   "outputs": [
    {
     "data": {
      "text/plain": [
       "array([[  2.55866475],\n",
       "       [  8.28345074],\n",
       "       [ 14.00823673],\n",
       "       [ 19.73302272],\n",
       "       [ 25.45780871]])"
      ]
     },
     "execution_count": 81,
     "metadata": {},
     "output_type": "execute_result"
    }
   ],
   "source": [
    "predicted = use(model, X)\n",
    "predicted"
   ]
  },
  {
   "cell_type": "code",
   "execution_count": 82,
   "metadata": {
    "collapsed": false
   },
   "outputs": [
    {
     "data": {
      "text/plain": [
       "0.57569842698802287"
      ]
     },
     "execution_count": 82,
     "metadata": {},
     "output_type": "execute_result"
    }
   ],
   "source": [
    "rmse(predicted, T)"
   ]
  },
  {
   "cell_type": "code",
   "execution_count": 83,
   "metadata": {
    "collapsed": false
   },
   "outputs": [
    {
     "data": {
      "text/plain": [
       "{'means': array([ 4.,  5.]),\n",
       " 'stds': array([ 2.82842712,  2.82842712]),\n",
       " 'w': array([[ 13.9211975 ],\n",
       "        [  4.04792086],\n",
       "        [  4.04792086]])}"
      ]
     },
     "execution_count": 83,
     "metadata": {},
     "output_type": "execute_result"
    }
   ],
   "source": [
    "modelSGD = trainSGD(X, T, 0.01, 100)\n",
    "modelSGD"
   ]
  },
  {
   "cell_type": "code",
   "execution_count": 84,
   "metadata": {
    "collapsed": false
   },
   "outputs": [
    {
     "data": {
      "text/plain": [
       "array([[  2.47194833],\n",
       "       [  8.19657291],\n",
       "       [ 13.9211975 ],\n",
       "       [ 19.64582208],\n",
       "       [ 25.37044666]])"
      ]
     },
     "execution_count": 84,
     "metadata": {},
     "output_type": "execute_result"
    }
   ],
   "source": [
    "predicted = use(modelSGD, X)\n",
    "predicted"
   ]
  },
  {
   "cell_type": "code",
   "execution_count": 85,
   "metadata": {
    "collapsed": false
   },
   "outputs": [
    {
     "data": {
      "text/plain": [
       "0.58224098030493543"
      ]
     },
     "execution_count": 85,
     "metadata": {},
     "output_type": "execute_result"
    }
   ],
   "source": [
    "rmse(predicted, T)"
   ]
  },
  {
   "cell_type": "code",
   "execution_count": 86,
   "metadata": {
    "collapsed": false
   },
   "outputs": [
    {
     "data": {
      "image/png": "[encoded data removed]",
      "text/plain": [
       "<matplotlib.figure.Figure at 0x10fd73b00>"
      ]
     },
     "metadata": {},
     "output_type": "display_data"
    }
   ],
   "source": [
    "plt.plot(T, 'o', alpha=0.6, label='raw')\n",
    "plt.plot(predicted, 'o', alpha=0.6, label='predict')\n",
    "# plt.plot(XStd, model['w'][0] + model['w'][1] * XStd, label='model')\n",
    "plt.legend()\n",
    "plt.show()"
   ]
  }
 ],
 "metadata": {
  "kernelspec": {
   "display_name": "Python 3",
   "language": "python",
   "name": "python3"
  },
  "language_info": {
   "codemirror_mode": {
    "name": "ipython",
    "version": 3
   },
   "file_extension": ".py",
   "mimetype": "text/x-python",
   "name": "python",
   "nbconvert_exporter": "python",
   "pygments_lexer": "ipython3",
   "version": "3.6.0"
  }
 },
 "nbformat": 4,
 "nbformat_minor": 2
}
