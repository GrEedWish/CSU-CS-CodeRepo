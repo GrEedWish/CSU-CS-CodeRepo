{
 "cells": [
  {
   "cell_type": "markdown",
   "metadata": {},
   "source": [
    "### JIM XU\n",
    "### 831-156-383"
   ]
  },
  {
   "cell_type": "markdown",
   "metadata": {},
   "source": [
    "# A3: A\\*, IDS, and Effective Branching Factor"
   ]
  },
  {
   "cell_type": "markdown",
   "metadata": {},
   "source": [
    "For this assignment, implement the Recursive Best-First Search\n",
    "implementation of the A\\* algorithm given in class.  Name this function `aStarSearch`.  Also in this notebook include your `iterativeDeepeningSearch` functions.  Define a new function named `ebf` that returns an estimate of the effective\n",
    "branching factor for a search algorithm applied to a search problem.\n",
    "\n",
    "So, the required functions are\n",
    "\n",
    "   - `aStarSearch(startState, actionsF, takeActionF, goalTestF, hF)`\n",
    "   - `iterativeDeepeningSearch(startState, goalState, actionsF, takeActionF, maxDepth)`\n",
    "   - `ebf(nNodes, depth, precision=0.01)`, returns number of nodes expanded and depth reached during a search.\n",
    "\n",
    "Apply `iterativeDeepeningSearch` and `aStarSearch` to several eight-tile sliding puzzle\n",
    "problems. For this you must include your implementations of these functions, from Assignment 2:\n",
    "\n",
    "  * `actionsF_8p(state)`: returns a list of up to four valid actions that can be applied in `state`. With each action include a step cost of 1. For example, if all four actions are possible from this state, return [('left', 1), ('right', 1), ('up', 1), ('down', 1)].\n",
    "  * `takeActionF_8p(state, action)`: return the state that results from applying `action` in `state` and the cost of the one step,\n",
    "  \n",
    "plus the following function for the eight-tile puzzle:\n",
    "\n",
    "  * `goalTestF_8p(state, goal)`\n",
    "  \n",
    "Compare their results by displayng\n",
    "solution path depth, number of nodes \n",
    "generated, and the effective branching factor, and discuss the results.  Do this by defining the following function that prints the table as shown in the example below.\n",
    "\n",
    "   - runExperiment(goalState1, goalState2, goalState3, [h1, h2, h3])\n",
    "   \n",
    "Define this function so it takes any number of $h$ functions in the list that is the fourth argument."
   ]
  },
  {
   "cell_type": "markdown",
   "metadata": {},
   "source": [
    "## Heuristic Functions\n",
    "\n",
    "For `aStarSearch` use the following two heuristic functions, plus one more of your own design, for a total of three heuristic functions.\n",
    "\n",
    "  * `h1_8p(state, goal)`: $h(state, goal) = 0$, for all states $state$ and all goal states $goal$,\n",
    "  * `h2_8p(state, goal)`: $h(state, goal) = m$, where $m$ is the Manhattan distance that the blank is from its goal position,\n",
    "  * `h3_8p(state, goal)`: $h(state, goal) = ?$, that you define.  It must be admissible, and not constant for all states."
   ]
  },
  {
   "cell_type": "markdown",
   "metadata": {},
   "source": [
    "## Comparison"
   ]
  },
  {
   "cell_type": "markdown",
   "metadata": {},
   "source": [
    "Apply all four algorithms (`iterativeDeepeningSearch` plus `aStarSearch` with the three heuristic\n",
    "functions) to three eight-tile puzzle problems with start state\n",
    "\n",
    "$$\n",
    "\\begin{array}{ccc}\n",
    "1 & 2 & 3\\\\\n",
    "4 & 0 & 5\\\\\n",
    "6 & 7 & 8\n",
    "\\end{array}\n",
    "$$\n",
    "\n",
    "and these three goal states.\n",
    "\n",
    "$$\n",
    "\\begin{array}{ccccccccccc}\n",
    "1 & 2 & 3  & ~~~~ & 1 & 2 & 3  &  ~~~~ & 1 & 0 &  3\\\\\n",
    "4 & 0 & 5  & & 4 & 5 & 8  & & 4 & 5 & 8\\\\\n",
    "6 & 7 & 8 &  & 6 & 0 & 7  & & 2 & 6 & 7\n",
    "\\end{array}\n",
    "$$"
   ]
  },
  {
   "cell_type": "markdown",
   "metadata": {},
   "source": [
    "Print a well-formatted table like the following.  Try to match this\n",
    "format. \n",
    "\n",
    "           [1, 2, 3, 4, 0, 5, 6, 7, 8]    [1, 2, 3, 4, 5, 8, 6, 0, 7]    [1, 0, 3, 4, 5, 8, 2, 6, 7] \n",
    "    Algorithm    Depth  Nodes  EBF              Depth  Nodes  EBF              Depth  Nodes  EBF          \n",
    "         IDS       0      0  0.000                3     43  3.086               11 225850  2.954         \n",
    "        A*h1       0      0  0.000                3    116  4.488               11 643246  3.263         \n",
    "        A*h2       0      0  0.000                3     51  3.297               11 100046  2.733         \n",
    "\n",
    "Of course you will have one more line for `h3`."
   ]
  },
  {
   "cell_type": "markdown",
   "metadata": {},
   "source": [
    "Insert your functions here."
   ]
  },
  {
   "cell_type": "code",
   "execution_count": 1,
   "metadata": {
    "collapsed": true
   },
   "outputs": [],
   "source": [
    "\"\"\"\n",
    "    functions for the 8-puzzle *\n",
    "\"\"\"\n",
    "# printState_8p(state, special=\"\"), friendly printing the state in readable format\n",
    "def printState_8p(state, special=\"\"):\n",
    "    newLine = 0\n",
    "    print(special, end=\"\")\n",
    "    for num in state:\n",
    "        if newLine == 3:\n",
    "            newLine = 0\n",
    "            print()\n",
    "            print(special, end=\"\")\n",
    "        print(\" \" if num == 0 else num, end=\" \")\n",
    "        newLine += 1\n",
    "    print()\n",
    "    \n",
    "# findBlank_8p(state): return the row and column index for the location of the a Blank\n",
    "def findBlank_8p(state):\n",
    "    index = state.index(0)\n",
    "    # a is the row while b is the col\n",
    "    a = (int)(index / 3)\n",
    "    b = index % 3\n",
    "    return a, b\n",
    "\n",
    "# actionsF_8p(state): returns a list of up to four valid actions that can be applied in state. \n",
    "# Return them in the order left, right, up, down, though only if each one is a valid action.\n",
    "def actionsF_8p(state):\n",
    "    actions = []\n",
    "    a, b = findBlank_8p(state)\n",
    "    # check the validation of possible actions \n",
    "    if b > 0: actions.append((\"left\", 1))\n",
    "    if b < 2: actions.append((\"right\", 1))\n",
    "    if a > 0: actions.append((\"up\", 1))\n",
    "    if a < 2: actions.append((\"down\", 1))\n",
    "    return actions\n",
    "\n",
    "# takeActionF_8p(state, action): return the state that results from applying action in state.\n",
    "def takeActionF_8p(state, action):\n",
    "    # make a new value copy of original state\n",
    "    newState = state[:]\n",
    "    _a = 0\n",
    "    _b = 0\n",
    "    # calculate the increments of row and col\n",
    "    if action[0] == \"left\": _b = -1\n",
    "    if action[0] == \"right\": _b = 1\n",
    "    if action[0] == \"up\": _a = -1\n",
    "    if action[0] == \"down\": _a = 1\n",
    "    a, b = findBlank_8p(newState)\n",
    "    # calculate the new row and col\n",
    "    _a += a\n",
    "    _b += b\n",
    "    # incase not valid action\n",
    "    # discard the action and return the original state\n",
    "    if not 0<= _a < 3: \n",
    "        print(\"invalid action\")\n",
    "        return state\n",
    "    if not 0<= _b < 3:\n",
    "        print(\"invalid action\")\n",
    "        return state\n",
    "    # switch the element\n",
    "    newState[_a*3+_b], newState[a*3+b] = newState[a*3+b], newState[_a*3+_b]\n",
    "    return (newState, action[1])\n",
    "\n",
    "def goalTestF_8p(state, goalState):\n",
    "    return state == goalState"
   ]
  },
  {
   "cell_type": "code",
   "execution_count": 2,
   "metadata": {
    "collapsed": false
   },
   "outputs": [],
   "source": [
    "\"\"\"\n",
    "    h(n) an estimate of the sum of the remaining step costs to a goal\n",
    "\"\"\"\n",
    "import math\n",
    "\n",
    "# negative way, make no prediction on the future cost to the goalState\n",
    "def h1_8p(state, goal):\n",
    "    return 0\n",
    "\n",
    "# naive way, take Manhattan distance between the currentState and goalState\n",
    "def h2_8p(state, goal):  \n",
    "    x1, y1 = findBlank_8p(state)\n",
    "    x2, y2 = findBlank_8p(goal)\n",
    "    return abs(x1-x2) + abs(y1-y2)\n",
    "    \n",
    "# simple way, consider the moves to restore all the numbers to correct position\n",
    "# while for each move, we can at most minimize two dislocated numbers\n",
    "# and the return value gives the at least number of moves to restore the correct location for all numbers\n",
    "def h3_8p(state, goal):\n",
    "    step = 0\n",
    "    for i in range(0, 9):\n",
    "        step += locate_i(state, goal, i, 3)\n",
    "    return int(step / 2)\n",
    "    \n",
    "# Reloacte i(loc) to its correct position\n",
    "def locate_i(state, goal, loc, rcNum):\n",
    "    num = state[loc]\n",
    "    des = goal.index(num)\n",
    "    return abs(des - loc) % rcNum + int(abs(des - loc) / rcNum)"
   ]
  },
  {
   "cell_type": "code",
   "execution_count": 3,
   "metadata": {
    "collapsed": false
   },
   "outputs": [],
   "source": [
    "# from A3mysolution import *\n",
    "def iterativeDeepeningSearch(startState, goalState, actionsF, takeActionF, maxDepth):\n",
    "    for depth in range(maxDepth):\n",
    "        result = depthLimitedSearch(startState, goalState, actionsF, takeActionF, depth)\n",
    "        if result is 'failure':\n",
    "            return 'failure'\n",
    "        if result is not 'cutoff':\n",
    "            # Add startState to front of solution path, in result, returned by depthLimitedSearch\n",
    "            # if find an path, then it must cost the minimum steps to reach\n",
    "            # and then there is no need for futher iteration, return the path\n",
    "            result.insert(0, startState)\n",
    "            return result\n",
    "    return 'cutoff'\n",
    "\n",
    "def depthLimitedSearch(state, goalState, actionsF, takeActionF, depthLimit):\n",
    "    # use the goal value to store the steps\n",
    "    global goalStep\n",
    "    if state == goalState:\n",
    "        return []\n",
    "    if depthLimit == 0:\n",
    "        # Return the string 'cutoff' to signal that the depth limit was reached\n",
    "        return 'cutoff'\n",
    "    cutoffOccurred = False\n",
    "    # consider each action of state\n",
    "    for action in actionsF(state):\n",
    "        goalStep += 1\n",
    "        # the resulting state by taking the action\n",
    "        (childState, stepCost) = takeActionF(state, action)\n",
    "        # further explore the resulting state\n",
    "        result = depthLimitedSearch(childState, goalState, actionsF, takeActionF, depthLimit-1)\n",
    "        # check the resulting state is valid or not\n",
    "        # if reach the maximum depth, return cutoff\n",
    "        if result is 'cutoff':\n",
    "            cutoffOccurred = True\n",
    "        # elif there is a goal state found, add the current state to path\n",
    "        elif result is not 'failure':\n",
    "            # Add childState to front of partial solution path, in result, returned by depthLimitedSearch\n",
    "            result.insert(0, childState)\n",
    "            return result\n",
    "    # if reach the maximum depth or goal not found\n",
    "    if cutoffOccurred:\n",
    "        return 'cutoff'\n",
    "    else:\n",
    "        return 'failure'\n",
    "\n",
    "#returns number of nodes expanded and depth reached during a search.\n",
    "def ebf(nNodes, depth, precision=0.01):\n",
    "    \"\"\"\n",
    "    :name ebf: effective braching factor, 1 + b + b^2 + .. + b^d = #nodes\n",
    "    :type nNodes: int -- Number of nodes that expanded\n",
    "    :type depth: int -- Depth of the tree expanded\n",
    "    :rtype: float --  Number of nodes expanded and depth reached during a search.\n",
    "    \"\"\"\n",
    "    if nNodes == 0:\n",
    "        return 0\n",
    "    if depth == 0:\n",
    "        return nNodes\n",
    "    # set lowest bound to 0 (could be improved)\n",
    "    lowest_b = 0\n",
    "    # set highest bound to nNodes**(depth**-1)\n",
    "    # suppose we have only b*^d = n, neglecting 1 + b + b^2 + ... + b^(d-1)\n",
    "    # the b value we get is the highest bound of b\n",
    "    highest_b = nNodes**(depth**-1)\n",
    "    # set b to the highest bound\n",
    "    b = highest_b\n",
    "    while True:\n",
    "        # calculate the score    \n",
    "        score = calEBFscore(b, depth)\n",
    "        # if score in precision range, done\n",
    "        if nNodes - precision <= score <= nNodes + precision:\n",
    "            break\n",
    "        # if score is higher than expected, cut b to the average of lowest bound and b\n",
    "        if score > nNodes + precision:\n",
    "            highest_b = b\n",
    "            b = (lowest_b + b) / 2\n",
    "        # if score is lower than expected, cut b to the average of highest bound and b\n",
    "        else:\n",
    "            lowest_b = b\n",
    "            b = (b + highest_b) / 2\n",
    "    return b\n",
    "    \n",
    "# calculate the value of 1 + b + b^2 + ... + b^d \n",
    "# handle b == 1 condition\n",
    "def calEBFscore(b, depth):\n",
    "    if b == 1:\n",
    "        return depth + 1\n",
    "    else:\n",
    "        return (1 - b**(depth + 1))/(1 - b)"
   ]
  },
  {
   "cell_type": "code",
   "execution_count": 4,
   "metadata": {
    "collapsed": false
   },
   "outputs": [],
   "source": [
    "# aStarSearch.py\n",
    "# Recursive Best First Search (Figure 3.26, Russell and Norvig)\n",
    "# Recursive Iterative Deepening form of A*, where depth is replaced by f(n)\n",
    "\n",
    "# MODIFIED FROM DR.ANDERSON VERSION\n",
    "# From [http://nbviewer.jupyter.org/url/www.cs.colostate.edu/~anderson/cs440/notebooks/07%20Informed%20Search.ipynb]\n",
    "\n",
    "class Node:\n",
    "    def __init__(self, state, f=0, g=0 ,h=0):\n",
    "        self.state = state\n",
    "        self.f = f\n",
    "        self.g = g\n",
    "        self.h = h\n",
    "    def __repr__(self):\n",
    "        return \"Node(\" + repr(self.state) + \", f=\" + repr(self.f) + \\\n",
    "               \", g=\" + repr(self.g) + \", h=\" + repr(self.h) + \")\"\n",
    "\n",
    "def aStarSearch(startState, actionsF, takeActionF, goalTestF, hF):\n",
    "    h = hF(startState)\n",
    "    startNode = Node(state=startState, f=0+h, g=0, h=h)\n",
    "    return aStarSearchHelper(startNode, actionsF, takeActionF, goalTestF, hF, float('inf'))\n",
    "\n",
    "def aStarSearchHelper(parentNode, actionsF, takeActionF, goalTestF, hF, fmax):\n",
    "    # use the goal value to store the steps\n",
    "    global goalStep\n",
    "    if goalTestF(parentNode.state):\n",
    "        return ([parentNode.state], parentNode.g)\n",
    "    ## Construct list of children nodes with f, g, and h values\n",
    "    actions = actionsF(parentNode.state)\n",
    "    if not actions:\n",
    "        return (\"failure\", float('inf'))\n",
    "    children = []\n",
    "    for action in actions:\n",
    "        goalStep += 1\n",
    "        (childState,stepCost) = takeActionF(parentNode.state, action)\n",
    "        h = hF(childState)\n",
    "        g = parentNode.g + stepCost\n",
    "        f = max(h+g, parentNode.f)\n",
    "        childNode = Node(state=childState, f=f, g=g, h=h)\n",
    "        children.append(childNode)\n",
    "    while True:\n",
    "        # find best child\n",
    "        children.sort(key = lambda n: n.f) # sort by f value\n",
    "        bestChild = children[0]\n",
    "        if bestChild.f > fmax:\n",
    "            return (\"failure\",bestChild.f)\n",
    "        # next lowest f value\n",
    "        alternativef = children[1].f if len(children) > 1 else float('inf')\n",
    "        # expand best child, reassign its f value to be returned value\n",
    "        result,bestChild.f = aStarSearchHelper(bestChild, actionsF, takeActionF, goalTestF,\n",
    "                                            hF, min(fmax,alternativef))\n",
    "        if result is not \"failure\":\n",
    "            result.insert(0,parentNode.state)\n",
    "            return (result, bestChild.f)"
   ]
  },
  {
   "cell_type": "code",
   "execution_count": 5,
   "metadata": {
    "collapsed": false,
    "scrolled": true
   },
   "outputs": [],
   "source": [
    "import sys\n",
    "\n",
    "# declare a global value\n",
    "goalStep = 0\n",
    "\n",
    "# runExperiment and compare output\n",
    "def runExperiment(goalState1, goalState2, goalState3, hfunctions):\n",
    "    global goalStep\n",
    "    # hard-code startState, although not suggested\n",
    "    startState = [1,  2,  3,  4,  0,  5,  6,  7,  8]\n",
    "    goalStates = [goalState1, goalState2, goalState3]\n",
    "    # hard-code maxDepth\n",
    "    maxDepth = sys.maxsize\n",
    "    # hard-code actionsF, takeActionF\n",
    "    for goalState in goalStates:\n",
    "        goalStep = 0\n",
    "        # print titile : goalState\n",
    "        print(goalState)\n",
    "        # print column names    \n",
    "        print('{:^15}\\t{}\\t{}\\t{}\\t'.format(\"Algorithm\", \"Depth\", \"Nodes\", \"EBF\"))\n",
    "        result = iterativeDeepeningSearch(startState, goalState, actionsF_8p, takeActionF_8p, maxDepth)\n",
    "        # print IDS results\n",
    "        print('{:^15}\\t{}\\t{}\\t{:.3f}\\t'.format(\"IDS\", len(result)-1, goalStep, ebf(goalStep, len(result)-1)))\n",
    "        for i, hf in enumerate(hfunctions):\n",
    "            goalStep = 0\n",
    "            (result, depth) = aStarSearch(startState, actionsF_8p, takeActionF_8p,\n",
    "                        lambda s: goalTestF_8p(s, goalState),\n",
    "                        lambda s: hf(s, goalState))\n",
    "            # print A* results\n",
    "            print('{:^15}\\t{}\\t{}\\t{:.3f}\\t'.format(\"A*h\"+str(i+1), depth, goalStep, ebf(goalStep, depth)))\n",
    "        print()\n",
    "    "
   ]
  },
  {
   "cell_type": "code",
   "execution_count": 6,
   "metadata": {
    "collapsed": false
   },
   "outputs": [
    {
     "name": "stdout",
     "output_type": "stream",
     "text": [
      "[1, 2, 3, 4, 0, 5, 6, 7, 8]\n",
      "   Algorithm   \tDepth\tNodes\tEBF\t\n",
      "      IDS      \t0\t0\t0.000\t\n",
      "     A*h1      \t0\t0\t0.000\t\n",
      "     A*h2      \t0\t0\t0.000\t\n",
      "     A*h3      \t0\t0\t0.000\t\n",
      "\n",
      "[1, 2, 3, 4, 5, 8, 6, 0, 7]\n",
      "   Algorithm   \tDepth\tNodes\tEBF\t\n",
      "      IDS      \t3\t43\t3.086\t\n",
      "     A*h1      \t3\t116\t4.488\t\n",
      "     A*h2      \t3\t51\t3.297\t\n",
      "     A*h3      \t3\t9\t1.578\t\n",
      "\n",
      "[1, 0, 3, 4, 5, 8, 2, 6, 7]\n",
      "   Algorithm   \tDepth\tNodes\tEBF\t\n",
      "      IDS      \t11\t225850\t2.954\t\n",
      "     A*h1      \t11\t643246\t3.263\t\n",
      "     A*h2      \t11\t100046\t2.733\t\n",
      "     A*h3      \t11\t8008\t2.138\t\n",
      "\n"
     ]
    }
   ],
   "source": [
    "runExperiment([1, 2, 3, 4, 0, 5, 6, 7, 8],[1, 2, 3, 4, 5, 8, 6, 0, 7],[1, 0, 3, 4, 5, 8, 2, 6, 7],[h1_8p, h2_8p, h3_8p])"
   ]
  },
  {
   "cell_type": "markdown",
   "metadata": {},
   "source": [
    "I **tried to use pandas** but I found **it is not convinient** than simply using print statement. I generated similar output as required, as above. It is readable enough so I didn't make any further polishment."
   ]
  },
  {
   "cell_type": "markdown",
   "metadata": {},
   "source": [
    "First, some example output for the ebf function."
   ]
  },
  {
   "cell_type": "code",
   "execution_count": 7,
   "metadata": {
    "collapsed": false
   },
   "outputs": [
    {
     "data": {
      "text/plain": [
       "1.6600087601905824"
      ]
     },
     "execution_count": 7,
     "metadata": {},
     "output_type": "execute_result"
    }
   ],
   "source": [
    "ebf(10, 3)"
   ]
  },
  {
   "cell_type": "code",
   "execution_count": 8,
   "metadata": {
    "collapsed": false
   },
   "outputs": [
    {
     "data": {
      "text/plain": [
       "1.9921875"
      ]
     },
     "execution_count": 8,
     "metadata": {},
     "output_type": "execute_result"
    }
   ],
   "source": [
    "ebf(3, 1)"
   ]
  },
  {
   "cell_type": "code",
   "execution_count": 9,
   "metadata": {
    "collapsed": false
   },
   "outputs": [
    {
     "data": {
      "text/plain": [
       "0.0078125"
      ]
     },
     "execution_count": 9,
     "metadata": {},
     "output_type": "execute_result"
    }
   ],
   "source": [
    "ebf(1, 1)"
   ]
  },
  {
   "cell_type": "markdown",
   "metadata": {},
   "source": [
    "1 + b^1 = 1"
   ]
  },
  {
   "cell_type": "code",
   "execution_count": 10,
   "metadata": {
    "collapsed": false
   },
   "outputs": [
    {
     "data": {
      "text/plain": [
       "0.6187184335382292"
      ]
     },
     "execution_count": 10,
     "metadata": {},
     "output_type": "execute_result"
    }
   ],
   "source": [
    "ebf(2, 2)"
   ]
  },
  {
   "cell_type": "markdown",
   "metadata": {},
   "source": [
    "1 + b^1 + b^2 = 2"
   ]
  },
  {
   "cell_type": "code",
   "execution_count": 11,
   "metadata": {
    "collapsed": false
   },
   "outputs": [
    {
     "data": {
      "text/plain": [
       "0.8112653832979171"
      ]
     },
     "execution_count": 11,
     "metadata": {},
     "output_type": "execute_result"
    }
   ],
   "source": [
    "ebf(3, 3)"
   ]
  },
  {
   "cell_type": "markdown",
   "metadata": {},
   "source": [
    "1 + b^1 + b^2 + b^3 = 3"
   ]
  },
  {
   "cell_type": "markdown",
   "metadata": {},
   "source": [
    "The smallest argument values should be a depth of 0, and 1 node."
   ]
  },
  {
   "cell_type": "code",
   "execution_count": 12,
   "metadata": {
    "collapsed": false
   },
   "outputs": [
    {
     "data": {
      "text/plain": [
       "1"
      ]
     },
     "execution_count": 12,
     "metadata": {},
     "output_type": "execute_result"
    }
   ],
   "source": [
    "ebf(1, 0)"
   ]
  },
  {
   "cell_type": "code",
   "execution_count": 13,
   "metadata": {
    "collapsed": false
   },
   "outputs": [
    {
     "data": {
      "text/plain": [
       "1.0"
      ]
     },
     "execution_count": 13,
     "metadata": {},
     "output_type": "execute_result"
    }
   ],
   "source": [
    "ebf(2, 1)"
   ]
  },
  {
   "cell_type": "code",
   "execution_count": 14,
   "metadata": {
    "collapsed": false
   },
   "outputs": [
    {
     "data": {
      "text/plain": [
       "1.0"
      ]
     },
     "execution_count": 14,
     "metadata": {},
     "output_type": "execute_result"
    }
   ],
   "source": [
    "ebf(2, 1, precision=0.000001)"
   ]
  },
  {
   "cell_type": "code",
   "execution_count": 15,
   "metadata": {
    "collapsed": false
   },
   "outputs": [
    {
     "data": {
      "text/plain": [
       "11.27559688043982"
      ]
     },
     "execution_count": 15,
     "metadata": {},
     "output_type": "execute_result"
    }
   ],
   "source": [
    "ebf(200000, 5)"
   ]
  },
  {
   "cell_type": "code",
   "execution_count": 16,
   "metadata": {
    "collapsed": false
   },
   "outputs": [
    {
     "data": {
      "text/plain": [
       "1.2348192485141916"
      ]
     },
     "execution_count": 16,
     "metadata": {},
     "output_type": "execute_result"
    }
   ],
   "source": [
    "ebf(200000, 50)"
   ]
  },
  {
   "cell_type": "markdown",
   "metadata": {},
   "source": [
    "Self-Testing for some examples"
   ]
  },
  {
   "cell_type": "code",
   "execution_count": 17,
   "metadata": {
    "collapsed": false
   },
   "outputs": [
    {
     "data": {
      "text/plain": [
       "[('left', 1), ('right', 1), ('up', 1)]"
      ]
     },
     "execution_count": 17,
     "metadata": {},
     "output_type": "execute_result"
    }
   ],
   "source": [
    "actionsF_8p([1, 2, 3, 4, 5, 6, 7, 0, 8])"
   ]
  },
  {
   "cell_type": "code",
   "execution_count": 18,
   "metadata": {
    "collapsed": false
   },
   "outputs": [
    {
     "data": {
      "text/plain": [
       "([1, 2, 3, 4, 0, 6, 7, 5, 8], 1)"
      ]
     },
     "execution_count": 18,
     "metadata": {},
     "output_type": "execute_result"
    }
   ],
   "source": [
    "takeActionF_8p([1, 2, 3, 4, 5, 6, 7, 0, 8], (\"up\", 1))"
   ]
  },
  {
   "cell_type": "code",
   "execution_count": 19,
   "metadata": {
    "collapsed": false
   },
   "outputs": [
    {
     "data": {
      "text/plain": [
       "True"
      ]
     },
     "execution_count": 19,
     "metadata": {},
     "output_type": "execute_result"
    }
   ],
   "source": [
    "goalTestF_8p([1, 2, 3, 4, 5, 6, 7, 0, 8], [1, 2, 3, 4, 5, 6, 7, 0, 8])"
   ]
  },
  {
   "cell_type": "code",
   "execution_count": 20,
   "metadata": {
    "collapsed": false
   },
   "outputs": [
    {
     "data": {
      "text/plain": [
       "'cutoff'"
      ]
     },
     "execution_count": 20,
     "metadata": {},
     "output_type": "execute_result"
    }
   ],
   "source": [
    "iterativeDeepeningSearch([5, 2, 8, 0, 1, 4, 3, 7, 6], \n",
    "                                 [0, 2, 3, 1, 4,  6, 7, 5, 8],\n",
    "                                 actionsF_8p, takeActionF_8p, 10)"
   ]
  },
  {
   "cell_type": "code",
   "execution_count": 21,
   "metadata": {
    "collapsed": false
   },
   "outputs": [
    {
     "name": "stdout",
     "output_type": "stream",
     "text": [
      "-- from --\n",
      "1 2 3 \n",
      "6 5   \n",
      "7 8 4 \n",
      "-- to --\n",
      "1 2 3 \n",
      "6 5 4 \n",
      "7 8   \n",
      "needs at least  1  steps\n"
     ]
    }
   ],
   "source": [
    "print(\"-- from --\")\n",
    "printState_8p([1, 2, 3, 6, 5, 0, 7, 8, 4])\n",
    "print(\"-- to --\")\n",
    "printState_8p([1, 2, 3, 6, 5, 4, 7, 8, 0])\n",
    "print(\"needs at least \", h3_8p([1, 2, 3, 6, 5, 0, 7, 8, 4], [1, 2, 3, 6, 5, 4, 7, 8, 0]), \" steps\")"
   ]
  },
  {
   "cell_type": "markdown",
   "metadata": {},
   "source": [
    "The difference above is 4 and 0, we need to take 1 cost moving 4 to where 0 stands, and 1 cost moving 0 to where 4 stands in order to reach the goalState. We call the current state has **chaos value equals 4**. Whereas, we can **diminish at most 2 chaos value by making one move(sometimes could improve chaos value)**, so there are at least 1 step for cancelling chaos value. And the true cost from originalState to goalState is 1, obviously."
   ]
  },
  {
   "cell_type": "code",
   "execution_count": 22,
   "metadata": {
    "collapsed": false,
    "scrolled": true
   },
   "outputs": [
    {
     "name": "stdout",
     "output_type": "stream",
     "text": [
      "-- from --\n",
      "1 2 3 \n",
      "4 5 6 \n",
      "7 8   \n",
      "-- to --\n",
      "1 2 3 \n",
      "6 5 4 \n",
      "7 8   \n",
      "needs at least  2  steps\n"
     ]
    }
   ],
   "source": [
    "print(\"-- from --\")\n",
    "printState_8p([1, 2, 3, 4, 5, 6, 7, 8, 0])\n",
    "print(\"-- to --\")\n",
    "printState_8p([1, 2, 3, 6, 5, 4, 7, 8, 0])\n",
    "print(\"needs at least \", h3_8p([1, 2, 3, 4, 5, 6, 7, 8, 0], [1, 2, 3, 6, 5, 4, 7, 8, 0]), \" steps\")"
   ]
  },
  {
   "cell_type": "markdown",
   "metadata": {},
   "source": [
    "The difference above is 4 and 6, we need to take 2 cost moving 4 to where 6 stands, and 2 cost moving 6 to where 4 stands. The total chaos value is 4. Whereas, we can diminish chaos value by 2 by making one move, so there are **at least 2 steps** for cancelling all chaos value. While the **true cost** from originalState to goalState **is apparent more than 2**."
   ]
  },
  {
   "cell_type": "code",
   "execution_count": 23,
   "metadata": {
    "collapsed": false,
    "scrolled": true
   },
   "outputs": [
    {
     "name": "stdout",
     "output_type": "stream",
     "text": [
      "-- from --\n",
      "5 2 8 \n",
      "  1 4 \n",
      "3 7 6 \n",
      "-- to --\n",
      "  2 3 \n",
      "1 4 6 \n",
      "7 5 8 \n",
      "needs at least  6  steps\n"
     ]
    }
   ],
   "source": [
    "print(\"-- from --\")\n",
    "printState_8p([5, 2, 8, 0, 1, 4, 3, 7, 6])\n",
    "print(\"-- to --\")\n",
    "printState_8p([0, 2, 3, 1, 4,  6, 7, 5, 8])\n",
    "print(\"needs at least \", h3_8p([5, 2, 8, 0, 1, 4, 3, 7, 6], [0, 2, 3, 1, 4,  6, 7, 5, 8]), \" steps\")"
   ]
  },
  {
   "cell_type": "markdown",
   "metadata": {},
   "source": [
    "Here is a simple example using our usual simple graph search."
   ]
  },
  {
   "cell_type": "code",
   "execution_count": 24,
   "metadata": {
    "collapsed": true
   },
   "outputs": [],
   "source": [
    "def actionsF_simple(state):\n",
    "    succs = {'a': ['b', 'c'], 'b':['a'], 'c':['h'], 'h':['i'], 'i':['j', 'k', 'l'], 'k':['z']}\n",
    "    return [(s, 1) for s in succs.get(state, [])]\n",
    "\n",
    "def takeActionF_simple(state, action):\n",
    "    return action\n",
    "\n",
    "def goalTestF_simple(state, goal):\n",
    "    return state == goal\n",
    "\n",
    "def h_simple(state, goal):\n",
    "    return 1"
   ]
  },
  {
   "cell_type": "code",
   "execution_count": 25,
   "metadata": {
    "collapsed": false
   },
   "outputs": [
    {
     "data": {
      "text/plain": [
       "[('b', 1), ('c', 1)]"
      ]
     },
     "execution_count": 25,
     "metadata": {},
     "output_type": "execute_result"
    }
   ],
   "source": [
    "actions = actionsF_simple('a')\n",
    "actions"
   ]
  },
  {
   "cell_type": "code",
   "execution_count": 26,
   "metadata": {
    "collapsed": false
   },
   "outputs": [
    {
     "data": {
      "text/plain": [
       "('b', 1)"
      ]
     },
     "execution_count": 26,
     "metadata": {},
     "output_type": "execute_result"
    }
   ],
   "source": [
    "takeActionF_simple('a', actions[0])"
   ]
  },
  {
   "cell_type": "code",
   "execution_count": 27,
   "metadata": {
    "collapsed": false
   },
   "outputs": [
    {
     "data": {
      "text/plain": [
       "True"
      ]
     },
     "execution_count": 27,
     "metadata": {},
     "output_type": "execute_result"
    }
   ],
   "source": [
    "goalTestF_simple('a', 'a')"
   ]
  },
  {
   "cell_type": "code",
   "execution_count": 28,
   "metadata": {
    "collapsed": false
   },
   "outputs": [
    {
     "data": {
      "text/plain": [
       "1"
      ]
     },
     "execution_count": 28,
     "metadata": {},
     "output_type": "execute_result"
    }
   ],
   "source": [
    "h_simple('a', 'z')"
   ]
  },
  {
   "cell_type": "code",
   "execution_count": 29,
   "metadata": {
    "collapsed": false
   },
   "outputs": [
    {
     "data": {
      "text/plain": [
       "['b', 'a', 'b', 'a', 'c', 'h', 'i', 'k', 'z']"
      ]
     },
     "execution_count": 29,
     "metadata": {},
     "output_type": "execute_result"
    }
   ],
   "source": [
    "depthLimitedSearch('a', 'z', actionsF_simple, takeActionF_simple, 10)"
   ]
  },
  {
   "cell_type": "code",
   "execution_count": 30,
   "metadata": {
    "collapsed": false,
    "scrolled": true
   },
   "outputs": [
    {
     "data": {
      "text/plain": [
       "['a', 'c', 'h', 'i', 'k', 'z']"
      ]
     },
     "execution_count": 30,
     "metadata": {},
     "output_type": "execute_result"
    }
   ],
   "source": [
    "iterativeDeepeningSearch('a', 'z', actionsF_simple, takeActionF_simple, 10)"
   ]
  },
  {
   "cell_type": "code",
   "execution_count": 31,
   "metadata": {
    "collapsed": false
   },
   "outputs": [
    {
     "data": {
      "text/plain": [
       "(['a', 'c', 'h', 'i', 'k', 'z'], 5)"
      ]
     },
     "execution_count": 31,
     "metadata": {},
     "output_type": "execute_result"
    }
   ],
   "source": [
    "aStarSearch('a',actionsF_simple, takeActionF_simple,\n",
    "            lambda s: goalTestF_simple(s, 'z'),\n",
    "            lambda s: h_simple(s, 'z'))"
   ]
  },
  {
   "cell_type": "markdown",
   "metadata": {},
   "source": [
    "Download [A3grader.tar](http://www.cs.colostate.edu/~anderson/cs440/notebooks/A3grader.tar) and extract A3grader.py from it."
   ]
  },
  {
   "cell_type": "code",
   "execution_count": 32,
   "metadata": {
    "collapsed": false
   },
   "outputs": [
    {
     "name": "stdout",
     "output_type": "stream",
     "text": [
      "\n",
      "Testing actionsF_8p([1, 2, 3, 4, 5, 6, 7, 0, 8])\n",
      "\n",
      "--- 5/5 points. Your actionsF_8p correctly returned [('left', 1), ('right', 1), ('up', 1)]\n",
      "\n",
      "Testing takeActionF_8p([1, 2, 3, 4, 5, 6, 7, 0, 8], (up, 1))\n",
      "\n",
      "--- 5/5 points. Your takeActionsF_8p correctly returned ([1, 2, 3, 4, 0, 6, 7, 5, 8], 1)\n",
      "\n",
      "Testing goalTestF_8p([1, 2, 3, 4, 5, 6, 7, 0, 8], [1, 2, 3, 4, 5, 6, 7, 0, 8])\n",
      "\n",
      "--- 5/5 points. Your goalTestF_8p correctly True\n",
      "\n",
      "Testing aStarSearch([1, 2, 3, 4, 5, 6, 7, 0, 8],\n",
      "                     actionsF_8p, takeActionF_8p,\n",
      "                     lambda s: goalTestF_8p(s, [0, 2, 3, 1, 4,  6, 7, 5, 8]),\n",
      "                     lambda s: h1_8p(s, [0, 2, 3, 1, 4,  6, 7, 5, 8]))\n",
      "\n",
      "--- 20/20 points. Your search correctly returned ([[1, 2, 3, 4, 5, 6, 7, 0, 8], [1, 2, 3, 4, 0, 6, 7, 5, 8], [1, 2, 3, 0, 4, 6, 7, 5, 8], [0, 2, 3, 1, 4, 6, 7, 5, 8]], 3)\n",
      "\n",
      "Testing iterativeDeepeningSearch([5, 2, 8, 0, 1, 4, 3, 7, 6], \n",
      "                                 [0, 2, 3, 1, 4,  6, 7, 5, 8],\n",
      "                                 actionsF_8p, takeActionF_8p, 10)\n",
      "\n",
      "--- 15/15 points. Your search correctly returned cutoff\n",
      "\n",
      "A3 Grade is 50/50\n"
     ]
    }
   ],
   "source": [
    "%run -i A3grader.py"
   ]
  }
 ],
 "metadata": {
  "anaconda-cloud": {},
  "kernelspec": {
   "display_name": "Python 3",
   "language": "python",
   "name": "python3"
  },
  "language_info": {
   "codemirror_mode": {
    "name": "ipython",
    "version": 3
   },
   "file_extension": ".py",
   "mimetype": "text/x-python",
   "name": "python",
   "nbconvert_exporter": "python",
   "pygments_lexer": "ipython3",
   "version": "3.6.0"
  }
 },
 "nbformat": 4,
 "nbformat_minor": 1
}
