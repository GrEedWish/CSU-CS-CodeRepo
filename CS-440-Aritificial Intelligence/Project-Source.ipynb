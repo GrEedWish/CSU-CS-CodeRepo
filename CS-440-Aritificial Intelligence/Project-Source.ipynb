{
 "cells": [
  {
   "cell_type": "markdown",
   "metadata": {},
   "source": [
    "# Reinforcement Learning for Gomoku Game - Source"
   ]
  },
  {
   "cell_type": "markdown",
   "metadata": {},
   "source": [
    "*by Jim Xu, Dec. 2017*\n",
    "\n",
    "### Reinforcement Learning for Gomoku Game - [Report](https://nbviewer.jupyter.org/github/GrEedWish/csu-cs-440/blob/master/Project-Report.ipynb)"
   ]
  },
  {
   "cell_type": "code",
   "execution_count": 3,
   "metadata": {
    "collapsed": true
   },
   "outputs": [],
   "source": [
    "import numpy as np\n",
    "import random\n",
    "import copy"
   ]
  },
  {
   "cell_type": "markdown",
   "metadata": {},
   "source": [
    "First, define the game board and rules."
   ]
  },
  {
   "cell_type": "code",
   "execution_count": 4,
   "metadata": {
    "collapsed": true
   },
   "outputs": [],
   "source": [
    "class GomokuGame(object):\n",
    "    \n",
    "    def __init__(self, size = 5, limit = 4, test=False):\n",
    "        self.boardSize = size\n",
    "        self.limit = limit\n",
    "        self.board = np.zeros(shape=(self.boardSize, self.boardSize))\n",
    "        self.player = 1\n",
    "        self.playerLookAHead = self.player\n",
    "        self.move = None\n",
    "        self.movesExplored = 0\n",
    "        \n",
    "        if test:\n",
    "            self.board = np.array([0,0,0,0,1,0,1,0,2,0,0,1,2,0,1,2,0,0,1,0,2,0,0,0,1]).reshape(5,5)\n",
    "        \n",
    "    def __str__(self):\n",
    "        return str(self.board)\n",
    "    \n",
    "    def setGame(self, board, player, playerLookAHead, limit = 4):\n",
    "        self.board = board\n",
    "        self.player = player\n",
    "        self.playerLookAHead = playerLookAHead\n",
    "        self.limit = limit\n",
    "    \n",
    "    def getAllMoves(self, All = False):\n",
    "        # return valid moves on board\n",
    "        # as a list, contains x,y tuples for each position\n",
    "        # e.g. [(x1,y1), (x2, y2) ... (xn, yn)]\n",
    "        # ALL ? Return All valid or All positions in board\n",
    "        if All:\n",
    "            return [(x, y) for x in range(game.boardSize) for y in range(game.boardSize)]\n",
    "        else:\n",
    "            return [tuple(move) for move in (np.asarray(np.where(self.board == 0)).T)]\n",
    "    \n",
    "    def getBoardScore(self, player = None, move = None, lookBack = False):\n",
    "        \n",
    "        '''\n",
    "        Using given knowledge calculating the proposed value for a given move\n",
    "        takeIn: current player (LookAhead), Move\n",
    "        Return: Value (int) for this move\n",
    "        blank(0): +1 [consecutive + 1]\n",
    "        same: +2 (diag : +1) [consecutive + 2]\n",
    "        initialize Score = penalty: abs(self.size/2-xCor) + abs(self.size/2-yCor)\n",
    "        \n",
    "        '''\n",
    "        if lookBack:\n",
    "            player = 1 if game.playerLookAHead == 2 else 2\n",
    "            move = self.move\n",
    "        \n",
    "        xCor, yCor = move[0], move[1]\n",
    "        \n",
    "        if not lookBack:\n",
    "            if game.board[xCor, yCor] != 0:\n",
    "                # hard-code least possible score\n",
    "                return None\n",
    "\n",
    "        game.board[xCor, yCor] = player\n",
    "        xInc = [1,0,1,1]\n",
    "        yInc = [0,1,1,-1]\n",
    "        bestScore = 0\n",
    "        oriScore = - 2 * (abs(int(self.boardSize/2)-xCor) ** 2 + abs(int(self.boardSize/2)-yCor) ** 2)\n",
    "        for index in range(0,4):\n",
    "            score = oriScore\n",
    "            consecutive_0 = 0\n",
    "            consecutive_p = 0\n",
    "            for i in range(-self.limit, self.limit+1):\n",
    "                newXCor = xCor + i*xInc[index]\n",
    "                newYCor = yCor + i*yInc[index]\n",
    "                if newXCor < 0 or newYCor < 0:\n",
    "                    continue\n",
    "                if newXCor >= self.boardSize or newYCor >= self.boardSize:\n",
    "                    continue\n",
    "                if self.board[newXCor, newYCor] == player:\n",
    "                    score += (2 + int((index+2)/2) + 3 * consecutive_p)\n",
    "                    consecutive_p += 1\n",
    "                elif self.board[newXCor, newYCor] == 0:\n",
    "                    score += (1 + int((index+2)/2) + 1 * consecutive_0)\n",
    "                    consecutive_0 += 1\n",
    "                else:\n",
    "                    bestScore = max(score, bestScore)\n",
    "                    score = oriScore\n",
    "                    consecutive_0 = 0\n",
    "                    consecutive_p = 0\n",
    "                bestScore = max(score, bestScore)\n",
    "        \n",
    "        if not lookBack: \n",
    "            game.board[xCor, yCor] = 0\n",
    "\n",
    "        return bestScore\n",
    "    \n",
    "    def getMovesAround(self, cenMove):\n",
    "        '''\n",
    "        Return a list of tuples for moves around a specific opponent move\n",
    "        '''\n",
    "        return [tuple(move) for move in (np.asarray(np.where(self.board == 0)).T) \n",
    "               if ((move[0] - cenMove[0] <= 1 and move[0] - cenMove[0] >= -1) and\n",
    "                   (move[1] - cenMove[1] <= 1 and move[1] - cenMove[1] >= -1))]\n",
    "\n",
    "    def getOptMoves(self, random = True, number = 1):\n",
    "        \"\"\"\n",
    "        get Optimal moves according to each moves score\n",
    "        from a pool of all possible moves\n",
    "        Random ? return top # number of best moves\n",
    "            else : return the best moves\n",
    "        \"\"\"\n",
    "        validMoves = game.getAllMoves()\n",
    "        scores = np.array([game.getBoardScore(game.playerLookAHead, move) for move in validMoves])\n",
    "        if random:\n",
    "            takeOut = min(5, len(scores))\n",
    "            if number == 1:\n",
    "                return [tuple(validMoves[np.random.choice(scores.argsort()[-takeOut:])])]\n",
    "            else:\n",
    "                takeOut = max(takeOut, number)\n",
    "                return [tuple(validMoves[i]) for i in (scores.argsort()[-takeOut:])]\n",
    "        else:\n",
    "            maxs = max(scores)\n",
    "            return [tuple(validMoves[i]) for i in np.where(scores == maxs)[0]]\n",
    "        \n",
    "    def makeMove(self, move):\n",
    "        # return the board that results from applying move in board for a given player\n",
    "        self.movesExplored += 1\n",
    "        self.move = move\n",
    "        self.board[move[0], move[1]] = self.playerLookAHead\n",
    "        self.playerLookAHead = 1 if self.playerLookAHead == 2 else 2\n",
    "        return game.board\n",
    "    \n",
    "    def locations(self, c):\n",
    "        return [i for i, mark in np.ndenumerate(self.board) if mark == c]\n",
    "    \n",
    "    def checkWinner(self, player, move = -1, limit = -1):\n",
    "        \"\"\"\n",
    "        check if the move gives given player a win\n",
    "        \"\"\"\n",
    "        if move == -1: move = self.move\n",
    "        if limit == -1: limit = self.limit\n",
    "        if move is None:\n",
    "            return False\n",
    "        xCor, yCor = move[0], move[1]\n",
    "        xInc = [1,1,1,0]\n",
    "        yInc = [1,-1,0,1]\n",
    "        for index in range(0,4):\n",
    "            checkNum = 0\n",
    "            consecutive_F = False \n",
    "            for i in range(-limit, limit+1):\n",
    "                newXCor = xCor + i*xInc[index]\n",
    "                newYCor = yCor + i*yInc[index]\n",
    "                if newXCor < 0 or newYCor < 0:\n",
    "                    continue\n",
    "                if newXCor >= self.boardSize or newYCor >= self.boardSize:\n",
    "                    continue\n",
    "                if newXCor == xCor and newYCor == yCor:\n",
    "                    checkNum += 1\n",
    "                    \n",
    "                elif self.board[newXCor, newYCor] == player:\n",
    "                    checkNum += 1\n",
    "                \n",
    "                else: \n",
    "                    checkNum = 0\n",
    "\n",
    "                if checkNum == limit:\n",
    "                    return True\n",
    "        return False\n",
    "        \n",
    "    def getUtility(self):\n",
    "        if self.checkWinner(1 if self.playerLookAHead == 2 else 2):\n",
    "            'No winner'\n",
    "            return -1\n",
    "        elif 0 not in self.board:\n",
    "            'No blanks'\n",
    "            return 0\n",
    "        else: return None\n",
    "        \n",
    "    def isOver(self):\n",
    "        return self.getUtility() is not None\n",
    "    \n",
    "    def changePlayer(self):\n",
    "        self.player = 1 if self.player == 2 else 2\n",
    "        self.playerLookAHead = self.player\n",
    "\n",
    "    def unmakeMove(self, move):\n",
    "        self.move = None\n",
    "        self.board[move[0], move[1]] = 0\n",
    "        self.playerLookAHead = 1 if self.playerLookAHead == 2 else 2\n",
    "\n",
    "    def getNumberMovesExplored(self):\n",
    "        return self.movesExplored"
   ]
  },
  {
   "cell_type": "code",
   "execution_count": 5,
   "metadata": {
    "collapsed": true
   },
   "outputs": [],
   "source": [
    "def negamaxIDSab(game, depthLimit, alpha=-float('infinity'), beta=float('infinity')):\n",
    "    bestValue = -float('infinity')\n",
    "    bestMove = None\n",
    "    for i in range (1, depthLimit+1):\n",
    "        value, move = negamaxab(game, i, alpha, beta)\n",
    "        if value is None:\n",
    "            continue\n",
    "        if bestValue < value:\n",
    "            bestValue = value\n",
    "            bestMove = move\n",
    "        if bestValue == 1:\n",
    "            return bestValue, bestMove\n",
    "    return bestValue, bestMove\n",
    "\n",
    "def negamaxab(game, depthLeft, alpha=-float('infinity'), beta=float('infinity')):\n",
    "    # In the for loop for trying moves, negate and swap the values of alpha and beta, \n",
    "    # and the returned value from recursive calls must be negated.\n",
    "    alpha, beta = -beta, -alpha\n",
    "    # If at terminal state or depth limit, return utility value and move None\n",
    "    if game.isOver() or depthLeft == 0:\n",
    "        return -game.getBoardScore(lookBack = True), None # call to negamax knows the move\n",
    "    # Find best move and its value from current state\n",
    "    bestValue, bestMove = None, None\n",
    "    for move in game.getOptMoves(number = 5):\n",
    "        # Apply a move to current state      \n",
    "        game.makeMove(move)\n",
    "        \n",
    "        # Use depth-first search to find eventual utility value and back it up.\n",
    "        #  Negate it because it will come back in context of next player\n",
    "        value, _ = negamaxab(game, depthLeft-1, alpha, beta)\n",
    "        \n",
    "        # Remove the move from current state, to prepare for trying a different move\n",
    "        game.unmakeMove(move)\n",
    "        \n",
    "        value = - value\n",
    "\n",
    "        if bestValue is None or value > bestValue:\n",
    "#             print(\"Update bestValue bestMove\", bestValue, bestMove)\n",
    "            bestValue, bestMove = value, move\n",
    "        # Update alpha to maximum of bestValue and current alpha.\n",
    "        alpha = max(bestValue, alpha)\n",
    "        if alpha >= beta:\n",
    "            # Do early return if bestScore is greater than or equal to beta.\n",
    "            return bestValue, bestMove\n",
    "    if bestValue is None and bestMove is None:\n",
    "        return 0, game.getOptMoves()[0]\n",
    "    return bestValue, bestMove"
   ]
  },
  {
   "cell_type": "code",
   "execution_count": 6,
   "metadata": {
    "collapsed": true
   },
   "outputs": [],
   "source": [
    "def opponent(game):\n",
    "    return random.choice(game.getAllMoves())\n",
    "\n",
    "def playGame(game,opponent,depthLimit):\n",
    "    print(game)\n",
    "    while not game.isOver():\n",
    "        opponentMove = opponent(game)\n",
    "        game.makeMove(opponentMove)\n",
    "        print('Player', game.player, 'to', opponentMove)   ### FIXED ERROR IN THIS LINE!\n",
    "        print(game)\n",
    "        if not game.isOver():\n",
    "            game.changePlayer()\n",
    "            score,move = negamaxIDSab(game,depthLimit)\n",
    "            if move == None :\n",
    "                print('move is None. Stopping.')\n",
    "                break\n",
    "            game.makeMove(move)\n",
    "            print('Player', game.player, 'to', move, 'for score' ,score)\n",
    "            print(game)\n",
    "            game.changePlayer()\n",
    "    print(game.getNumberMovesExplored())"
   ]
  },
  {
   "cell_type": "code",
   "execution_count": 7,
   "metadata": {
    "collapsed": true
   },
   "outputs": [],
   "source": [
    "def randomStratage(game):\n",
    "    return random.choice(game.getAllMoves())\n",
    "\n",
    "def printBoard(value):\n",
    "    Vprint = [int(-99) if v is None else v for v in value]\n",
    "    print('''    {:6.2f} | {:6.2f} | {:6.2f} | {:6.2f} | {:6.2f}\n",
    "    -------------------------------------------\n",
    "    {:6.2f} | {:6.2f} | {:6.2f} | {:6.2f} | {:6.2f}\n",
    "    -------------------------------------------\n",
    "    {:6.2f} | {:6.2f} | {:6.2f} | {:6.2f} | {:6.2f}\n",
    "    -------------------------------------------\n",
    "    {:6.2f} | {:6.2f} | {:6.2f} | {:6.2f} | {:6.2f}\n",
    "    -------------------------------------------\n",
    "    {:6.2f} | {:6.2f} | {:6.2f} | {:6.2f} | {:6.2f}\n",
    "    '''.format(*Vprint))"
   ]
  },
  {
   "cell_type": "markdown",
   "metadata": {},
   "source": [
    "Let do some basic examples getting to know the functions of GomokuGame class"
   ]
  },
  {
   "cell_type": "code",
   "execution_count": 8,
   "metadata": {
    "collapsed": true,
    "scrolled": true
   },
   "outputs": [],
   "source": [
    "game = GomokuGame(size=5,limit=4)"
   ]
  },
  {
   "cell_type": "markdown",
   "metadata": {},
   "source": [
    "**getBoardScore** is the core function in GomokuGame Class, it provides scores for a given board and calculate each move score based on some human knowledge (NOTE: the score calculation implementation is not perfect here). With the help of scores, we can easier pick perfered moves from those moves with high scores.\n",
    "\n",
    "Let's take a look at the scores for initial board."
   ]
  },
  {
   "cell_type": "code",
   "execution_count": 9,
   "metadata": {
    "scrolled": true
   },
   "outputs": [
    {
     "name": "stdout",
     "output_type": "stream",
     "text": [
      "      6.00 |   7.00 |   9.00 |   7.00 |   6.00\n",
      "    -------------------------------------------\n",
      "      7.00 |  18.00 |  15.00 |  18.00 |   7.00\n",
      "    -------------------------------------------\n",
      "      9.00 |  15.00 |  22.00 |  15.00 |   9.00\n",
      "    -------------------------------------------\n",
      "      7.00 |  18.00 |  15.00 |  18.00 |   7.00\n",
      "    -------------------------------------------\n",
      "      6.00 |   7.00 |   9.00 |   7.00 |   6.00\n",
      "    \n"
     ]
    }
   ],
   "source": [
    "printBoard(np.array([game.getBoardScore(game.playerLookAHead, move) for move in game.getAllMoves(All=True)]))"
   ]
  },
  {
   "cell_type": "markdown",
   "metadata": {},
   "source": [
    "**getOptMoves** is another core function in GomokuGame Class, it provides different returns for optimal moves based on scores. It can either return the best move with highest scores, or a random move in the top # of best moves with highest scores, or the top # of best moves with highest scores."
   ]
  },
  {
   "cell_type": "code",
   "execution_count": 10,
   "metadata": {
    "scrolled": true
   },
   "outputs": [
    {
     "data": {
      "text/plain": [
       "([(2, 2)], [(3, 3)], [(3, 1), (3, 3), (1, 3), (1, 1), (2, 2)])"
      ]
     },
     "execution_count": 10,
     "metadata": {},
     "output_type": "execute_result"
    }
   ],
   "source": [
    "game.getOptMoves(random=False), game.getOptMoves(random = True, number = 1), game.getOptMoves(random = True, number = 5)"
   ]
  },
  {
   "cell_type": "markdown",
   "metadata": {},
   "source": [
    "Let's begin the game with the first move (2,2), which looks good to me for my first step."
   ]
  },
  {
   "cell_type": "code",
   "execution_count": 11,
   "metadata": {},
   "outputs": [
    {
     "name": "stdout",
     "output_type": "stream",
     "text": [
      "[[ 0.  0.  0.  0.  0.]\n",
      " [ 0.  0.  0.  0.  0.]\n",
      " [ 0.  0.  1.  0.  0.]\n",
      " [ 0.  0.  0.  0.  0.]\n",
      " [ 0.  0.  0.  0.  0.]]\n"
     ]
    }
   ],
   "source": [
    "game.makeMove((2,2))\n",
    "game.changePlayer()\n",
    "print(game)"
   ]
  },
  {
   "cell_type": "markdown",
   "metadata": {},
   "source": [
    "Then, lets take a look at the scores after I took the first move."
   ]
  },
  {
   "cell_type": "code",
   "execution_count": 12,
   "metadata": {},
   "outputs": [
    {
     "name": "stdout",
     "output_type": "stream",
     "text": [
      "      1.00 |   7.00 |   9.00 |   7.00 |   1.00\n",
      "    -------------------------------------------\n",
      "      7.00 |  13.00 |  15.00 |  13.00 |   7.00\n",
      "    -------------------------------------------\n",
      "      9.00 |  15.00 | -99.00 |  15.00 |   9.00\n",
      "    -------------------------------------------\n",
      "      7.00 |  13.00 |  15.00 |  13.00 |   7.00\n",
      "    -------------------------------------------\n",
      "      1.00 |   7.00 |   9.00 |   7.00 |   1.00\n",
      "    \n"
     ]
    }
   ],
   "source": [
    "printBoard(np.array([game.getBoardScore(game.playerLookAHead, move) for move in game.getAllMoves(All=True)]))"
   ]
  },
  {
   "cell_type": "markdown",
   "metadata": {},
   "source": [
    "According to the table, the best move for my opponent is with **value 15 (one of (1,1), (1,3), (3,1), (3,3))**. However, I want computer gives my opponent an convincing choice for its next move.\n",
    "\n",
    "**Negamax with Alpha–beta pruning** is used here to find a local optimal move for the opponent from a pool of 5 best move with highest scores."
   ]
  },
  {
   "cell_type": "code",
   "execution_count": 13,
   "metadata": {
    "scrolled": false
   },
   "outputs": [
    {
     "data": {
      "text/plain": [
       "(16, (1, 1))"
      ]
     },
     "execution_count": 13,
     "metadata": {},
     "output_type": "execute_result"
    }
   ],
   "source": [
    "score,move = negamaxab(game, 3)\n",
    "score,move"
   ]
  },
  {
   "cell_type": "code",
   "execution_count": 14,
   "metadata": {
    "scrolled": true
   },
   "outputs": [
    {
     "data": {
      "text/plain": [
       "(16, (1, 1))"
      ]
     },
     "execution_count": 14,
     "metadata": {},
     "output_type": "execute_result"
    }
   ],
   "source": [
    "score,move = negamaxab(game, 5)\n",
    "score,move"
   ]
  },
  {
   "cell_type": "markdown",
   "metadata": {},
   "source": [
    "**While through Negamax with Alpha–beta pruning, the best move is changed to (1,1) with value 13.**"
   ]
  },
  {
   "cell_type": "code",
   "execution_count": 15,
   "metadata": {
    "scrolled": false
   },
   "outputs": [
    {
     "data": {
      "text/plain": [
       "array([[ 0.,  0.,  0.,  0.,  0.],\n",
       "       [ 0.,  2.,  0.,  0.,  0.],\n",
       "       [ 0.,  0.,  1.,  0.,  0.],\n",
       "       [ 0.,  0.,  0.,  0.,  0.],\n",
       "       [ 0.,  0.,  0.,  0.,  0.]])"
      ]
     },
     "execution_count": 15,
     "metadata": {},
     "output_type": "execute_result"
    }
   ],
   "source": [
    "score, opponentMove = negamaxab(game, 3)\n",
    "game.makeMove(opponentMove)"
   ]
  },
  {
   "cell_type": "code",
   "execution_count": 16,
   "metadata": {},
   "outputs": [
    {
     "data": {
      "text/plain": [
       "(False, 2, 1)"
      ]
     },
     "execution_count": 16,
     "metadata": {},
     "output_type": "execute_result"
    }
   ],
   "source": [
    "game.isOver(), game.player, game.playerLookAHead"
   ]
  },
  {
   "cell_type": "code",
   "execution_count": 17,
   "metadata": {},
   "outputs": [
    {
     "name": "stdout",
     "output_type": "stream",
     "text": [
      "[[ 0.  0.  0.  0.  0.]\n",
      " [ 0.  2.  0.  0.  0.]\n",
      " [ 0.  0.  1.  0.  0.]\n",
      " [ 0.  0.  0.  0.  0.]\n",
      " [ 0.  0.  0.  0.  0.]]\n"
     ]
    }
   ],
   "source": [
    "print(game)"
   ]
  },
  {
   "cell_type": "markdown",
   "metadata": {},
   "source": [
    "Now, I will take random moves and my opponent still uses local optimal moves."
   ]
  },
  {
   "cell_type": "code",
   "execution_count": 18,
   "metadata": {},
   "outputs": [
    {
     "name": "stdout",
     "output_type": "stream",
     "text": [
      "[[ 0.  0.  0.  0.  0.]\n",
      " [ 0.  2.  0.  0.  0.]\n",
      " [ 0.  0.  1.  0.  0.]\n",
      " [ 0.  0.  0.  1.  0.]\n",
      " [ 0.  0.  0.  0.  0.]]\n"
     ]
    }
   ],
   "source": [
    "game.changePlayer()\n",
    "move = randomStratage(game)\n",
    "game.makeMove(move)\n",
    "game.changePlayer()\n",
    "print(game)"
   ]
  },
  {
   "cell_type": "code",
   "execution_count": 19,
   "metadata": {
    "scrolled": false
   },
   "outputs": [
    {
     "name": "stdout",
     "output_type": "stream",
     "text": [
      "[[ 0.  0.  0.  0.  0.]\n",
      " [ 0.  2.  0.  0.  0.]\n",
      " [ 0.  0.  1.  2.  0.]\n",
      " [ 0.  0.  0.  1.  0.]\n",
      " [ 0.  0.  0.  0.  0.]]\n"
     ]
    }
   ],
   "source": [
    "score, opponentMove = negamaxab(game, 3)\n",
    "game.makeMove(opponentMove)\n",
    "game.changePlayer()\n",
    "print(game)"
   ]
  },
  {
   "cell_type": "code",
   "execution_count": 20,
   "metadata": {
    "scrolled": false
   },
   "outputs": [
    {
     "name": "stdout",
     "output_type": "stream",
     "text": [
      "[[ 0.  0.  0.  0.  0.]\n",
      " [ 0.  2.  0.  0.  0.]\n",
      " [ 0.  0.  1.  2.  0.]\n",
      " [ 0.  0.  0.  1.  0.]\n",
      " [ 0.  0.  0.  0.  0.]]\n",
      "Player 1 to (0, 0)\n",
      "[[ 1.  0.  0.  0.  0.]\n",
      " [ 0.  2.  0.  0.  0.]\n",
      " [ 0.  0.  1.  2.  0.]\n",
      " [ 0.  0.  0.  1.  0.]\n",
      " [ 0.  0.  0.  0.  0.]]\n",
      "Player 2 to (3, 1) for score 16\n",
      "[[ 1.  0.  0.  0.  0.]\n",
      " [ 0.  2.  0.  0.  0.]\n",
      " [ 0.  0.  1.  2.  0.]\n",
      " [ 0.  2.  0.  1.  0.]\n",
      " [ 0.  0.  0.  0.  0.]]\n",
      "Player 1 to (0, 2)\n",
      "[[ 1.  0.  1.  0.  0.]\n",
      " [ 0.  2.  0.  0.  0.]\n",
      " [ 0.  0.  1.  2.  0.]\n",
      " [ 0.  2.  0.  1.  0.]\n",
      " [ 0.  0.  0.  0.  0.]]\n",
      "Player 2 to (0, 1) for score 22\n",
      "[[ 1.  2.  1.  0.  0.]\n",
      " [ 0.  2.  0.  0.  0.]\n",
      " [ 0.  0.  1.  2.  0.]\n",
      " [ 0.  2.  0.  1.  0.]\n",
      " [ 0.  0.  0.  0.  0.]]\n",
      "Player 1 to (2, 1)\n",
      "[[ 1.  2.  1.  0.  0.]\n",
      " [ 0.  2.  0.  0.  0.]\n",
      " [ 0.  1.  1.  2.  0.]\n",
      " [ 0.  2.  0.  1.  0.]\n",
      " [ 0.  0.  0.  0.  0.]]\n",
      "Player 2 to (1, 2) for score 24\n",
      "[[ 1.  2.  1.  0.  0.]\n",
      " [ 0.  2.  2.  0.  0.]\n",
      " [ 0.  1.  1.  2.  0.]\n",
      " [ 0.  2.  0.  1.  0.]\n",
      " [ 0.  0.  0.  0.  0.]]\n",
      "Player 1 to (1, 0)\n",
      "[[ 1.  2.  1.  0.  0.]\n",
      " [ 1.  2.  2.  0.  0.]\n",
      " [ 0.  1.  1.  2.  0.]\n",
      " [ 0.  2.  0.  1.  0.]\n",
      " [ 0.  0.  0.  0.  0.]]\n",
      "Player 2 to (4, 2) for score 24\n",
      "[[ 1.  2.  1.  0.  0.]\n",
      " [ 1.  2.  2.  0.  0.]\n",
      " [ 0.  1.  1.  2.  0.]\n",
      " [ 0.  2.  0.  1.  0.]\n",
      " [ 0.  0.  2.  0.  0.]]\n",
      "Player 1 to (0, 3)\n",
      "[[ 1.  2.  1.  1.  0.]\n",
      " [ 1.  2.  2.  0.  0.]\n",
      " [ 0.  1.  1.  2.  0.]\n",
      " [ 0.  2.  0.  1.  0.]\n",
      " [ 0.  0.  2.  0.  0.]]\n",
      "Player 2 to (1, 4) for score 24\n",
      "[[ 1.  2.  1.  1.  0.]\n",
      " [ 1.  2.  2.  0.  2.]\n",
      " [ 0.  1.  1.  2.  0.]\n",
      " [ 0.  2.  0.  1.  0.]\n",
      " [ 0.  0.  2.  0.  0.]]\n",
      "Player 1 to (4, 1)\n",
      "[[ 1.  2.  1.  1.  0.]\n",
      " [ 1.  2.  2.  0.  2.]\n",
      " [ 0.  1.  1.  2.  0.]\n",
      " [ 0.  2.  0.  1.  0.]\n",
      " [ 0.  1.  2.  0.  0.]]\n",
      "Player 2 to (1, 3) for score 26\n",
      "[[ 1.  2.  1.  1.  0.]\n",
      " [ 1.  2.  2.  2.  2.]\n",
      " [ 0.  1.  1.  2.  0.]\n",
      " [ 0.  2.  0.  1.  0.]\n",
      " [ 0.  1.  2.  0.  0.]]\n",
      "2(Opponent) won\n",
      "1251\n"
     ]
    }
   ],
   "source": [
    "print(game)\n",
    "while not game.isOver():\n",
    "    move = randomStratage(game)\n",
    "    if move == None :\n",
    "        print('move is None. Stopping.')\n",
    "        break\n",
    "    game.makeMove(move)\n",
    "    print('Player', game.player, 'to', move)\n",
    "    print(game)\n",
    "    if(game.checkWinner(1)): print(\"1(I) won\")\n",
    "    if not game.isOver():\n",
    "        game.changePlayer()\n",
    "        score, opponentMove = negamaxab(game, 3)\n",
    "        game.makeMove(opponentMove)\n",
    "        print('Player', game.player, 'to', opponentMove, 'for score' ,score)\n",
    "        print(game)\n",
    "        game.changePlayer()\n",
    "        if(game.checkWinner(2)): print(\"2(Opponent) won\")\n",
    "print(game.getNumberMovesExplored())"
   ]
  },
  {
   "cell_type": "markdown",
   "metadata": {},
   "source": [
    "No surprising, my opponent wins the game based on negamaxab algorithm, when I take random move after first move."
   ]
  },
  {
   "cell_type": "markdown",
   "metadata": {},
   "source": [
    "Lets check the win rate using negamaxab algorithm, and make some comparsion\n",
    "\n",
    "NOTES: \n",
    "1. Player 1 takes random moves, Player 2 takes move based on negamaxabIDS algorithm or move score.\n",
    "2. Player 1 taking **random move first** because this will somehow enhence his win rate.\n",
    "3. Comparing win rates, one solely choose best move based on board score, or choose moves using negamaxab algorithm."
   ]
  },
  {
   "cell_type": "code",
   "execution_count": 21,
   "metadata": {
    "collapsed": true
   },
   "outputs": [],
   "source": [
    "def playGame(moveStratage,depthLimit,nRepetitions):\n",
    "    \n",
    "    outcomes1 = np.zeros(nRepetitions)\n",
    "    outcomes2 = np.zeros(nRepetitions)\n",
    "    outcomes3 = np.zeros(nRepetitions)\n",
    "    \n",
    "    for nRep in range(nRepetitions):\n",
    "        \n",
    "        global game\n",
    "        game = GomokuGame(size=5,limit=4)\n",
    "        done = False\n",
    "        \n",
    "        while not done:\n",
    "            move = randomStratage(game)\n",
    "            if move == None :\n",
    "                print('move is None. Stopping.')\n",
    "                break\n",
    "            game.makeMove(move)\n",
    "            \n",
    "            if(game.checkWinner(1, move)): \n",
    "                outcomes1[nRep] = 1\n",
    "                done = True\n",
    "            \n",
    "            if game.isOver() and not done:\n",
    "                outcomes1[nRep] = 0\n",
    "                done = True\n",
    "                \n",
    "            if not done:\n",
    "                game.changePlayer()\n",
    "                score, opponentMove = negamaxIDSab(game, depthLimit)\n",
    "                game.makeMove(opponentMove)\n",
    "                game.changePlayer()\n",
    "                \n",
    "            if(game.checkWinner(2, opponentMove)): \n",
    "                outcomes1[nRep] = 2\n",
    "                done = True\n",
    "            \n",
    "            if game.isOver() and not done:\n",
    "                outcomes1[nRep] = 0\n",
    "                done = True\n",
    "    \n",
    "    for nRep in range(nRepetitions):\n",
    "        \n",
    "        game = GomokuGame(size=5,limit=4)\n",
    "        done = False\n",
    "        \n",
    "        while not done:\n",
    "            move = randomStratage(game)\n",
    "            if move == None :\n",
    "                print('move is None. Stopping.')\n",
    "                break\n",
    "            game.makeMove(move)\n",
    "            \n",
    "            if(game.checkWinner(1, move)): \n",
    "                outcomes2[nRep] = 1\n",
    "                done = True\n",
    "            \n",
    "            if game.isOver() and not done:\n",
    "                outcomes2[nRep] = 0\n",
    "                done = True\n",
    "                \n",
    "            if not done:\n",
    "                game.changePlayer()\n",
    "                opponentMove = game.getOptMoves(random=False)[0]\n",
    "                game.makeMove(opponentMove)\n",
    "                game.changePlayer()\n",
    "                \n",
    "            if(game.checkWinner(2, opponentMove)): \n",
    "                outcomes2[nRep] = 2\n",
    "                done = True\n",
    "            \n",
    "            if game.isOver() and not done:\n",
    "                outcomes2[nRep] = 0\n",
    "                done = True\n",
    "                \n",
    "    for nRep in range(nRepetitions):\n",
    "        \n",
    "        game = GomokuGame(size=5,limit=4)\n",
    "        done = False\n",
    "        \n",
    "        while not done:\n",
    "            move = randomStratage(game)\n",
    "            if move == None :\n",
    "                print('move is None. Stopping.')\n",
    "                break\n",
    "            game.makeMove(move)\n",
    "            \n",
    "            if(game.checkWinner(1, move)): \n",
    "                outcomes3[nRep] = 1\n",
    "                done = True\n",
    "            \n",
    "            if game.isOver() and not done:\n",
    "                outcomes3[nRep] = 0\n",
    "                done = True\n",
    "                \n",
    "            if not done:\n",
    "                game.changePlayer()\n",
    "                opponentMove = game.getOptMoves(random=True, number=1)[0]\n",
    "                game.makeMove(opponentMove)\n",
    "                game.changePlayer()\n",
    "                \n",
    "            if(game.checkWinner(2, opponentMove)): \n",
    "                outcomes3[nRep] = 2\n",
    "                done = True\n",
    "            \n",
    "            if game.isOver() and not done:\n",
    "                outcomes3[nRep] = 0\n",
    "                done = True\n",
    "                \n",
    "    return outcomes1, outcomes2, outcomes3"
   ]
  },
  {
   "cell_type": "code",
   "execution_count": 20,
   "metadata": {
    "collapsed": true,
    "scrolled": false
   },
   "outputs": [],
   "source": [
    "outcomes1, outcomes2, outcomes3 = playGame(randomStratage,3,1000)"
   ]
  },
  {
   "cell_type": "code",
   "execution_count": 21,
   "metadata": {},
   "outputs": [
    {
     "name": "stdout",
     "output_type": "stream",
     "text": [
      "Using local optimal (negamaxabIDS) algorithm:\n",
      " player 1 has win rate : 0.007 \n",
      "player 2 has win rate : 0.993\n",
      "Using best value move algorithm:\n",
      " player 1 has win rate : 0.006 \n",
      "player 2 has win rate : 0.994\n",
      "Using random max value move algorithm:\n",
      " player 1 has win rate : 0.107 \n",
      "player 2 has win rate : 0.881\n"
     ]
    }
   ],
   "source": [
    "win11 = sum(np.asarray(outcomes1 == 1)) / len(outcomes1)\n",
    "win12 = sum(np.asarray(outcomes1 == 2)) / len(outcomes1)\n",
    "print(\"Using local optimal (negamaxabIDS) algorithm:\\n\",\n",
    "      \"player 1 has win rate :\", win11, \n",
    "      \"\\nplayer 2 has win rate :\", win12)\n",
    "\n",
    "win21 = sum(np.asarray(outcomes2 == 1)) / len(outcomes2)\n",
    "win22 = sum(np.asarray(outcomes2 == 2)) / len(outcomes2)\n",
    "print(\"Using best value move algorithm:\\n\",\n",
    "      \"player 1 has win rate :\", win21, \n",
    "      \"\\nplayer 2 has win rate :\", win22)\n",
    "\n",
    "win31 = sum(np.asarray(outcomes3 == 1)) / len(outcomes3)\n",
    "win32 = sum(np.asarray(outcomes3 == 2)) / len(outcomes3)\n",
    "print(\"Using random max value move algorithm:\\n\",\n",
    "      \"player 1 has win rate :\", win31, \n",
    "      \"\\nplayer 2 has win rate :\", win32)"
   ]
  },
  {
   "cell_type": "markdown",
   "metadata": {},
   "source": [
    "Then I want to train a **Neural Networks** using **Reinforcement learning algorithms** to train player1. The motivation is to make player 1 has higher winning rate than solely using random move stratage.\n",
    "\n",
    "The game will start by assuming player 1 has no knowledge of Gomoku game rules, and chooses pseudo-random moves (pseudo-random: instead of trying each intersections on broad, pseudo-random will constrain the random nodes to a limited, calculable number on broad). The opponent(player 2) with some background knowledge will choose local-optimal move calculated by iterative deepening negamax algorithm. After considerable times of reinforcement learning iterations, the robot will transfer into Q-value orientated move choice, while its opponent still using local-optimal moves."
   ]
  },
  {
   "cell_type": "markdown",
   "metadata": {},
   "source": [
    "## **Discussions:**"
   ]
  },
  {
   "cell_type": "markdown",
   "metadata": {},
   "source": [
    "1) **What is the depth limit to generate a reasonable local-optimal move for the opponent during the iterative deepening search?**\n",
    "    \n",
    "ANS: In my case, I set depth limit as 3, considering time cost and the best move it proposed.\n",
    "    "
   ]
  },
  {
   "cell_type": "markdown",
   "metadata": {},
   "source": [
    "2) **How to generate presudo-random moves for the robot initially, in order to avoid numerous attempts on board?**\n",
    "\n",
    "ANS: In my case, I set the board size to 5 and consecutive number as 4, mainly considering the time cost. However, the GomokuGame class is designed to be able to take in other board size and consecutive winning number."
   ]
  },
  {
   "cell_type": "markdown",
   "metadata": {},
   "source": [
    "3) **Are the algorithms above enough to generate a well-designed model?**\n",
    "    \n",
    "ANS: No. The score calculation algorithm is not perfectly reflection of the real-world winning stratage and hence not a good model."
   ]
  },
  {
   "cell_type": "markdown",
   "metadata": {},
   "source": [
    "4) **Which algorithm is the best for training (random best move within highest scores, best move with highest score, negamaxabIDS)?**\n",
    "\n",
    "ANS: The best algorithm for training should meet several requirements: \n",
    "    \n",
    "    (1) should not have a fixed pattern\n",
    "    (2) should likely go through all the possibilities \n",
    "    (3) should not be highly time consuming\n",
    "\n",
    "using best move with highest score yeilds the highest winning rate, while it suffers from violation of first requirement.\n",
    "\n",
    "using random best move within highest scores yeilds a relatively high winning rate, and it could satistify all the requirements for being a tranining alorithms.\n",
    "\n",
    "using negamaxabIDS yeilds a second highest winning rate, while it suffers from violation of several requirements.\n"
   ]
  },
  {
   "cell_type": "markdown",
   "metadata": {},
   "source": [
    "5) **Which player moves first? **\n",
    "    \n",
    "ANS: Both Player 1 and Player 2 could move first during the trainning, while there are some pros and cons for each of them.\n",
    "\n",
    "Player 1 First: Taking random move first will develop an offensive model for player 1, where player 1 will find some pattern to draw a 4 consecutive without considering player 2's stratage exploiting the design of player 2 algorithm. This is big problem cause player 2 using negamaxIDS in my case will only find moves that leading to 4 consecutive pieces without defending its opponent. The trained model will likely to be a fixed pattern for player 1 which leads to a win considering fixed opponent stratage. However, this problem could be mitigated by taking random best move within highest scores for player 2.\n",
    "\n",
    "Player 2 First: Taking stratage move first will develop an defensive model for player 1, where player 1 will find some pattern to prevent player 2 having 4 consecutive pieces considering player 2's stratage. Theortically, let player 2 first will have a better trained model than player 1 moving first."
   ]
  },
  {
   "cell_type": "markdown",
   "metadata": {},
   "source": [
    "6) **What algorithms are used for player 1 and player 2 in the learning process? **\n",
    "\n",
    "ANS: For Player 1 (the agent), it will adopt random move stratage during the first learning stage and then switch to Q-value orientated move stratage. For Player 2 (The opponent), it will adopt random move stratage during the first learning stage and then switch to random best move within highest scores, at the time when player 1 switched to Q-value orientated."
   ]
  },
  {
   "cell_type": "markdown",
   "metadata": {},
   "source": [
    "6) **Why not use negamaxabIDS for training?**\n",
    "    \n",
    "ANS: Theoretically, negamaxabIDS will provide the best trainning results among the three candidates. However, the way I calculated the scores determined negamaxabIDS will always find moves that lead to consecutive pieces of its own, without considering its opponents move. It is highly likely that the trained model has well performance under my score calculation scheme while failed on other more accurate score calculation scheme. "
   ]
  },
  {
   "cell_type": "code",
   "execution_count": 22,
   "metadata": {
    "collapsed": true
   },
   "outputs": [],
   "source": [
    "import neuralnetworks as nn\n",
    "import matplotlib.pyplot as plt\n",
    "import mlutils as ml\n",
    "import time\n",
    "from IPython.display import display, clear_output\n",
    "%matplotlib inline"
   ]
  },
  {
   "cell_type": "code",
   "execution_count": 23,
   "metadata": {
    "collapsed": true,
    "scrolled": true
   },
   "outputs": [],
   "source": [
    "def newBoardRep(board):\n",
    "    return tuple(board.ravel())\n",
    "\n",
    "# returns tuple of state and move.\n",
    "def boardMoveTuple(board, move):\n",
    "    return (newBoardRep(board), tuple(move))"
   ]
  },
  {
   "cell_type": "code",
   "execution_count": 24,
   "metadata": {
    "collapsed": true
   },
   "outputs": [],
   "source": [
    "def plotOutcomes(outcomes,epsilons,timeings,maxGames,nGames):\n",
    "    if nGames==0:\n",
    "        return\n",
    "    nBins = 100\n",
    "    nPer = int(maxGames/nBins)\n",
    "    outcomeRows = outcomes.reshape((-1,nPer))\n",
    "    outcomeRows = outcomeRows[:int(nGames/float(nPer))+1,:]\n",
    "    avgs = np.mean(outcomeRows,axis=1)\n",
    "    plt.subplot(3,1,1)\n",
    "    xs = np.linspace(nPer,nGames,len(avgs))\n",
    "    plt.plot(xs, avgs)\n",
    "    plt.xlabel('Games')\n",
    "    plt.ylabel('Mean of Outcomes\\n(0=draw, 1= 1 win, -1= 2 win)')\n",
    "    plt.title('Bins of {:d} Games'.format(nPer))\n",
    "    plt.subplot(3,1,2)\n",
    "    plt.plot(xs,np.sum(outcomeRows==1,axis=1),'g-',label='Wins')\n",
    "    plt.plot(xs,np.sum(outcomeRows==-1,axis=1),'r-',label='Losses')\n",
    "    plt.plot(xs,np.sum(outcomeRows==0,axis=1),'b-',label='Draws')\n",
    "    plt.legend(loc=\"center\")\n",
    "    plt.ylabel('Number of Games\\nin Bins of {:d}'.format(nPer))\n",
    "    plt.subplot(3,1,3)\n",
    "    plt.plot(epsilons[:nGames])\n",
    "    plt.ylabel('$\\epsilon$')\n",
    "#     plt.subplot(3,1,3)\n",
    "#     plt.plot(timeings[:nGames])\n",
    "#     plt.ylabel('$\\Runtime$')"
   ]
  },
  {
   "cell_type": "code",
   "execution_count": 25,
   "metadata": {
    "collapsed": true
   },
   "outputs": [],
   "source": [
    "# Modified from http://localhost:8888/notebooks/Desktop/cs440/15%20Reinforcement%20Learning%20for%20Two-Player%20Games.ipynb\n",
    "def epsilonGreedy(epsilon, Q, game):\n",
    "    validMoves = np.asarray(game.getAllMoves())\n",
    "    if np.random.uniform() < epsilon:\n",
    "        # Random Move\n",
    "        seedNum = np.random.randint(len(validMoves))\n",
    "        return tuple(validMoves[seedNum])\n",
    "    else:\n",
    "        # Greedy Move\n",
    "        Qs = np.array(list([Q.get((boardMoveTuple(game.board, m)), 0)] for m in validMoves))\n",
    "        return tuple(validMoves[ np.argmax(Qs) ])\n",
    "    \n",
    "# train the Q function for number of repetitions, decaying epsilon at start of each repetition. \n",
    "# Returns Q and list or array of number of steps to reach goal for each repetition.\n",
    "def trainQ(nRepetitions, learningRate, epsilonDecayFactor, Game, depthLimit = 10, \n",
    "           ploT = False, window = 1000, Qfuc = None, IDS=True, size=5, limit=4):\n",
    "    if Qfuc is None: Q = {}\n",
    "    else: Q = Qfuc\n",
    "    epsilon = 1.0\n",
    "    epsilonDecayRate = epsilonDecayFactor\n",
    "    rho = learningRate\n",
    "    outcomes = np.zeros(nRepetitions)\n",
    "    epsilons = np.zeros(nRepetitions)\n",
    "    timeings = np.zeros(nRepetitions)\n",
    "    startTime = time.time()\n",
    "    windowStep = nRepetitions / window\n",
    "    \n",
    "    if ploT:\n",
    "        fig = plt.figure(figsize=(10,10))\n",
    "        \n",
    "    for nRep in range(nRepetitions):\n",
    "        \n",
    "        epsilon *= epsilonDecayRate\n",
    "        epsilons[nRep] = epsilon\n",
    "        timeings[nRep] = time.time() - startTime\n",
    "        \n",
    "        step = 0\n",
    "        done = False\n",
    "        global game\n",
    "        game = Game(size, limit)\n",
    "        \n",
    "        # iteration while not find goal state\n",
    "        while not done:\n",
    "            \n",
    "            step += 1\n",
    "            \n",
    "            if IDS: _, opponentMove = negamaxIDSab(game, depthLimit)\n",
    "            else: opponentMove = randomStratage(game)\n",
    "            game.makeMove(opponentMove)\n",
    "\n",
    "            if game.checkWinner(1, move = opponentMove):\n",
    "                Q[(boardMoveTuple(board, move))] += rho * (-1 - Q[(boardMoveTuple(board, move))])\n",
    "                done = True\n",
    "                outcomes[nRep]= -1\n",
    "            \n",
    "            if game.isOver() and not done:\n",
    "                Q[(boardMoveTuple(board, opponentMove))] = 0\n",
    "                done = True\n",
    "                outcomes[nRep] = 0\n",
    "                \n",
    "            if not done:\n",
    "                game.changePlayer()\n",
    "                \n",
    "                board = copy.deepcopy(game.board)\n",
    "                \n",
    "                move = epsilonGreedy(epsilon, Q, game)\n",
    "                game.makeMove(move)\n",
    "                \n",
    "                game.changePlayer()\n",
    "                \n",
    "                if (boardMoveTuple(board, move)) not in Q:\n",
    "                    Q[(boardMoveTuple(board, move))] = 0\n",
    "                    \n",
    "                if game.checkWinner(2, move = move):\n",
    "                    Q[(boardMoveTuple(board, move))] = 1\n",
    "                    outcomes[nRep] = 1\n",
    "                    done = True\n",
    "                    \n",
    "                if game.isOver() and not done:\n",
    "                    Q[(boardMoveTuple(board, move))] = 0\n",
    "                    done = True\n",
    "                    outcomes[nRep] = 0\n",
    "      \n",
    "            if step > 1:\n",
    "                Q[(boardMoveTuple(boardOld, moveOld))] += rho * (Q[(boardMoveTuple(board, move))] \n",
    "                                                                 - Q[(boardMoveTuple(boardOld, moveOld))])\n",
    "            \n",
    "            boardOld, moveOld = board, move\n",
    "            \n",
    "            if ploT and (nRep % (nRepetitions/100) == 0 or nRep == nRepetitions-1):\n",
    "                fig.clf() \n",
    "                plotOutcomes(outcomes,epsilons,timeings,nRepetitions,nRep-1)\n",
    "                clear_output(wait=True)\n",
    "                display(fig)\n",
    "            \n",
    "    if ploT:\n",
    "        clear_output(wait=True)\n",
    "        print('Outcomes: {:d} 1 wins {:d} 2 wins {:d} draws'.format(np.sum(outcomes==1), np.sum(outcomes==-1), np.sum(outcomes==0)))\n",
    "    return Q, outcomes"
   ]
  },
  {
   "cell_type": "code",
   "execution_count": 75,
   "metadata": {
    "scrolled": false
   },
   "outputs": [
    {
     "name": "stdout",
     "output_type": "stream",
     "text": [
      "Outcomes: 808 1 wins 192 2 wins 0 draws\n"
     ]
    },
    {
     "data": {
      "image/png": "[encoded data removed]",
      "text/plain": [
       "<matplotlib.figure.Figure at 0x7f3608077978>"
      ]
     },
     "metadata": {},
     "output_type": "display_data"
    }
   ],
   "source": [
    "Q1, outcomes = trainQ(1000, 0.2, 0.99, GomokuGame, depthLimit = 3, ploT = True, IDS=True, size=5, limit=5)"
   ]
  },
  {
   "cell_type": "markdown",
   "metadata": {},
   "source": [
    "Again, Lets check the win rate against different algorithm, and make some comparsion. In testing Q, player 1 will take Q-value orientated move instead of taking random moves!"
   ]
  },
  {
   "cell_type": "code",
   "execution_count": 76,
   "metadata": {},
   "outputs": [
    {
     "name": "stdout",
     "output_type": "stream",
     "text": [
      "[[ 0.  0.  0.  0.  0.]\n",
      " [ 0.  0.  0.  0.  0.]\n",
      " [ 0.  0.  0.  0.  0.]\n",
      " [ 0.  0.  0.  0.  0.]\n",
      " [ 0.  0.  0.  0.  0.]]\n",
      "Player 1 to (2, 2)\n",
      "[[ 0.  0.  0.  0.  0.]\n",
      " [ 0.  0.  0.  0.  0.]\n",
      " [ 0.  0.  1.  0.  0.]\n",
      " [ 0.  0.  0.  0.  0.]\n",
      " [ 0.  0.  0.  0.  0.]]\n",
      "Player 2 to (0, 0)\n",
      "[[ 2.  0.  0.  0.  0.]\n",
      " [ 0.  0.  0.  0.  0.]\n",
      " [ 0.  0.  1.  0.  0.]\n",
      " [ 0.  0.  0.  0.  0.]\n",
      " [ 0.  0.  0.  0.  0.]]\n",
      "Player 1 to (1, 3)\n",
      "[[ 2.  0.  0.  0.  0.]\n",
      " [ 0.  0.  0.  1.  0.]\n",
      " [ 0.  0.  1.  0.  0.]\n",
      " [ 0.  0.  0.  0.  0.]\n",
      " [ 0.  0.  0.  0.  0.]]\n",
      "Player 2 to (0, 2)\n",
      "[[ 2.  0.  2.  0.  0.]\n",
      " [ 0.  0.  0.  1.  0.]\n",
      " [ 0.  0.  1.  0.  0.]\n",
      " [ 0.  0.  0.  0.  0.]\n",
      " [ 0.  0.  0.  0.  0.]]\n",
      "Player 1 to (3, 1)\n",
      "[[ 2.  0.  2.  0.  0.]\n",
      " [ 0.  0.  0.  1.  0.]\n",
      " [ 0.  0.  1.  0.  0.]\n",
      " [ 0.  1.  0.  0.  0.]\n",
      " [ 0.  0.  0.  0.  0.]]\n",
      "Player 2 to (0, 4)\n",
      "[[ 2.  0.  2.  0.  2.]\n",
      " [ 0.  0.  0.  1.  0.]\n",
      " [ 0.  0.  1.  0.  0.]\n",
      " [ 0.  1.  0.  0.  0.]\n",
      " [ 0.  0.  0.  0.  0.]]\n",
      "Player 1 to (2, 1)\n",
      "[[ 2.  0.  2.  0.  2.]\n",
      " [ 0.  0.  0.  1.  0.]\n",
      " [ 0.  1.  1.  0.  0.]\n",
      " [ 0.  1.  0.  0.  0.]\n",
      " [ 0.  0.  0.  0.  0.]]\n",
      "Player 2 to (0, 1)\n",
      "[[ 2.  2.  2.  0.  2.]\n",
      " [ 0.  0.  0.  1.  0.]\n",
      " [ 0.  1.  1.  0.  0.]\n",
      " [ 0.  1.  0.  0.  0.]\n",
      " [ 0.  0.  0.  0.  0.]]\n",
      "Player 1 to (2, 3)\n",
      "[[ 2.  2.  2.  0.  2.]\n",
      " [ 0.  0.  0.  1.  0.]\n",
      " [ 0.  1.  1.  1.  0.]\n",
      " [ 0.  1.  0.  0.  0.]\n",
      " [ 0.  0.  0.  0.  0.]]\n",
      "Player 2 to (0, 3)\n",
      "[[ 2.  2.  2.  2.  2.]\n",
      " [ 0.  0.  0.  1.  0.]\n",
      " [ 0.  1.  1.  1.  0.]\n",
      " [ 0.  1.  0.  0.  0.]\n",
      " [ 0.  0.  0.  0.  0.]]\n",
      "2(Agent) won\n",
      "698\n"
     ]
    }
   ],
   "source": [
    "game = GomokuGame(size=5,limit=5)\n",
    "print(game)\n",
    "while not game.isOver():\n",
    "    _, opponentMove = negamaxIDSab(game, 3)\n",
    "    # opponentMove = game.getOptMoves(random=True, number=1)[0]\n",
    "    game.makeMove(opponentMove)\n",
    "    print('Player', game.player, 'to', opponentMove)\n",
    "    print(game)\n",
    "    if(game.checkWinner(1)): print(\"1(Opponent) won\")\n",
    "    if not game.isOver():\n",
    "        game.changePlayer()\n",
    "        validMoves = np.asarray(game.getAllMoves())\n",
    "        Qs = np.array(list([Q1.get((boardMoveTuple(game.board, m)), 0)] for m in validMoves))\n",
    "        move = tuple(validMoves[ np.argmax(Qs) ])\n",
    "        game.makeMove(move)\n",
    "        print('Player', game.player, 'to', move)\n",
    "        print(game)\n",
    "        game.changePlayer()\n",
    "        if(game.checkWinner(2)): print(\"2(Agent) won\")\n",
    "print(game.getNumberMovesExplored())"
   ]
  },
  {
   "cell_type": "markdown",
   "metadata": {},
   "source": [
    "This trained model suffers from the problem that the opponent will not consider agent's move while searching its own highest score. Although the training process was successful, the trained model is silly and not useful at all."
   ]
  },
  {
   "cell_type": "code",
   "execution_count": 77,
   "metadata": {
    "scrolled": false
   },
   "outputs": [
    {
     "name": "stdout",
     "output_type": "stream",
     "text": [
      "Outcomes: 7162 1 wins 2832 2 wins 6 draws\n"
     ]
    },
    {
     "data": {
      "image/png": "[encoded data removed]",
      "text/plain": [
       "<matplotlib.figure.Figure at 0x7f360823e2b0>"
      ]
     },
     "metadata": {},
     "output_type": "display_data"
    }
   ],
   "source": [
    "Q2, outcomes = trainQ(10000, 0.2, 0.9995, GomokuGame, depthLimit = 3, ploT = True, IDS=False)"
   ]
  },
  {
   "cell_type": "code",
   "execution_count": 78,
   "metadata": {},
   "outputs": [
    {
     "name": "stdout",
     "output_type": "stream",
     "text": [
      "[[ 0.  0.  0.  0.  0.]\n",
      " [ 0.  0.  0.  0.  0.]\n",
      " [ 0.  0.  0.  0.  0.]\n",
      " [ 0.  0.  0.  0.  0.]\n",
      " [ 0.  0.  0.  0.  0.]]\n",
      "Player 1 to (2, 2)\n",
      "[[ 0.  0.  0.  0.  0.]\n",
      " [ 0.  0.  0.  0.  0.]\n",
      " [ 0.  0.  1.  0.  0.]\n",
      " [ 0.  0.  0.  0.  0.]\n",
      " [ 0.  0.  0.  0.  0.]]\n",
      "Player 2 to (0, 0)\n",
      "[[ 2.  0.  0.  0.  0.]\n",
      " [ 0.  0.  0.  0.  0.]\n",
      " [ 0.  0.  1.  0.  0.]\n",
      " [ 0.  0.  0.  0.  0.]\n",
      " [ 0.  0.  0.  0.  0.]]\n",
      "Player 1 to (1, 3)\n",
      "[[ 2.  0.  0.  0.  0.]\n",
      " [ 0.  0.  0.  1.  0.]\n",
      " [ 0.  0.  1.  0.  0.]\n",
      " [ 0.  0.  0.  0.  0.]\n",
      " [ 0.  0.  0.  0.  0.]]\n",
      "Player 2 to (0, 1)\n",
      "[[ 2.  2.  0.  0.  0.]\n",
      " [ 0.  0.  0.  1.  0.]\n",
      " [ 0.  0.  1.  0.  0.]\n",
      " [ 0.  0.  0.  0.  0.]\n",
      " [ 0.  0.  0.  0.  0.]]\n",
      "Player 1 to (3, 1)\n",
      "[[ 2.  2.  0.  0.  0.]\n",
      " [ 0.  0.  0.  1.  0.]\n",
      " [ 0.  0.  1.  0.  0.]\n",
      " [ 0.  1.  0.  0.  0.]\n",
      " [ 0.  0.  0.  0.  0.]]\n",
      "Player 2 to (4, 1)\n",
      "[[ 2.  2.  0.  0.  0.]\n",
      " [ 0.  0.  0.  1.  0.]\n",
      " [ 0.  0.  1.  0.  0.]\n",
      " [ 0.  1.  0.  0.  0.]\n",
      " [ 0.  2.  0.  0.  0.]]\n",
      "Player 1 to (4, 0)\n",
      "[[ 2.  2.  0.  0.  0.]\n",
      " [ 0.  0.  0.  1.  0.]\n",
      " [ 0.  0.  1.  0.  0.]\n",
      " [ 0.  1.  0.  0.  0.]\n",
      " [ 1.  2.  0.  0.  0.]]\n",
      "Player 2 to (0, 2)\n",
      "[[ 2.  2.  2.  0.  0.]\n",
      " [ 0.  0.  0.  1.  0.]\n",
      " [ 0.  0.  1.  0.  0.]\n",
      " [ 0.  1.  0.  0.  0.]\n",
      " [ 1.  2.  0.  0.  0.]]\n",
      "Player 1 to (0, 4)\n",
      "[[ 2.  2.  2.  0.  1.]\n",
      " [ 0.  0.  0.  1.  0.]\n",
      " [ 0.  0.  1.  0.  0.]\n",
      " [ 0.  1.  0.  0.  0.]\n",
      " [ 1.  2.  0.  0.  0.]]\n",
      "1(Opponent) won\n",
      "662\n"
     ]
    }
   ],
   "source": [
    "game = GomokuGame(size=5,limit=5)\n",
    "print(game)\n",
    "while not game.isOver():\n",
    "    _, opponentMove = negamaxIDSab(game, 3)\n",
    "    # opponentMove = game.getOptMoves(random=True, number=1)[0]\n",
    "    game.makeMove(opponentMove)\n",
    "    print('Player', game.player, 'to', opponentMove)\n",
    "    print(game)\n",
    "    if(game.checkWinner(1)): print(\"1(Opponent) won\")\n",
    "    if not game.isOver():\n",
    "        game.changePlayer()\n",
    "        validMoves = np.asarray(game.getAllMoves())\n",
    "        Qs = np.array(list([Q2.get((boardMoveTuple(game.board, m)), 0)] for m in validMoves))\n",
    "        move = tuple(validMoves[ np.argmax(Qs) ])\n",
    "        game.makeMove(move)\n",
    "        print('Player', game.player, 'to', move)\n",
    "        print(game)\n",
    "        game.changePlayer()\n",
    "        if(game.checkWinner(2)): print(\"2(Agent) won\")\n",
    "print(game.getNumberMovesExplored())"
   ]
  },
  {
   "cell_type": "code",
   "execution_count": 79,
   "metadata": {},
   "outputs": [
    {
     "name": "stdout",
     "output_type": "stream",
     "text": [
      "Outcomes: 7195 1 wins 2801 2 wins 4 draws\n"
     ]
    },
    {
     "data": {
      "image/png": "[encoded data removed]",
      "text/plain": [
       "<matplotlib.figure.Figure at 0x7f36081cec50>"
      ]
     },
     "metadata": {},
     "output_type": "display_data"
    }
   ],
   "source": [
    "Q3, outcomes = trainQ(10000, 0.2, 0.9995, GomokuGame, depthLimit = 3, ploT = True, IDS=False)"
   ]
  },
  {
   "cell_type": "markdown",
   "metadata": {},
   "source": [
    "Again, Lets check the win rate against different algorithm, and make some comparsion. In testing Q, player 1 will take Q-value orientated move instead of taking random moves!"
   ]
  },
  {
   "cell_type": "code",
   "execution_count": 80,
   "metadata": {},
   "outputs": [
    {
     "name": "stdout",
     "output_type": "stream",
     "text": [
      "[[ 0.  0.  0.  0.  0.]\n",
      " [ 0.  0.  0.  0.  0.]\n",
      " [ 0.  0.  0.  0.  0.]\n",
      " [ 0.  0.  0.  0.  0.]\n",
      " [ 0.  0.  0.  0.  0.]]\n",
      "Player 1 to (2, 2)\n",
      "[[ 0.  0.  0.  0.  0.]\n",
      " [ 0.  0.  0.  0.  0.]\n",
      " [ 0.  0.  1.  0.  0.]\n",
      " [ 0.  0.  0.  0.  0.]\n",
      " [ 0.  0.  0.  0.  0.]]\n",
      "Player 2 to (0, 0)\n",
      "[[ 2.  0.  0.  0.  0.]\n",
      " [ 0.  0.  0.  0.  0.]\n",
      " [ 0.  0.  1.  0.  0.]\n",
      " [ 0.  0.  0.  0.  0.]\n",
      " [ 0.  0.  0.  0.  0.]]\n",
      "Player 1 to (1, 3)\n",
      "[[ 2.  0.  0.  0.  0.]\n",
      " [ 0.  0.  0.  1.  0.]\n",
      " [ 0.  0.  1.  0.  0.]\n",
      " [ 0.  0.  0.  0.  0.]\n",
      " [ 0.  0.  0.  0.  0.]]\n",
      "Player 2 to (0, 1)\n",
      "[[ 2.  2.  0.  0.  0.]\n",
      " [ 0.  0.  0.  1.  0.]\n",
      " [ 0.  0.  1.  0.  0.]\n",
      " [ 0.  0.  0.  0.  0.]\n",
      " [ 0.  0.  0.  0.  0.]]\n",
      "Player 1 to (3, 1)\n",
      "[[ 2.  2.  0.  0.  0.]\n",
      " [ 0.  0.  0.  1.  0.]\n",
      " [ 0.  0.  1.  0.  0.]\n",
      " [ 0.  1.  0.  0.  0.]\n",
      " [ 0.  0.  0.  0.  0.]]\n",
      "Player 2 to (0, 4)\n",
      "[[ 2.  2.  0.  0.  2.]\n",
      " [ 0.  0.  0.  1.  0.]\n",
      " [ 0.  0.  1.  0.  0.]\n",
      " [ 0.  1.  0.  0.  0.]\n",
      " [ 0.  0.  0.  0.  0.]]\n",
      "Player 1 to (3, 2)\n",
      "[[ 2.  2.  0.  0.  2.]\n",
      " [ 0.  0.  0.  1.  0.]\n",
      " [ 0.  0.  1.  0.  0.]\n",
      " [ 0.  1.  1.  0.  0.]\n",
      " [ 0.  0.  0.  0.  0.]]\n",
      "Player 2 to (0, 3)\n",
      "[[ 2.  2.  0.  2.  2.]\n",
      " [ 0.  0.  0.  1.  0.]\n",
      " [ 0.  0.  1.  0.  0.]\n",
      " [ 0.  1.  1.  0.  0.]\n",
      " [ 0.  0.  0.  0.  0.]]\n",
      "Player 1 to (1, 2)\n",
      "[[ 2.  2.  0.  2.  2.]\n",
      " [ 0.  0.  1.  1.  0.]\n",
      " [ 0.  0.  1.  0.  0.]\n",
      " [ 0.  1.  1.  0.  0.]\n",
      " [ 0.  0.  0.  0.  0.]]\n",
      "Player 2 to (0, 2)\n",
      "[[ 2.  2.  2.  2.  2.]\n",
      " [ 0.  0.  1.  1.  0.]\n",
      " [ 0.  0.  1.  0.  0.]\n",
      " [ 0.  1.  1.  0.  0.]\n",
      " [ 0.  0.  0.  0.  0.]]\n",
      "2(Agent) won\n",
      "732\n"
     ]
    }
   ],
   "source": [
    "game = GomokuGame(size=5,limit=4)\n",
    "print(game)\n",
    "while not game.isOver():\n",
    "    _, opponentMove = negamaxIDSab(game, 3)\n",
    "    # opponentMove = game.getOptMoves(random=True, number=1)[0]\n",
    "    game.makeMove(opponentMove)\n",
    "    print('Player', game.player, 'to', opponentMove)\n",
    "    print(game)\n",
    "    if(game.checkWinner(1)): print(\"1(Opponent) won\")\n",
    "    if not game.isOver():\n",
    "        game.changePlayer()\n",
    "        validMoves = np.asarray(game.getAllMoves())\n",
    "        Qs = np.array(list([Q3.get((boardMoveTuple(game.board, m)), 0)] for m in validMoves))\n",
    "        move = tuple(validMoves[ np.argmax(Qs) ])\n",
    "        game.makeMove(move)\n",
    "        print('Player', game.player, 'to', move)\n",
    "        print(game)\n",
    "        game.changePlayer()\n",
    "        if(game.checkWinner(2)): print(\"2(Agent) won\")\n",
    "print(game.getNumberMovesExplored())"
   ]
  },
  {
   "cell_type": "code",
   "execution_count": 26,
   "metadata": {
    "scrolled": false
   },
   "outputs": [
    {
     "name": "stdout",
     "output_type": "stream",
     "text": [
      "Outcomes: 793 1 wins 207 2 wins 0 draws\n"
     ]
    },
    {
     "data": {
      "image/png": "[encoded data removed]",
      "text/plain": [
       "<matplotlib.figure.Figure at 0x1e3515619e8>"
      ]
     },
     "metadata": {},
     "output_type": "display_data"
    }
   ],
   "source": [
    "Q4, outcomes = trainQ(1000, 0.2, 0.99, GomokuGame, depthLimit = 3, ploT = True, IDS=True, size=5, limit=4)"
   ]
  },
  {
   "cell_type": "code",
   "execution_count": 33,
   "metadata": {
    "collapsed": true
   },
   "outputs": [],
   "source": [
    "def TestQ(Q, depthLimit, nRepetitions):\n",
    "    \n",
    "    outcomes = np.zeros(nRepetitions)\n",
    "    \n",
    "    for nRep in range(nRepetitions):\n",
    "        \n",
    "        global game\n",
    "        game = GomokuGame(size=5,limit=4)\n",
    "        done = False\n",
    "        \n",
    "        while not done:\n",
    "            move = randomStratage(game)\n",
    "            if move == None :\n",
    "                print('move is None. Stopping.')\n",
    "                break\n",
    "            game.makeMove(move)\n",
    "            \n",
    "            if(game.checkWinner(1, move)): \n",
    "                outcomes[nRep] = 1\n",
    "                done = True\n",
    "            \n",
    "            if game.isOver() and not done:\n",
    "                outcomes[nRep] = 0\n",
    "                done = True\n",
    "                \n",
    "            if not done:\n",
    "                game.changePlayer()\n",
    "                validMoves = np.asarray(game.getAllMoves())\n",
    "                Qs = np.array(list([Q.get((boardMoveTuple(game.board, m)), 0)] for m in validMoves))\n",
    "                opponentMove = tuple(validMoves[ np.argmax(Qs) ])\n",
    "                game.makeMove(opponentMove)\n",
    "                game.changePlayer()\n",
    "                \n",
    "            if(game.checkWinner(2, opponentMove)): \n",
    "                outcomes[nRep] = 2\n",
    "                done = True\n",
    "            \n",
    "            if game.isOver() and not done:\n",
    "                outcomes[nRep] = 0\n",
    "                done = True\n",
    "    return outcomes"
   ]
  },
  {
   "cell_type": "code",
   "execution_count": 42,
   "metadata": {
    "collapsed": true
   },
   "outputs": [],
   "source": [
    "outcomes4 = TestQ(Q4,3,5000)"
   ]
  },
  {
   "cell_type": "code",
   "execution_count": 43,
   "metadata": {
    "scrolled": true
   },
   "outputs": [
    {
     "name": "stdout",
     "output_type": "stream",
     "text": [
      "Using local optimal (negamaxabIDS) algorithm:\n",
      " player 1(Random Move) has win rate : 0.1768 \n",
      "player 2(Q table Orientated) has win rate : 0.8184\n"
     ]
    }
   ],
   "source": [
    "win41 = sum(np.asarray(outcomes4 == 1)) / len(outcomes4)\n",
    "win42 = sum(np.asarray(outcomes4 == 2)) / len(outcomes4)\n",
    "print(\"Using local optimal (negamaxabIDS) algorithm:\\n\",\n",
    "      \"player 1(Random Move) has win rate :\", win41, \n",
    "      \"\\nplayer 2(Q table Orientated) has win rate :\", win42)"
   ]
  },
  {
   "cell_type": "code",
   "execution_count": 44,
   "metadata": {
    "collapsed": true
   },
   "outputs": [],
   "source": [
    "def TestRandom(depthLimit, nRepetitions):\n",
    "    \n",
    "    outcomes = np.zeros(nRepetitions)\n",
    "    \n",
    "    for nRep in range(nRepetitions):\n",
    "        \n",
    "        global game\n",
    "        game = GomokuGame(size=5,limit=4)\n",
    "        done = False\n",
    "        \n",
    "        while not done:\n",
    "            move = randomStratage(game)\n",
    "            if move == None :\n",
    "                print('move is None. Stopping.')\n",
    "                break\n",
    "            game.makeMove(move)\n",
    "            \n",
    "            if(game.checkWinner(1, move)): \n",
    "                outcomes[nRep] = 1\n",
    "                done = True\n",
    "            \n",
    "            if game.isOver() and not done:\n",
    "                outcomes[nRep] = 0\n",
    "                done = True\n",
    "                \n",
    "            if not done:\n",
    "                game.changePlayer()\n",
    "                opponentMove = randomStratage(game)\n",
    "                game.makeMove(opponentMove)\n",
    "                game.changePlayer()\n",
    "                \n",
    "            if(game.checkWinner(2, opponentMove)): \n",
    "                outcomes[nRep] = 2\n",
    "                done = True\n",
    "            \n",
    "            if game.isOver() and not done:\n",
    "                outcomes[nRep] = 0\n",
    "                done = True\n",
    "    return outcomes"
   ]
  },
  {
   "cell_type": "code",
   "execution_count": 49,
   "metadata": {},
   "outputs": [
    {
     "name": "stdout",
     "output_type": "stream",
     "text": [
      "Using local optimal (negamaxabIDS) algorithm:\n",
      " player 1(Random Move) has win rate : 0.5186 \n",
      "player 2(Random Move) has win rate : 0.4078\n"
     ]
    }
   ],
   "source": [
    "outcomes5 = TestRandom(3,5000)\n",
    "win51 = sum(np.asarray(outcomes5 == 1)) / len(outcomes5)\n",
    "win52 = sum(np.asarray(outcomes5 == 2)) / len(outcomes5)\n",
    "print(\"Using local optimal (negamaxabIDS) algorithm:\\n\",\n",
    "      \"player 1(Random Move) has win rate :\", win51, \n",
    "      \"\\nplayer 2(Random Move) has win rate :\", win52)"
   ]
  },
  {
   "cell_type": "markdown",
   "metadata": {},
   "source": [
    "### Which is the optimal algorithm based on current score scheme? "
   ]
  },
  {
   "cell_type": "markdown",
   "metadata": {},
   "source": [
    "1. local optimal (negamaxabIDS) algorithm\n",
    "2. move with highest score in the board\n",
    "3. random move in top # highest moves\n",
    "4. Q-Table orientated algorithm\n",
    "5. random Stratage"
   ]
  },
  {
   "cell_type": "markdown",
   "metadata": {},
   "source": [
    "| Test Iterations | Type 1 Win Rate| Type 2 Win Rate | Type 3 Win Rate | Q-Table Win Rate | Random Win Rate |\n",
    "|-----------------|--------|--------|--------|--------|--------|\n",
    "| 100 | 1.0 | 0.99 | 0.88 | 0.83 |  0.42 |\n",
    "| 500 | 0.996 | 0.996 | 0.864 | 0.834 | 0.382 |\n",
    "| 1000 | 0.992 | 0.993 | 0.871 | 0.823 | 0.393 |\n",
    "| 5000 | 0.9938 | 0.9934 | 0.8774 | 0.8184 | 0.4094 |"
   ]
  },
  {
   "cell_type": "markdown",
   "metadata": {},
   "source": [
    "### Summary"
   ]
  },
  {
   "cell_type": "markdown",
   "metadata": {},
   "source": [
    "The training process is successful to build a model playing against opponent using best move according to current score scheme. The trained model has gain some knowledge on how to play Gomuku game while the trained model is not good enough for general cases."
   ]
  }
 ],
 "metadata": {
  "kernelspec": {
   "display_name": "Python 3",
   "language": "python",
   "name": "python3"
  },
  "language_info": {
   "codemirror_mode": {
    "name": "ipython",
    "version": 3
   },
   "file_extension": ".py",
   "mimetype": "text/x-python",
   "name": "python",
   "nbconvert_exporter": "python",
   "pygments_lexer": "ipython3",
   "version": "3.5.2"
  }
 },
 "nbformat": 4,
 "nbformat_minor": 2
}
