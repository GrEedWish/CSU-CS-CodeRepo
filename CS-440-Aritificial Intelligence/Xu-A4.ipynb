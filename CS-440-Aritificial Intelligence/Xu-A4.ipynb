{
 "cells": [
  {
   "cell_type": "markdown",
   "metadata": {},
   "source": [
    "### Jim Xu\n",
    "### 831-156-383"
   ]
  },
  {
   "cell_type": "markdown",
   "metadata": {},
   "source": [
    "# Assignment 4: Negamax with Alpha-Beta Pruning and Iterative Deepening"
   ]
  },
  {
   "cell_type": "markdown",
   "metadata": {},
   "source": [
    "Still being developed, but you may get started on this when you are finished with Assignment 3."
   ]
  },
  {
   "cell_type": "markdown",
   "metadata": {},
   "source": [
    "# Table of Contents\n",
    "* [Assignment 4: Negamax with Alpha-Beta Pruning and Iterative Deepening](#Assignment-4:-Negamax-with-Alpha-Beta-Pruning-and-Iterative-Deepening)\n",
    "\t* [Initial Code](#Initial-Code)\n",
    "\t* [Add moves counter](#Add-moves-counter)\n",
    "\t* [negamaxIDS](#negamaxIDS)\n",
    "\t* [negamaxIDSab](#negamaxIDSab)\n",
    "\t* [Grading](#Grading)\n",
    "\t* [Extra Credit](#Extra-Credit)\n"
   ]
  },
  {
   "cell_type": "markdown",
   "metadata": {},
   "source": [
    "For this assignment, you will investigate the advantages of alpha-beta\n",
    "pruning applied to Tic-Tac-Toe.  To do so, follow these steps."
   ]
  },
  {
   "cell_type": "markdown",
   "metadata": {},
   "source": [
    "## Initial Code <font color='red'>UPDATED Oct 8</font>"
   ]
  },
  {
   "cell_type": "code",
   "execution_count": 1,
   "metadata": {
    "collapsed": true
   },
   "outputs": [],
   "source": [
    "# CITED FROM https://piazza.com/class/j34vndmsdl75hu?cid=136\n",
    "def ebf(nNodes, depth, precision=0.01):\n",
    "    if nNodes == 0:\n",
    "        return 0\n",
    "\n",
    "    def ebfRec(low, high):\n",
    "        mid = (low + high) * 0.5\n",
    "        if mid == 1:\n",
    "            estimate = 1 + depth\n",
    "        else:\n",
    "            estimate = (1 - mid**(depth + 1)) / (1 - mid)\n",
    "        if abs(estimate - nNodes) < precision:\n",
    "            return mid\n",
    "        if estimate > nNodes:\n",
    "            return ebfRec(low, mid)\n",
    "        else:\n",
    "            return ebfRec(mid, high)\n",
    "\n",
    "    return ebfRec(1, nNodes)"
   ]
  },
  {
   "cell_type": "code",
   "execution_count": 2,
   "metadata": {
    "collapsed": true
   },
   "outputs": [],
   "source": [
    "def negamax(game, depthLeft):\n",
    "    # If at terminal state or depth limit, return utility value and move None\n",
    "    if game.isOver() or depthLeft == 0:\n",
    "        return game.getUtility(), None # call to negamax knows the move\n",
    "    # Find best move and its value from current state\n",
    "    bestValue, bestMove = None, None\n",
    "    for move in game.getMoves():\n",
    "        # Apply a move to current state\n",
    "        game.makeMove(move)\n",
    "        # Use depth-first search to find eventual utility value and back it up.\n",
    "        #  Negate it because it will come back in context of next player\n",
    "        value, _ = negamax(game, depthLeft-1)\n",
    "        # Remove the move from current state, to prepare for trying a different move\n",
    "        game.unmakeMove(move)\n",
    "        if value is None:\n",
    "            continue\n",
    "        value = - value\n",
    "        if bestValue is None or value > bestValue:\n",
    "            # Value for this move is better than moves tried so far from this state.\n",
    "            bestValue, bestMove = value, move\n",
    "    return bestValue, bestMove"
   ]
  },
  {
   "cell_type": "code",
   "execution_count": 3,
   "metadata": {
    "collapsed": true
   },
   "outputs": [],
   "source": [
    "class TTT(object):\n",
    "\n",
    "    def __init__(self):\n",
    "        self.board = [' ']*9\n",
    "        self.player = 'X'\n",
    "        if False:\n",
    "            self.board = ['X', 'O', 'O', 'X', ' ', ' ', ' ', ' ', ' ']\n",
    "            self.player = 'X'\n",
    "        self.playerLookAHead = self.player\n",
    "        # record the nodes explored\n",
    "        self.movesExplored = 0\n",
    "\n",
    "    def setTTT(self, board, player):\n",
    "        self.board = board\n",
    "        self.player = player\n",
    "        \n",
    "    def locations(self, c):\n",
    "        return [i for i, mark in enumerate(self.board) if mark == c]\n",
    "\n",
    "    def getMoves(self):\n",
    "        moves = self.locations(' ')\n",
    "        return moves\n",
    "\n",
    "    def getUtility(self):\n",
    "        whereX = self.locations('X')\n",
    "        whereO = self.locations('O')\n",
    "        wins = [[0, 1, 2], [3, 4, 5], [6, 7, 8],\n",
    "                [0, 3, 6], [1, 4, 7], [2, 5, 8],\n",
    "                [0, 4, 8], [2, 4, 6]]\n",
    "        isXWon = any([all([wi in whereX for wi in w]) for w in wins])\n",
    "        isOWon = any([all([wi in whereO for wi in w]) for w in wins])\n",
    "        if isXWon:\n",
    "            return 1 if self.playerLookAHead is 'X' else -1\n",
    "        elif isOWon:\n",
    "            return 1 if self.playerLookAHead is 'O' else -1\n",
    "        elif ' ' not in self.board:\n",
    "            return 0\n",
    "        else:\n",
    "            return None  ########################################################## CHANGED FROM -0.1\n",
    "\n",
    "    def isOver(self):\n",
    "        return self.getUtility() is not None\n",
    "\n",
    "    def makeMove(self, move):\n",
    "        self.movesExplored += 1\n",
    "        self.board[move] = self.playerLookAHead\n",
    "        self.playerLookAHead = 'X' if self.playerLookAHead == 'O' else 'O'\n",
    "\n",
    "    def changePlayer(self):\n",
    "        self.player = 'X' if self.player == 'O' else 'O'\n",
    "        self.playerLookAHead = self.player\n",
    "\n",
    "    def unmakeMove(self, move):\n",
    "        self.board[move] = ' '\n",
    "        self.playerLookAHead = 'X' if self.playerLookAHead == 'O' else 'O'\n",
    "\n",
    "    def __str__(self):\n",
    "        s = '{}|{}|{}\\n-----\\n{}|{}|{}\\n-----\\n{}|{}|{}'.format(*self.board)\n",
    "        return s\n",
    "    \n",
    "    def getNumberMovesExplored(self):\n",
    "        return self.movesExplored"
   ]
  },
  {
   "cell_type": "markdown",
   "metadata": {},
   "source": [
    "Check that the following function `playGame` runs\n",
    "correctly. Notice that we are using *negamax* to find the best move for\n",
    "Player X, but Player O, the opponent, is using function *opponent*\n",
    "that follows the silly strategy of playing in the first open position."
   ]
  },
  {
   "cell_type": "code",
   "execution_count": 4,
   "metadata": {
    "collapsed": true
   },
   "outputs": [],
   "source": [
    "def opponent(board):\n",
    "    return board.index(' ')\n",
    "\n",
    "def playGame(game,opponent,depthLimit):\n",
    "    print(game)\n",
    "    while not game.isOver():\n",
    "        score,move = negamax(game,depthLimit)\n",
    "        if move == None :\n",
    "            print('move is None. Stopping.')\n",
    "            break\n",
    "        game.makeMove(move)\n",
    "        print('Player', game.player, 'to', move, 'for score' ,score)\n",
    "        print(game)\n",
    "        if not game.isOver():\n",
    "            game.changePlayer()\n",
    "            opponentMove = opponent(game.board)\n",
    "            game.makeMove(opponentMove)\n",
    "            print('Player', game.player, 'to', opponentMove)   ### FIXED ERROR IN THIS LINE!\n",
    "            print(game)\n",
    "            game.changePlayer()\n",
    "    print(game.getNumberMovesExplored())"
   ]
  },
  {
   "cell_type": "code",
   "execution_count": 5,
   "metadata": {
    "collapsed": false
   },
   "outputs": [
    {
     "name": "stdout",
     "output_type": "stream",
     "text": [
      " | | \n",
      "-----\n",
      " | | \n",
      "-----\n",
      " | | \n",
      "Player X to 0 for score 0\n",
      "X| | \n",
      "-----\n",
      " | | \n",
      "-----\n",
      " | | \n",
      "Player O to 1\n",
      "X|O| \n",
      "-----\n",
      " | | \n",
      "-----\n",
      " | | \n",
      "Player X to 3 for score 1\n",
      "X|O| \n",
      "-----\n",
      "X| | \n",
      "-----\n",
      " | | \n",
      "Player O to 2\n",
      "X|O|O\n",
      "-----\n",
      "X| | \n",
      "-----\n",
      " | | \n",
      "Player X to 4 for score 1\n",
      "X|O|O\n",
      "-----\n",
      "X|X| \n",
      "-----\n",
      " | | \n",
      "Player O to 5\n",
      "X|O|O\n",
      "-----\n",
      "X|X|O\n",
      "-----\n",
      " | | \n",
      "Player X to 6 for score 1\n",
      "X|O|O\n",
      "-----\n",
      "X|X|O\n",
      "-----\n",
      "X| | \n",
      "558334\n"
     ]
    }
   ],
   "source": [
    "game = TTT()\n",
    "playGame(game,opponent,20)"
   ]
  },
  {
   "cell_type": "markdown",
   "metadata": {},
   "source": [
    "## Add moves counter"
   ]
  },
  {
   "cell_type": "markdown",
   "metadata": {},
   "source": [
    "Evaluate the efficiency of the search by keepting track of the number of nodes explored, which is the same as the number of moves explored, during a game. Do this by adding a counter named `movesExplored` to the `TTT` constructor where it is initialized to 0 and increment the counter in the `TTT.makeMove` method.  Add a method `ttt.getNumberMovesExplored()` to get its current value.  So\n",
    "\n",
    "    print('Number of moves explored', game.getMovesExplored())\n",
    "    \n",
    "will print the number of moves explored. You will not use a global variable for counting this time."
   ]
  },
  {
   "cell_type": "markdown",
   "metadata": {},
   "source": [
    "## negamaxIDS "
   ]
  },
  {
   "cell_type": "markdown",
   "metadata": {},
   "source": [
    "<font color='red'>UPDATED Oct 4</font>\n",
    "\n",
    "Write a new function named `negamaxIDS` that performs an iterative deepening negamax search.  Replace the first line in the `while` loop of `playGame` with\n",
    "\n",
    "        score,move = negamaxIDS(game,depthLimit)\n",
    "        \n",
    "where `depthLimit` is now the maximum depth and multiple `negamax` searches are performed for depth limits of $1, 2, \\ldots,$ maximum depth.\n",
    "\n",
    "But, when should you stop?  Can you stop before readhing the depthLimit?  If not, there is no point to doing iterative deepening.\n",
    "\n",
    "For Tic-Tac-Toe, we can stop as soon as a call to `negamax` returns a winning move.  This will have a value of 1 for Tic-Tac-Toe.  To keep our `negamaxIDS` function general, add a method called `getWinningValue` to the `TTT` class that just returns 1.  Then `negamaxIDS` can call `game.getWinningValue()` to determine the value of a winning move for this game.  If the maximum depth is reached and no winning move has been found, return the best move found over all depth limts."
   ]
  },
  {
   "cell_type": "code",
   "execution_count": 6,
   "metadata": {
    "collapsed": true
   },
   "outputs": [],
   "source": [
    "# from A4mysolution import *\n",
    "def negamaxIDS(game, depthLimit):\n",
    "    bestValue = -float('infinity')\n",
    "    bestMove = None\n",
    "    for i in range (1, depthLimit+1):\n",
    "        value, move = negamax(game, i)\n",
    "        if value is None:\n",
    "            continue\n",
    "        if bestValue < value:\n",
    "            bestValue = value\n",
    "            bestMove = move\n",
    "        if bestValue == 1:\n",
    "            return bestValue, bestMove\n",
    "    return bestValue, bestMove"
   ]
  },
  {
   "cell_type": "markdown",
   "metadata": {},
   "source": [
    "## negamaxIDSab"
   ]
  },
  {
   "cell_type": "markdown",
   "metadata": {},
   "source": [
    "Now for the hardest part.  Make a new function `negamaxIDSab` by duplicating `negamaxIDS` and add the code to implement alpha-beta pruning."
   ]
  },
  {
   "cell_type": "code",
   "execution_count": 7,
   "metadata": {
    "collapsed": true
   },
   "outputs": [],
   "source": [
    "# from A4mysolution import *\n",
    "def negamaxIDSab(game, depthLimit, alpha=-float('infinity'), beta=float('infinity')):\n",
    "    bestValue = -float('infinity')\n",
    "    bestMove = None\n",
    "    for i in range (1, depthLimit+1):\n",
    "        value, move = negamaxab(game, i, alpha, beta)\n",
    "        if value is None:\n",
    "            continue\n",
    "        if bestValue < value:\n",
    "            bestValue = value\n",
    "            bestMove = move\n",
    "        if bestValue == 1:\n",
    "            return bestValue, bestMove\n",
    "    return bestValue, bestMove\n",
    "\n",
    "def negamaxab(game, depthLeft, alpha=-float('infinity'), beta=float('infinity')):\n",
    "    # In the for loop for trying moves, negate and swap the values of alpha and beta, \n",
    "    # and the returned value from recursive calls must be negated.\n",
    "    alpha, beta = -beta, -alpha\n",
    "    # If at terminal state or depth limit, return utility value and move None\n",
    "    if game.isOver() or depthLeft == 0:\n",
    "        return game.getUtility(), None # call to negamax knows the move\n",
    "    # Find best move and its value from current state\n",
    "    bestValue, bestMove = None, None\n",
    "    for move in game.getMoves():\n",
    "        # Apply a move to current state\n",
    "        game.makeMove(move)\n",
    "        # Use depth-first search to find eventual utility value and back it up.\n",
    "        #  Negate it because it will come back in context of next player\n",
    "        value, _ = negamaxab(game, depthLeft-1, alpha, beta)\n",
    "        # Remove the move from current state, to prepare for trying a different move\n",
    "        game.unmakeMove(move)\n",
    "        if value is None:\n",
    "            continue\n",
    "        value = - value\n",
    "        if bestValue is None or value > bestValue:\n",
    "            # Value for this move is better than moves tried so far from this state.\n",
    "            bestValue, bestMove = value, move\n",
    "        # Update alpha to maximum of bestValue and current alpha.\n",
    "        alpha = max(bestValue, alpha)\n",
    "        if alpha >= beta:\n",
    "            # Do early return if bestScore is greater than or equal to beta.\n",
    "            return bestValue, bestMove\n",
    "    return bestValue, bestMove"
   ]
  },
  {
   "cell_type": "markdown",
   "metadata": {},
   "source": [
    "## playGames\n",
    "\n",
    "Now duplicate the game playing loop so three complete tic-tac-toe games are played.  Call this new version `playGames`. For the first game, use `negamax`. For the second game, use `negamaxIDS`.  For the third game, use `negamaxIDSab`.  At the end of each game, print the number of X's in the final board, the number moves explored, the depth of the game which is the number of moves made by X and O, and the effective branching factor.  When you run `playGames` you should see the tic-tac-toe positions after each move and, after all games are done, a line for each game like the following lines, which were <font color='red'>UPDATED Oct 8</font>.\n",
    "\n",
    "    negamax made 4 moves. 558334 moves explored for ebf(558334, 7) of 6.46\n",
    "    negamaxIDS made 3 moves. 23338 moves explored for ebf(23338, 5) of 7.26\n",
    "    negamaxIDSab made 3 moves 6053 moves explored for ebf(6053, 5) of 5.48\n",
    "\n",
    "Your results may be different. \n",
    "\n",
    "The value of the depth is the total number of moves made by X and by O during the search.  You can calculate this by keeping a list of all board states, or by just counting the number of X's and O's in the final board."
   ]
  },
  {
   "cell_type": "code",
   "execution_count": 8,
   "metadata": {
    "collapsed": false
   },
   "outputs": [
    {
     "name": "stdout",
     "output_type": "stream",
     "text": [
      "0\n",
      "1\n",
      "2\n"
     ]
    },
    {
     "data": {
      "text/plain": [
       "3"
      ]
     },
     "execution_count": 8,
     "metadata": {},
     "output_type": "execute_result"
    }
   ],
   "source": [
    "names = [\"negamax\", \"negamaxIDS\", \"negamaxIDSab\"]\n",
    "functions = [negamax, negamaxIDS, negamaxIDSab]\n",
    "steps = []\n",
    "for i, function in enumerate(functions):\n",
    "    print(i)\n",
    "    steps.append(i)\n",
    "a = (1,2,3,4)\n",
    "a[2]"
   ]
  },
  {
   "cell_type": "code",
   "execution_count": 9,
   "metadata": {
    "collapsed": false
   },
   "outputs": [],
   "source": [
    "def playGames(opponent, depthLimit):\n",
    "    names = [\"negamax\", \"negamaxIDS\", \"negamaxIDSab\"]\n",
    "    functions = [negamax, negamaxIDS, negamaxIDSab]\n",
    "    myGames = []\n",
    "    for i, function in enumerate(functions):\n",
    "        print(\"\\n\", names[i], \":\")\n",
    "        game = TTT()\n",
    "        print(game)\n",
    "        myStep = 0\n",
    "        while not game.isOver():\n",
    "            score,move = function(game,depthLimit)\n",
    "            if move == None :\n",
    "                print('move is None. Stopping.')\n",
    "                break\n",
    "            myStep += 1\n",
    "            game.makeMove(move)\n",
    "            print('Player', game.player, 'to', move, 'for score' ,score)\n",
    "            print(game)\n",
    "            if not game.isOver():\n",
    "                game.changePlayer()\n",
    "                opponentMove = opponent(game.board)\n",
    "                game.makeMove(opponentMove)\n",
    "                print('Player', game.player, 'to', opponentMove)   ### FIXED ERROR IN THIS LINE!\n",
    "                print(game)\n",
    "                game.changePlayer()\n",
    "        myGame = (names[i], myStep, game.getNumberMovesExplored(), myStep*2-1)\n",
    "        myGames.append(myGame)\n",
    "    for myGame in myGames:\n",
    "        print(myGame[0], \" made \",  myGame[1], \" moves. \", myGame[2],\n",
    "              \" moves explored for ebf(\", myGame[2], \",\", myGame[3], \") of \", '{:.2f}'.format(ebf(myGame[2], myGame[3])))"
   ]
  },
  {
   "cell_type": "markdown",
   "metadata": {},
   "source": [
    "Here are some example results. <font color='red'>Updated October 8, 3:15pm </font>"
   ]
  },
  {
   "cell_type": "code",
   "execution_count": 10,
   "metadata": {
    "collapsed": false,
    "scrolled": false
   },
   "outputs": [
    {
     "name": "stdout",
     "output_type": "stream",
     "text": [
      "\n",
      " negamax :\n",
      " | | \n",
      "-----\n",
      " | | \n",
      "-----\n",
      " | | \n",
      "Player X to 0 for score 0\n",
      "X| | \n",
      "-----\n",
      " | | \n",
      "-----\n",
      " | | \n",
      "Player O to 1\n",
      "X|O| \n",
      "-----\n",
      " | | \n",
      "-----\n",
      " | | \n",
      "Player X to 3 for score 1\n",
      "X|O| \n",
      "-----\n",
      "X| | \n",
      "-----\n",
      " | | \n",
      "Player O to 2\n",
      "X|O|O\n",
      "-----\n",
      "X| | \n",
      "-----\n",
      " | | \n",
      "Player X to 4 for score 1\n",
      "X|O|O\n",
      "-----\n",
      "X|X| \n",
      "-----\n",
      " | | \n",
      "Player O to 5\n",
      "X|O|O\n",
      "-----\n",
      "X|X|O\n",
      "-----\n",
      " | | \n",
      "Player X to 6 for score 1\n",
      "X|O|O\n",
      "-----\n",
      "X|X|O\n",
      "-----\n",
      "X| | \n",
      "\n",
      " negamaxIDS :\n",
      " | | \n",
      "-----\n",
      " | | \n",
      "-----\n",
      " | | \n",
      "Player X to 0 for score 1\n",
      "X| | \n",
      "-----\n",
      " | | \n",
      "-----\n",
      " | | \n",
      "Player O to 1\n",
      "X|O| \n",
      "-----\n",
      " | | \n",
      "-----\n",
      " | | \n",
      "Player X to 3 for score 1\n",
      "X|O| \n",
      "-----\n",
      "X| | \n",
      "-----\n",
      " | | \n",
      "Player O to 2\n",
      "X|O|O\n",
      "-----\n",
      "X| | \n",
      "-----\n",
      " | | \n",
      "Player X to 6 for score 1\n",
      "X|O|O\n",
      "-----\n",
      "X| | \n",
      "-----\n",
      "X| | \n",
      "\n",
      " negamaxIDSab :\n",
      " | | \n",
      "-----\n",
      " | | \n",
      "-----\n",
      " | | \n",
      "Player X to 0 for score 1\n",
      "X| | \n",
      "-----\n",
      " | | \n",
      "-----\n",
      " | | \n",
      "Player O to 1\n",
      "X|O| \n",
      "-----\n",
      " | | \n",
      "-----\n",
      " | | \n",
      "Player X to 3 for score 1\n",
      "X|O| \n",
      "-----\n",
      "X| | \n",
      "-----\n",
      " | | \n",
      "Player O to 2\n",
      "X|O|O\n",
      "-----\n",
      "X| | \n",
      "-----\n",
      " | | \n",
      "Player X to 6 for score 1\n",
      "X|O|O\n",
      "-----\n",
      "X| | \n",
      "-----\n",
      "X| | \n",
      "negamax  made  4  moves.  558334  moves explored for ebf( 558334 , 7 ) of  6.46\n",
      "negamaxIDS  made  3  moves.  23338  moves explored for ebf( 23338 , 5 ) of  7.26\n",
      "negamaxIDSab  made  3  moves.  6053  moves explored for ebf( 6053 , 5 ) of  5.48\n"
     ]
    }
   ],
   "source": [
    "playGames(opponent, 10)"
   ]
  },
  {
   "cell_type": "markdown",
   "metadata": {},
   "source": [
    "## Grading"
   ]
  },
  {
   "cell_type": "markdown",
   "metadata": {},
   "source": [
    "As always, download and extract from [A4grader.tar](http://www.cs.colostate.edu/~anderson/cs440/notebooks/A4grader.tar)"
   ]
  },
  {
   "cell_type": "code",
   "execution_count": 11,
   "metadata": {
    "collapsed": false
   },
   "outputs": [
    {
     "name": "stdout",
     "output_type": "stream",
     "text": [
      "\n",
      "Testing negamax starting from ['O', 'X', ' ', 'O', ' ', ' ', ' ', 'X', ' ']\n",
      "\n",
      "--- 10/10 points. negamax correctly returns value of 1\n",
      "\n",
      "--- 10/10 points. negamax correctly explored 124 states.\n",
      "\n",
      "Testing negamax starting from ['O', 'X', 'X', 'O', 'O', ' ', ' ', 'X', ' ']\n",
      "\n",
      "--- 10/10 points. negamax correctly returns value of -1 and move of 5\n",
      "\n",
      "Testing negamaxIDS with max depth of 5, starting from ['O', 'X', 'X', 'O', 'O', ' ', ' ', 'X', ' ']\n",
      "\n",
      "--- 10/10 points. negamaxIDS correctly returns value of -1 and move of 5\n",
      "\n",
      "Testing negamaxIDSab starting from ['O', 'X', 'X', 'O', 'O', ' ', ' ', 'X', ' ']\n",
      "\n",
      "--- 20/20 points. negamaxIDSab correctly returns value of -1 and move of 5\n",
      "\n",
      "Testing playGame with opponent that always plays in highest numbered position.\n",
      " | | \n",
      "-----\n",
      " | | \n",
      "-----\n",
      " | | \n",
      "Player X to 0 for score 0\n",
      "X| | \n",
      "-----\n",
      " | | \n",
      "-----\n",
      " | | \n",
      "Player O to 8\n",
      "X| | \n",
      "-----\n",
      " | | \n",
      "-----\n",
      " | |O\n",
      "Player X to 2 for score 1\n",
      "X| |X\n",
      "-----\n",
      " | | \n",
      "-----\n",
      " | |O\n",
      "Player O to 7\n",
      "X| |X\n",
      "-----\n",
      " | | \n",
      "-----\n",
      " |O|O\n",
      "Player X to 1 for score 1\n",
      "X|X|X\n",
      "-----\n",
      " | | \n",
      "-----\n",
      " |O|O\n",
      "\n",
      "--- 10/10 points. playGame correctly wins by filling top row with Xs.\n",
      "\n",
      "A4 Execution Grade is 70/70\n",
      "\n",
      " Remaining 30 points will be based on the output of your playGames function.\n",
      "\n",
      "A4 FINAL GRADE is __/100\n"
     ]
    }
   ],
   "source": [
    "%run -i A4grader.py"
   ]
  },
  {
   "cell_type": "markdown",
   "metadata": {},
   "source": [
    "## Extra Credit "
   ]
  },
  {
   "cell_type": "markdown",
   "metadata": {},
   "source": [
    "Earn one extra credit point for each of the following.\n",
    "\n",
    "  - Implement another game and repeat the above steps.\n",
    "\n",
    "  - Implement a random move chooser as the opponent (Player O) and determine how many times Player X can win against this opponent as an average over multiple games."
   ]
  },
  {
   "cell_type": "markdown",
   "metadata": {},
   "source": [
    "### Description"
   ]
  },
  {
   "cell_type": "markdown",
   "metadata": {},
   "source": [
    "**Get Largest Number** is game where two players in turn add a value to the total value and try to get the a limited maximum value. The total value starts from 0, and the limit for addition value is called stepLimit, the maximum value we try to achieve is called upperLimit.\n",
    "\n",
    "For example, stepLimit is 2, and the upperLimit is 10. Two players, namely 'X' and 'O', one of the possible way is:\n",
    "- total is: 0\n",
    "- 'X' adds 2\n",
    "- total is: 2\n",
    "- 'O' adds 1\n",
    "- total is: 3\n",
    "- 'X' adds 1\n",
    "- total is: 4\n",
    "- 'O' adds 2\n",
    "- total is: 6\n",
    "- 'X' adds 1\n",
    "- total is: 7\n",
    "- 'O' adds 2\n",
    "- total is: 9\n",
    "- 'X' adds 1\n",
    "- total is: 10\n",
    "\n",
    "Then 'X' comes to the maximum value and wins the game"
   ]
  },
  {
   "cell_type": "markdown",
   "metadata": {},
   "source": [
    "#### For the following discussion, we set stepLimit is 3, and the upperLimit is 21"
   ]
  },
  {
   "cell_type": "code",
   "execution_count": 12,
   "metadata": {
    "collapsed": false
   },
   "outputs": [],
   "source": [
    "# Get Largest Number\n",
    "class GLN(object):\n",
    "    def __init__(self, upperLimit = 21, stepLimit = 3):\n",
    "        self.stepLimit = stepLimit\n",
    "        self.upperLimit = upperLimit\n",
    "        self.board = 0\n",
    "        self.player = 'X'\n",
    "        self.playerLookAHead = self.player\n",
    "        self.movesExplored = 0\n",
    "\n",
    "    def setGLN(self, board, player):\n",
    "        self.board = board\n",
    "        self.player = player\n",
    "\n",
    "    def getMoves(self):\n",
    "        return [ i for i in range(1, min(self.upperLimit-self.board, self.stepLimit)+1) ]\n",
    "\n",
    "    def getUtility(self):\n",
    "        if self.board == self.upperLimit:\n",
    "            return -1\n",
    "        elif self.board < self.upperLimit:\n",
    "            return 0\n",
    "        else:\n",
    "            return None  ########################################################## CHANGED FROM -0.1\n",
    "\n",
    "    def isOver(self):\n",
    "        return self.getUtility() is not 0\n",
    "\n",
    "    def makeMove(self, move):\n",
    "        self.movesExplored += 1\n",
    "        self.board = self.board + move\n",
    "        self.playerLookAHead = 'X' if self.playerLookAHead == 'O' else 'O'\n",
    "\n",
    "    def changePlayer(self):\n",
    "        self.player = 'X' if self.player == 'O' else 'O'\n",
    "        self.playerLookAHead = self.player\n",
    "\n",
    "    def unmakeMove(self, move):\n",
    "        self.board = self.board - move\n",
    "        self.playerLookAHead = 'X' if self.playerLookAHead == 'O' else 'O'\n",
    "\n",
    "    def __str__(self):\n",
    "        return \"total: \" + str(self.board)\n",
    "    \n",
    "    def getNumberMovesExplored(self):\n",
    "        return self.movesExplored"
   ]
  },
  {
   "cell_type": "code",
   "execution_count": 13,
   "metadata": {
    "collapsed": true
   },
   "outputs": [],
   "source": [
    "import random\n",
    "\n",
    "# Implement a random move chooser as the opponent (Player O)\n",
    "def GLNopponent(game):\n",
    "    return random.randint(1,min(game.upperLimit-game.board, 3))\n",
    "\n",
    "def playGLNGame(game,opponent,depthLimit):\n",
    "    print(game)\n",
    "    print(game.isOver())\n",
    "    while not game.isOver():\n",
    "        score,move = negamax(game,depthLimit)\n",
    "        if move == None :\n",
    "            print('move is None. Stopping.')\n",
    "            break\n",
    "        game.makeMove(move)\n",
    "        print('Player', game.player, 'add', move, 'for score' ,score)\n",
    "        print(game)\n",
    "        if not game.isOver():\n",
    "            game.changePlayer()\n",
    "            opponentMove = GLNopponent(game)\n",
    "            game.makeMove(opponentMove)\n",
    "            print('Player', game.player, 'add', opponentMove)   ### FIXED ERROR IN THIS LINE!\n",
    "            print(game)\n",
    "            game.changePlayer()\n",
    "    print(game.getNumberMovesExplored())"
   ]
  },
  {
   "cell_type": "markdown",
   "metadata": {},
   "source": [
    "Lets look some Examples on Get Largest Number game:\n",
    "1. if it is your turn and the total score is 17, there is no chance for you to win, since the only possible value you can achieve is (18, 19, 20), and for the opponent, he can easily achieve 21 from any of those values. As a result, negamax returned score -1 and move 1"
   ]
  },
  {
   "cell_type": "code",
   "execution_count": 14,
   "metadata": {
    "collapsed": false
   },
   "outputs": [
    {
     "data": {
      "text/plain": [
       "(-1, 1)"
      ]
     },
     "execution_count": 14,
     "metadata": {},
     "output_type": "execute_result"
    }
   ],
   "source": [
    "game = GLN()\n",
    "board = 17\n",
    "player = 'X'\n",
    "game.setGLN(board, player)\n",
    "negamax(game, 10)"
   ]
  },
  {
   "cell_type": "markdown",
   "metadata": {},
   "source": [
    "2.if it is your turn and the total score is 16, you can make total to 17 and then back to example 1, your opponent has no chance to win. As a result, negamax returned score 1 and move 1"
   ]
  },
  {
   "cell_type": "code",
   "execution_count": 15,
   "metadata": {
    "collapsed": false
   },
   "outputs": [
    {
     "data": {
      "text/plain": [
       "(1, 1)"
      ]
     },
     "execution_count": 15,
     "metadata": {},
     "output_type": "execute_result"
    }
   ],
   "source": [
    "game = GLN()\n",
    "board = 16\n",
    "player = 'X'\n",
    "game.setGLN(board, player)\n",
    "negamax(game, 10)"
   ]
  },
  {
   "cell_type": "markdown",
   "metadata": {},
   "source": [
    "3.if it is your turn and the total score is 15, you can make total to 17 and then back to example 1, your opponent has no chance to win. As a result, negamax returned score 1 and move 2"
   ]
  },
  {
   "cell_type": "code",
   "execution_count": 16,
   "metadata": {
    "collapsed": false
   },
   "outputs": [
    {
     "data": {
      "text/plain": [
       "(1, 2)"
      ]
     },
     "execution_count": 16,
     "metadata": {},
     "output_type": "execute_result"
    }
   ],
   "source": [
    "game = GLN()\n",
    "board = 15\n",
    "player = 'X'\n",
    "game.setGLN(board, player)\n",
    "negamax(game, 10)"
   ]
  },
  {
   "cell_type": "code",
   "execution_count": 17,
   "metadata": {
    "collapsed": false
   },
   "outputs": [],
   "source": [
    "def playGLNGames(opponent, depthLimit, iterFlag=False, iterTimes=1):\n",
    "    names = [\"negamax\", \"negamaxIDS\", \"negamaxIDSab\"]\n",
    "    functions = [negamax, negamaxIDS, negamaxIDSab]\n",
    "    myGames = []\n",
    "    myWins = []\n",
    "    for i, function in enumerate(functions):\n",
    "        print(\"\\n\", names[i], \":\")\n",
    "        winTimes = 0        \n",
    "        for times in range(iterTimes):\n",
    "            game = GLN()\n",
    "            if(times == iterTimes -1): print(game)\n",
    "            myStep = 0\n",
    "            while not game.isOver():\n",
    "                score,move = function(game,depthLimit)\n",
    "                if move == None :\n",
    "                    if(times == iterTimes -1): print('move is None. Stopping.')\n",
    "                    break\n",
    "                myStep += 1\n",
    "                game.makeMove(move)\n",
    "                if(times == iterTimes -1): print('Player', game.player, 'to', move, 'for score' ,score)\n",
    "                if(times == iterTimes -1): print(game)\n",
    "                if not game.isOver():\n",
    "                    game.changePlayer()\n",
    "                    opponentMove = GLNopponent(game)\n",
    "                    game.makeMove(opponentMove)\n",
    "                    if(times == iterTimes -1): print('Player', game.player, 'to', opponentMove)   ### FIXED ERROR IN THIS LINE!\n",
    "                    if(times == iterTimes -1): print(game)\n",
    "                    game.changePlayer()\n",
    "            if game.isOver() and game.player == 'X':\n",
    "                winTimes += 1\n",
    "            if(times == iterTimes -1): myGame = (names[i], myStep, game.getNumberMovesExplored(), myStep*2-1)\n",
    "            if(times == iterTimes -1): myGames.append(myGame)\n",
    "        myWins.append(winTimes)\n",
    "    for myGame in myGames:\n",
    "        print(myGame[0], \" made \",  myGame[1], \" moves. \", myGame[2],\n",
    "              \" moves explored for ebf(\", myGame[2], \",\", myGame[3], \") of \", '{:.2f}'.format(ebf(myGame[2], myGame[3])))\n",
    "    if iterFlag is True:\n",
    "        for i, name in enumerate(names):\n",
    "            print(name, \" produces win rate \", myWins[i]/iterTimes)\n",
    "    \n",
    "    \n",
    "def playMultiGLNGames(opponent, depthLimit, iterTimes=50):\n",
    "    return playGLNGames(opponent, depthLimit, True, iterTimes)"
   ]
  },
  {
   "cell_type": "code",
   "execution_count": 18,
   "metadata": {
    "collapsed": false,
    "scrolled": false
   },
   "outputs": [
    {
     "name": "stdout",
     "output_type": "stream",
     "text": [
      "\n",
      " negamax :\n",
      "total: 0\n",
      "Player X to 1 for score 0\n",
      "total: 1\n",
      "Player O to 3\n",
      "total: 4\n",
      "Player X to 1 for score 1\n",
      "total: 5\n",
      "Player O to 3\n",
      "total: 8\n",
      "Player X to 1 for score 1\n",
      "total: 9\n",
      "Player O to 2\n",
      "total: 11\n",
      "Player X to 2 for score 1\n",
      "total: 13\n",
      "Player O to 3\n",
      "total: 16\n",
      "Player X to 1 for score 1\n",
      "total: 17\n",
      "Player O to 2\n",
      "total: 19\n",
      "Player X to 2 for score 1\n",
      "total: 21\n",
      "\n",
      " negamaxIDS :\n",
      "total: 0\n",
      "Player X to 1 for score 0\n",
      "total: 1\n",
      "Player O to 3\n",
      "total: 4\n",
      "Player X to 1 for score 1\n",
      "total: 5\n",
      "Player O to 2\n",
      "total: 7\n",
      "Player X to 2 for score 1\n",
      "total: 9\n",
      "Player O to 2\n",
      "total: 11\n",
      "Player X to 2 for score 1\n",
      "total: 13\n",
      "Player O to 3\n",
      "total: 16\n",
      "Player X to 1 for score 1\n",
      "total: 17\n",
      "Player O to 3\n",
      "total: 20\n",
      "Player X to 1 for score 1\n",
      "total: 21\n",
      "\n",
      " negamaxIDSab :\n",
      "total: 0\n",
      "Player X to 1 for score 0\n",
      "total: 1\n",
      "Player O to 1\n",
      "total: 2\n",
      "Player X to 3 for score 1\n",
      "total: 5\n",
      "Player O to 3\n",
      "total: 8\n",
      "Player X to 1 for score 1\n",
      "total: 9\n",
      "Player O to 3\n",
      "total: 12\n",
      "Player X to 1 for score 1\n",
      "total: 13\n",
      "Player O to 2\n",
      "total: 15\n",
      "Player X to 2 for score 1\n",
      "total: 17\n",
      "Player O to 3\n",
      "total: 20\n",
      "Player X to 1 for score 1\n",
      "total: 21\n",
      "negamax  made  6  moves.  100825  moves explored for ebf( 100825 , 11 ) of  2.73\n",
      "negamaxIDS  made  6  moves.  146421  moves explored for ebf( 146421 , 11 ) of  2.83\n",
      "negamaxIDSab  made  6  moves.  5817  moves explored for ebf( 5817 , 11 ) of  2.07\n"
     ]
    }
   ],
   "source": [
    "playGLNGames(GLNopponent, 10)"
   ]
  },
  {
   "cell_type": "code",
   "execution_count": 19,
   "metadata": {
    "collapsed": false,
    "scrolled": false
   },
   "outputs": [
    {
     "name": "stdout",
     "output_type": "stream",
     "text": [
      "\n",
      " negamax :\n",
      "total: 0\n",
      "Player X to 1 for score 0\n",
      "total: 1\n",
      "Player O to 3\n",
      "total: 4\n",
      "Player X to 1 for score 1\n",
      "total: 5\n",
      "Player O to 1\n",
      "total: 6\n",
      "Player X to 3 for score 1\n",
      "total: 9\n",
      "Player O to 2\n",
      "total: 11\n",
      "Player X to 2 for score 1\n",
      "total: 13\n",
      "Player O to 3\n",
      "total: 16\n",
      "Player X to 1 for score 1\n",
      "total: 17\n",
      "Player O to 2\n",
      "total: 19\n",
      "Player X to 2 for score 1\n",
      "total: 21\n",
      "\n",
      " negamaxIDS :\n",
      "total: 0\n",
      "Player X to 1 for score 0\n",
      "total: 1\n",
      "Player O to 1\n",
      "total: 2\n",
      "Player X to 3 for score 1\n",
      "total: 5\n",
      "Player O to 2\n",
      "total: 7\n",
      "Player X to 2 for score 1\n",
      "total: 9\n",
      "Player O to 1\n",
      "total: 10\n",
      "Player X to 3 for score 1\n",
      "total: 13\n",
      "Player O to 3\n",
      "total: 16\n",
      "Player X to 1 for score 1\n",
      "total: 17\n",
      "Player O to 3\n",
      "total: 20\n",
      "Player X to 1 for score 1\n",
      "total: 21\n",
      "\n",
      " negamaxIDSab :\n",
      "total: 0\n",
      "Player X to 1 for score 0\n",
      "total: 1\n",
      "Player O to 3\n",
      "total: 4\n",
      "Player X to 1 for score 1\n",
      "total: 5\n",
      "Player O to 1\n",
      "total: 6\n",
      "Player X to 3 for score 1\n",
      "total: 9\n",
      "Player O to 2\n",
      "total: 11\n",
      "Player X to 2 for score 1\n",
      "total: 13\n",
      "Player O to 3\n",
      "total: 16\n",
      "Player X to 1 for score 1\n",
      "total: 17\n",
      "Player O to 1\n",
      "total: 18\n",
      "Player X to 3 for score 1\n",
      "total: 21\n",
      "negamax  made  6  moves.  108024  moves explored for ebf( 108024 , 11 ) of  2.75\n",
      "negamaxIDS  made  6  moves.  155415  moves explored for ebf( 155415 , 11 ) of  2.85\n",
      "negamaxIDSab  made  6  moves.  5811  moves explored for ebf( 5811 , 11 ) of  2.07\n",
      "negamax  produces win rate  1.0\n",
      "negamaxIDS  produces win rate  1.0\n",
      "negamaxIDSab  produces win rate  1.0\n"
     ]
    }
   ],
   "source": [
    "playMultiGLNGames(GLNopponent, 10)"
   ]
  }
 ],
 "metadata": {
  "kernelspec": {
   "display_name": "Python 3",
   "language": "python",
   "name": "python3"
  },
  "language_info": {
   "codemirror_mode": {
    "name": "ipython",
    "version": 3
   },
   "file_extension": ".py",
   "mimetype": "text/x-python",
   "name": "python",
   "nbconvert_exporter": "python",
   "pygments_lexer": "ipython3",
   "version": "3.6.0"
  }
 },
 "nbformat": 4,
 "nbformat_minor": 2
}
