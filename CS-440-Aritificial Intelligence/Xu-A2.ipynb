{
 "cells": [
  {
   "cell_type": "markdown",
   "metadata": {},
   "source": [
    "# Assignment 2: Iterative-Deepening Search"
   ]
  },
  {
   "cell_type": "markdown",
   "metadata": {},
   "source": [
    "- Jim Xu\n",
    "- 831-156-383"
   ]
  },
  {
   "cell_type": "markdown",
   "metadata": {},
   "source": [
    "## Overview"
   ]
  },
  {
   "cell_type": "markdown",
   "metadata": {},
   "source": [
    "Implement the iterative-deepening search algorithm as discussed in our Week 2 lecture notes and as shown in figures 3.17 and 3.18 in our text book. Apply it to the 8-puzzle and a second puzzle of your choice. "
   ]
  },
  {
   "cell_type": "markdown",
   "metadata": {},
   "source": [
    "## Required Code"
   ]
  },
  {
   "cell_type": "markdown",
   "metadata": {},
   "source": [
    "In this jupyter notebook, implement the following functions:\n",
    "\n",
    "  * `iterativeDeepeningSearch(startState, goalState, actionsF, takeActionF, maxDepth)`\n",
    "  * `depthLimitedSearch(startState, goalState, actionsF, takeActionF, depthLimit)`\n",
    "  \n",
    "`depthLimitedSearch` is called by `iterativeDeepeningSearch` with `depthLimit`s of $0, 1, \\ldots, $ `maxDepth`. Both must return either the solution path as a list of states, or the strings `cutoff` or `failure`.  `failure` signifies that all states were searched and the goal was not found. \n",
    "\n",
    "Each receives the arguments\n",
    "\n",
    "  * the starting state, \n",
    "  * a function `actionsF` that is given a state and returns a list of valid actions from that state,\n",
    "  * a function `takeActionF` that is given a state and an action and returns the new state that results from applying the action to the state,\n",
    "  * the goal state,\n",
    "  * a function `goalTestF` that is given a state and the goal state and returns `True` if the state satisfies the goal, and\n",
    "  * either a `depthLimit` for `depthLimitedSearch`, or `maxDepth` for `iterativeDeepeningSearch`."
   ]
  },
  {
   "cell_type": "markdown",
   "metadata": {},
   "source": [
    "Use your solution to solve the 8-puzzle.\n",
    "Implement the state of the puzzle as a list of integers. 0 represents the empty position. \n",
    "\n",
    "Required functions for the 8-puzzle are the following.\n",
    "\n",
    "  * `findBlank_8p(state)`: return the row and column index for the location of the blank (the 0 value).\n",
    "  * `actionsF_8p(state)`: returns a list of up to four valid actions that can be applied in `state`. Return them in the order `left`, `right`, `up`, `down`, though only if each one is a valid action.\n",
    "  * `takeActionF_8p(state, action)`: return the state that results from applying `action` in `state`.\n",
    "  * `goalTestF_8p(state, goalState)`: return `True` if state is a goal state.\n",
    "  * `printPath_8p(startState, goalState, path)`: print a solution path in a readable form.  You choose the format."
   ]
  },
  {
   "cell_type": "markdown",
   "metadata": {},
   "source": [
    "<font color='red'>Also</font>, implement a second search problem of your choice.  Apply your `iterativeDeepeningSearch` function to it."
   ]
  },
  {
   "cell_type": "markdown",
   "metadata": {},
   "source": [
    "Insert your function definitions in this notebook.\n",
    "\n",
    "Required functions for the 15-puzzle are the following.\n",
    "\n",
    "  * `findBlank_15p(state)`: return the row and column index for the location of the blank (the 0 value).\n",
    "  * `actionsF_15p(state)`: returns a list of up to four valid actions that can be applied in `state`. Return them in the order `left`, `right`, `up`, `down`, though only if each one is a valid action.\n",
    "  * `takeActionF_15p(state, action)`: return the state that results from applying `action` in `state`.\n",
    "  * `goalTestF_15p(state, goalState)`: return `True` if state is a goal state.\n",
    "  * `printPath_15p(startState, goalState, path)`: print a solution path in a readable form.  You choose the format."
   ]
  },
  {
   "cell_type": "code",
   "execution_count": 1,
   "metadata": {
    "collapsed": false
   },
   "outputs": [],
   "source": [
    "\n",
    "def iterativeDeepeningSearch(startState, goalState, actionsF, takeActionF, maxDepth):\n",
    "    \"\"\"\n",
    "    iterativeDeepeningSearch\n",
    "\n",
    "    return either the solution path as a list of states, or the strings cutoff or failure.  \n",
    "    failure signifies that all states were searched and the goal was not found.\n",
    "        \n",
    "    Parameters\n",
    "    ----------\n",
    "    startState : list\n",
    "        the starting state, a list of numbers descibing the puzzle construction\n",
    "    goalState : list\n",
    "        the ending state, a list of numbers descibing the puzzle construction\n",
    "    actionsF: function\n",
    "        given a state and returns a list of valid actions from that state\n",
    "    takeActionF:\n",
    "        given a state and an action and returns the new state that results \n",
    "        from applying the action to the state, the goal state\n",
    "    maxDepth: int\n",
    "        the maximum iterations or the maximum depth we search into the tree\n",
    "    \n",
    "    Returns\n",
    "    -------\n",
    "    list or str\n",
    "    \"\"\"\n",
    "    \n",
    "    for depth in range(maxDepth):\n",
    "        result = depthLimitedSearch(startState, goalState, actionsF, takeActionF, depth)\n",
    "        if result is 'failure':\n",
    "            return 'failure'\n",
    "        if result is not 'cutoff':\n",
    "            # Add startState to front of solution path, in result, returned by depthLimitedSearch\n",
    "            # if find an path, then it must cost the minimum steps to reach\n",
    "            # and then there is no need for futher iteration, return the path\n",
    "            result.insert(0, startState)\n",
    "            return result\n",
    "    return 'cutoff'\n",
    "    \n",
    "# path = depthLimitedSearch(startState, goalState, actionsF_8p, takeActionF_8p, 3)\n",
    "def depthLimitedSearch(state, goalState, actionsF, takeActionF, depthLimit):\n",
    "    if state == goalState:\n",
    "        return []\n",
    "    if depthLimit == 0:\n",
    "        # Return the string 'cutoff' to signal that the depth limit was reached\n",
    "        return 'cutoff'\n",
    "    cutoffOccurred = False\n",
    "    # consider each action of state\n",
    "    for action in actionsF(state):\n",
    "        # the resulting state by taking the action\n",
    "        childState = takeActionF(state, action)\n",
    "        # further explore the resulting state\n",
    "        result = depthLimitedSearch(childState, goalState, actionsF, takeActionF, depthLimit-1)\n",
    "        # check the resulting state is valid or not\n",
    "        # if reach the maximum depth, return cutoff\n",
    "        if result is 'cutoff':\n",
    "            cutoffOccurred = True\n",
    "        # elif there is a goal state found, add the current state to path\n",
    "        elif result is not 'failure':\n",
    "            # Add childState to front of partial solution path, in result, returned by depthLimitedSearch\n",
    "            result.insert(0, childState)\n",
    "            return result\n",
    "    # if reach the maximum depth or goal not found\n",
    "    if cutoffOccurred:\n",
    "        return 'cutoff'\n",
    "    else:\n",
    "        return 'failure'"
   ]
  },
  {
   "cell_type": "code",
   "execution_count": 2,
   "metadata": {
    "collapsed": false
   },
   "outputs": [],
   "source": [
    "\"\"\"\n",
    "    functions for the 8-puzzle *\n",
    "\"\"\"\n",
    "\n",
    "# printState_8p(state, special=\"\"), friendly printing the state in readable format\n",
    "def printState_8p(state, special=\"\"):\n",
    "    newLine = 0\n",
    "    print(special, end=\"\")\n",
    "    for num in state:\n",
    "        if newLine == 3:\n",
    "            newLine = 0\n",
    "            print()\n",
    "            print(special, end=\"\")\n",
    "        print(\" \" if num == 0 else num, end=\" \")\n",
    "        newLine += 1\n",
    "    print()\n",
    "        \n",
    "# findBlank_8p(state): return the row and column index for the location of the blank (the 0 value).\n",
    "def findBlank_8p(state):\n",
    "    index = state.index(0)\n",
    "    # a is the row while b is the col\n",
    "    a = (int)(index / 3)\n",
    "    b = index % 3\n",
    "    return a, b\n",
    "    \n",
    "# actionsF_8p(state): returns a list of up to four valid actions that can be applied in state. \n",
    "# Return them in the order left, right, up, down, though only if each one is a valid action.\n",
    "def actionsF_8p(state):\n",
    "    actions = []\n",
    "    a, b = findBlank_8p(state)\n",
    "    # check the validation of possible actions \n",
    "    if b > 0: actions.append(\"left\")\n",
    "    if b < 2: actions.append(\"right\")\n",
    "    if a > 0: actions.append(\"up\")\n",
    "    if a < 2: actions.append(\"down\")\n",
    "    return actions\n",
    "\n",
    "# takeActionF_8p(state, action): return the state that results from applying action in state.\n",
    "def takeActionF_8p(state, action):\n",
    "    # make a new value copy of original state\n",
    "    newState = state[:]\n",
    "    _a = 0\n",
    "    _b = 0\n",
    "    # calculate the increments of row and col\n",
    "    if action == \"left\": _b = -1\n",
    "    if action == \"right\": _b = 1\n",
    "    if action == \"up\": _a = -1\n",
    "    if action == \"down\": _a = 1\n",
    "    a, b = findBlank_8p(newState)\n",
    "    # calculate the new row and col\n",
    "    _a += a\n",
    "    _b += b\n",
    "    # incase not valid action\n",
    "    # discard the action and return the original state\n",
    "    if not 0<= _a < 3: \n",
    "        print(\"invalid action\")\n",
    "        return state\n",
    "    if not 0<= _b < 3:\n",
    "        print(\"invalid action\")\n",
    "        return state\n",
    "    # switch the element\n",
    "    newState[_a*3+_b], newState[a*3+b] = newState[a*3+b], newState[_a*3+_b]\n",
    "    return newState\n",
    "\n",
    "def goalTestF_8p(state, goalState):\n",
    "    return state == goalState\n",
    "\n",
    "# printPath_8p(startState, goalState, path): print a solution path in a readable form. \n",
    "# I choose the example format.\n",
    "def printPath_8p(startState, goalState, path):\n",
    "    print(\"Path from\")\n",
    "    printState_8p(startState)\n",
    "    print(\"  to\")\n",
    "    printState_8p(goalState)\n",
    "    print(\"is \" + str(len(path)) +\" nodes long:\")\n",
    "    for i in range(len(path)):\n",
    "        printState_8p(path[i], i*\" \")\n",
    "        print()"
   ]
  },
  {
   "cell_type": "code",
   "execution_count": 3,
   "metadata": {
    "collapsed": false
   },
   "outputs": [],
   "source": [
    "\"\"\"\n",
    "    functions for the 15-puzzle *\n",
    "\"\"\"\n",
    "# printState_15p(state, special=\"\"), friendly printing the state in readable format\n",
    "def printState_15p(state, special=\"\"):\n",
    "    newLine = 0\n",
    "    print(special, end=\"\")\n",
    "    for num in state:\n",
    "        if newLine == 4:\n",
    "            newLine = 0\n",
    "            print()\n",
    "            print(special, end=\"\")\n",
    "        print(\"  \" if num == 0 else '{:2d}'.format(num), end=\" \")\n",
    "        newLine += 1\n",
    "    print()\n",
    "    \n",
    "# findBlank_15p(state): return the row and column index for the location of the blank (the 0 value).\n",
    "def findBlank_15p(state):\n",
    "    index = state.index(0)\n",
    "    # a is the row while b is the col\n",
    "    a = (int)(index / 4)\n",
    "    b = index % 4\n",
    "    return a, b\n",
    "\n",
    "# actionsF_15p(state): returns a list of up to four valid actions that can be applied in state. \n",
    "# Return them in the order left, right, up, down, though only if each one is a valid action.\n",
    "def actionsF_15p(state):\n",
    "    actions = []\n",
    "    a, b = findBlank_15p(state)\n",
    "    # check the validation of possible actions \n",
    "    if b > 0: actions.append(\"left\")\n",
    "    if b < 3: actions.append(\"right\")\n",
    "    if a > 0: actions.append(\"up\")\n",
    "    if a < 3: actions.append(\"down\")\n",
    "    return actions\n",
    "\n",
    "# takeActionF_15p(state, action): return the state that results from applying action in state.\n",
    "def takeActionF_15p(state, action):\n",
    "    # make a new value copy of original state\n",
    "    newState = state[:]\n",
    "    _a = 0\n",
    "    _b = 0\n",
    "    # calculate the increments of row and col\n",
    "    if action == \"left\": _b = -1\n",
    "    if action == \"right\": _b = 1\n",
    "    if action == \"up\": _a = -1\n",
    "    if action == \"down\": _a = 1\n",
    "    a, b = findBlank_15p(newState)\n",
    "    # calculate the new row and col\n",
    "    _a += a\n",
    "    _b += b\n",
    "    # incase not valid action\n",
    "    # discard the action and return the original state\n",
    "    if not 0<= _a < 4: \n",
    "        print(\"invalid action\")\n",
    "        return state\n",
    "    if not 0<= _b < 4:\n",
    "        print(\"invalid action\")\n",
    "        return state\n",
    "    # switch the element\n",
    "    newState[_a*4+_b], newState[a*4+b] = newState[a*4+b], newState[_a*4+_b]\n",
    "    return newState\n",
    "\n",
    "def goalTestF_15p(state, goalState):\n",
    "    return state == goalState\n",
    "\n",
    "# printPath_15p(startState, goalState, path): print a solution path in a readable form. \n",
    "# I choose the example format.\n",
    "def printPath_15p(startState, goalState, path):\n",
    "    print(\"Path from\")\n",
    "    printState_15p(startState)\n",
    "    print()\n",
    "    print(\"  to\")\n",
    "    printState_15p(goalState)\n",
    "    print()\n",
    "    print(\"is \" + str(len(path)) +\" nodes long:\")\n",
    "    print()\n",
    "    for i in range(len(path)):\n",
    "        printState_15p(path[i], i*\" \")\n",
    "        print()"
   ]
  },
  {
   "cell_type": "markdown",
   "metadata": {},
   "source": [
    "Here are some example of 15-puzzle results."
   ]
  },
  {
   "cell_type": "code",
   "execution_count": 4,
   "metadata": {
    "collapsed": true
   },
   "outputs": [],
   "source": [
    "startState = [2, 1, 3, 4, 0, 5, 6, 7, 8, 9 ,10 ,11, 12, 13, 14, 15]"
   ]
  },
  {
   "cell_type": "code",
   "execution_count": 5,
   "metadata": {
    "collapsed": false
   },
   "outputs": [
    {
     "name": "stdout",
     "output_type": "stream",
     "text": [
      " 2  1  3  4 \n",
      "    5  6  7 \n",
      " 8  9 10 11 \n",
      "12 13 14 15 \n"
     ]
    }
   ],
   "source": [
    "printState_15p(startState)"
   ]
  },
  {
   "cell_type": "code",
   "execution_count": 6,
   "metadata": {
    "collapsed": false
   },
   "outputs": [
    {
     "data": {
      "text/plain": [
       "(1, 0)"
      ]
     },
     "execution_count": 6,
     "metadata": {},
     "output_type": "execute_result"
    }
   ],
   "source": [
    "findBlank_15p(startState)"
   ]
  },
  {
   "cell_type": "code",
   "execution_count": 7,
   "metadata": {
    "collapsed": false
   },
   "outputs": [
    {
     "data": {
      "text/plain": [
       "['right', 'up', 'down']"
      ]
     },
     "execution_count": 7,
     "metadata": {},
     "output_type": "execute_result"
    }
   ],
   "source": [
    "actionsF_15p(startState)\n",
    "# the original state is (0, 0)\n",
    "# move up into (-1, 0) or (0, -1) is not valid"
   ]
  },
  {
   "cell_type": "code",
   "execution_count": 8,
   "metadata": {
    "collapsed": false
   },
   "outputs": [
    {
     "data": {
      "text/plain": [
       "[2, 1, 3, 4, 8, 5, 6, 7, 0, 9, 10, 11, 12, 13, 14, 15]"
      ]
     },
     "execution_count": 8,
     "metadata": {},
     "output_type": "execute_result"
    }
   ],
   "source": [
    "takeActionF_15p(startState, 'down')\n",
    "# 0 move down from the puzzle map\n",
    "# from (1, 0) to (2, 0) = (index)8"
   ]
  },
  {
   "cell_type": "code",
   "execution_count": 9,
   "metadata": {
    "collapsed": false
   },
   "outputs": [
    {
     "name": "stdout",
     "output_type": "stream",
     "text": [
      " 2  1  3  4 \n",
      " 8  5  6  7 \n",
      "    9 10 11 \n",
      "12 13 14 15 \n"
     ]
    }
   ],
   "source": [
    "printState_15p(takeActionF_15p(startState, 'down'))"
   ]
  },
  {
   "cell_type": "code",
   "execution_count": 10,
   "metadata": {
    "collapsed": false
   },
   "outputs": [
    {
     "data": {
      "text/plain": [
       "[2, 1, 3, 4, 5, 9, 6, 7, 8, 13, 10, 11, 12, 14, 0, 15]"
      ]
     },
     "execution_count": 10,
     "metadata": {},
     "output_type": "execute_result"
    }
   ],
   "source": [
    "goalState = takeActionF_15p(takeActionF_15p(takeActionF_15p(takeActionF_15p(startState, 'right'), 'down'), 'down'), 'right')\n",
    "# set goalState to be [2, 13, 3, 4, 5, 1, 6, 7, 8, 9, 10, 11, 12, 14, 0, 15]\n",
    "goalState"
   ]
  },
  {
   "cell_type": "code",
   "execution_count": 11,
   "metadata": {
    "collapsed": true
   },
   "outputs": [],
   "source": [
    "newState = [2, 1, 3, 4, 5, 9, 6, 7, 8, 13, 10, 11, 12, 14, 0, 15]"
   ]
  },
  {
   "cell_type": "code",
   "execution_count": 12,
   "metadata": {
    "collapsed": false
   },
   "outputs": [
    {
     "data": {
      "text/plain": [
       "True"
      ]
     },
     "execution_count": 12,
     "metadata": {},
     "output_type": "execute_result"
    }
   ],
   "source": [
    "newState == goalState"
   ]
  },
  {
   "cell_type": "code",
   "execution_count": 13,
   "metadata": {
    "collapsed": false
   },
   "outputs": [
    {
     "name": "stdout",
     "output_type": "stream",
     "text": [
      "startState\n",
      " 2  1  3  4 \n",
      "    5  6  7 \n",
      " 8  9 10 11 \n",
      "12 13 14 15 \n",
      "goalState\n",
      " 2  1  3  4 \n",
      " 5  9  6  7 \n",
      " 8 13 10 11 \n",
      "12 14    15 \n"
     ]
    }
   ],
   "source": [
    "print(\"startState\")\n",
    "printState_15p(startState)\n",
    "print(\"goalState\")\n",
    "printState_15p(goalState)"
   ]
  },
  {
   "cell_type": "code",
   "execution_count": 14,
   "metadata": {
    "collapsed": false
   },
   "outputs": [
    {
     "data": {
      "text/plain": [
       "'cutoff'"
      ]
     },
     "execution_count": 14,
     "metadata": {},
     "output_type": "execute_result"
    }
   ],
   "source": [
    "path = depthLimitedSearch(startState, goalState, actionsF_15p, takeActionF_15p, 3)\n",
    "# searching a path from startState [2, 1, 3, 4, 0, 5, 6, 7, 8, 9 ,10 ,11, 12, 13, 14, 15] \n",
    "# to goalState [2, 13, 3, 4, 5, 1, 6, 7, 8, 9, 10, 11, 12, 14, 0, 15]\n",
    "# within 3 steps dfs\n",
    "# then print the path as a list\n",
    "path\n",
    "# we could not reach the final goal within 3 steps\n",
    "# the result is cutoff"
   ]
  },
  {
   "cell_type": "code",
   "execution_count": 15,
   "metadata": {
    "collapsed": false
   },
   "outputs": [
    {
     "data": {
      "text/plain": [
       "[[2, 1, 3, 4, 5, 0, 6, 7, 8, 9, 10, 11, 12, 13, 14, 15],\n",
       " [2, 1, 3, 4, 0, 5, 6, 7, 8, 9, 10, 11, 12, 13, 14, 15],\n",
       " [2, 1, 3, 4, 5, 0, 6, 7, 8, 9, 10, 11, 12, 13, 14, 15],\n",
       " [2, 1, 3, 4, 0, 5, 6, 7, 8, 9, 10, 11, 12, 13, 14, 15],\n",
       " [2, 1, 3, 4, 5, 0, 6, 7, 8, 9, 10, 11, 12, 13, 14, 15],\n",
       " [2, 1, 3, 4, 0, 5, 6, 7, 8, 9, 10, 11, 12, 13, 14, 15],\n",
       " [2, 1, 3, 4, 5, 0, 6, 7, 8, 9, 10, 11, 12, 13, 14, 15],\n",
       " [2, 1, 3, 4, 5, 9, 6, 7, 8, 0, 10, 11, 12, 13, 14, 15],\n",
       " [2, 1, 3, 4, 5, 9, 6, 7, 8, 13, 10, 11, 12, 0, 14, 15],\n",
       " [2, 1, 3, 4, 5, 9, 6, 7, 8, 13, 10, 11, 12, 14, 0, 15]]"
      ]
     },
     "execution_count": 15,
     "metadata": {},
     "output_type": "execute_result"
    }
   ],
   "source": [
    "path = depthLimitedSearch(startState, goalState, actionsF_15p, takeActionF_15p, 10)\n",
    "# searching a path from startState [2, 1, 3, 4, 0, 5, 6, 7, 8, 9 ,10 ,11, 12, 13, 14, 15] \n",
    "# to goalState [2, 13, 3, 4, 5, 1, 6, 7, 8, 9, 10, 11, 12, 14, 0, 15]\n",
    "# within 10 steps dfs\n",
    "# then print the path as a list\n",
    "path"
   ]
  },
  {
   "cell_type": "markdown",
   "metadata": {},
   "source": [
    "the result is more steps than we thought (without the start state of course), because by default, \n",
    "we move left first, which continues dfs (left -> ...) and finds goalstate within 10 steps\n",
    "before we consider the other actions, which may cost fewer steps in total to reach the goalState, for the startState."
   ]
  },
  {
   "cell_type": "code",
   "execution_count": 16,
   "metadata": {
    "collapsed": false,
    "scrolled": true
   },
   "outputs": [
    {
     "data": {
      "text/plain": [
       "[[2, 1, 3, 4, 0, 5, 6, 7, 8, 9, 10, 11, 12, 13, 14, 15],\n",
       " [2, 1, 3, 4, 5, 0, 6, 7, 8, 9, 10, 11, 12, 13, 14, 15],\n",
       " [2, 1, 3, 4, 5, 9, 6, 7, 8, 0, 10, 11, 12, 13, 14, 15],\n",
       " [2, 1, 3, 4, 5, 9, 6, 7, 8, 13, 10, 11, 12, 0, 14, 15],\n",
       " [2, 1, 3, 4, 5, 9, 6, 7, 8, 13, 10, 11, 12, 14, 0, 15]]"
      ]
     },
     "execution_count": 16,
     "metadata": {},
     "output_type": "execute_result"
    }
   ],
   "source": [
    "path = iterativeDeepeningSearch(startState, goalState, actionsF_15p, takeActionF_15p, 10)\n",
    "# searching a path from startState [2, 1, 3, 4, 0, 5, 6, 7, 8, 9 ,10 ,11, 12, 13, 14, 15] \n",
    "# to goalState [2, 13, 3, 4, 5, 1, 6, 7, 8, 9, 10, 11, 12, 14, 0, 15]\n",
    "# within 10 steps dfs\n",
    "# then print the path as a list\n",
    "path"
   ]
  },
  {
   "cell_type": "markdown",
   "metadata": {},
   "source": [
    "the result costs the minmium steps, since we do dfs from the smaller total steps to higher total steps"
   ]
  },
  {
   "cell_type": "code",
   "execution_count": 17,
   "metadata": {
    "collapsed": false
   },
   "outputs": [
    {
     "name": "stdout",
     "output_type": "stream",
     "text": [
      "Path from\n",
      " 2  1  3  4 \n",
      "    5  6  7 \n",
      " 8  9 10 11 \n",
      "12 13 14 15 \n",
      "\n",
      "  to\n",
      " 2  1  3  4 \n",
      " 5  9  6  7 \n",
      " 8 13 10 11 \n",
      "12 14    15 \n",
      "\n",
      "is 5 nodes long:\n",
      "\n",
      " 2  1  3  4 \n",
      "    5  6  7 \n",
      " 8  9 10 11 \n",
      "12 13 14 15 \n",
      "\n",
      "  2  1  3  4 \n",
      "  5     6  7 \n",
      "  8  9 10 11 \n",
      " 12 13 14 15 \n",
      "\n",
      "   2  1  3  4 \n",
      "   5  9  6  7 \n",
      "   8    10 11 \n",
      "  12 13 14 15 \n",
      "\n",
      "    2  1  3  4 \n",
      "    5  9  6  7 \n",
      "    8 13 10 11 \n",
      "   12    14 15 \n",
      "\n",
      "     2  1  3  4 \n",
      "     5  9  6  7 \n",
      "     8 13 10 11 \n",
      "    12 14    15 \n",
      "\n"
     ]
    }
   ],
   "source": [
    "printPath_15p(startState, goalState, path)"
   ]
  },
  {
   "cell_type": "markdown",
   "metadata": {},
   "source": [
    "Here is another 15-puzzle example (stackexchange) [URL:https://codegolf.stackexchange.com/questions/6884/solve-the-15-puzzle-the-tile-sliding-puzzle], We need to reorder the puzzle from an chaotic state to an ordered state, it takes 16 steps in DLFS algorithm, whereas the result from stackexchange said it requires 19 steps."
   ]
  },
  {
   "cell_type": "code",
   "execution_count": 18,
   "metadata": {
    "collapsed": false
   },
   "outputs": [
    {
     "name": "stdout",
     "output_type": "stream",
     "text": [
      " 5  1  7  3 \n",
      " 9  2 11  4 \n",
      "13  6 15  8 \n",
      "   10 14 12 \n"
     ]
    }
   ],
   "source": [
    "startState = [5, 1, 7, 3, 9, 2, 11, 4, 13, 6, 15, 8, 0, 10, 14, 12]\n",
    "printState_15p(startState)"
   ]
  },
  {
   "cell_type": "code",
   "execution_count": 19,
   "metadata": {
    "collapsed": false
   },
   "outputs": [
    {
     "name": "stdout",
     "output_type": "stream",
     "text": [
      " 1  2  3  4 \n",
      " 5  6  7  8 \n",
      " 9 10 11 12 \n",
      "13 14 15    \n"
     ]
    }
   ],
   "source": [
    "goalState = [1, 2, 3, 4, 5, 6, 7, 8, 9, 10, 11, 12, 13, 14, 15, 0]\n",
    "printState_15p(goalState)"
   ]
  },
  {
   "cell_type": "code",
   "execution_count": 20,
   "metadata": {
    "collapsed": false
   },
   "outputs": [
    {
     "data": {
      "text/plain": [
       "[[5, 1, 7, 3, 9, 2, 11, 4, 13, 6, 15, 8, 0, 10, 14, 12],\n",
       " [5, 1, 7, 3, 9, 2, 11, 4, 0, 6, 15, 8, 13, 10, 14, 12],\n",
       " [5, 1, 7, 3, 0, 2, 11, 4, 9, 6, 15, 8, 13, 10, 14, 12],\n",
       " [0, 1, 7, 3, 5, 2, 11, 4, 9, 6, 15, 8, 13, 10, 14, 12],\n",
       " [1, 0, 7, 3, 5, 2, 11, 4, 9, 6, 15, 8, 13, 10, 14, 12],\n",
       " [1, 2, 7, 3, 5, 0, 11, 4, 9, 6, 15, 8, 13, 10, 14, 12],\n",
       " [1, 2, 7, 3, 5, 6, 11, 4, 9, 0, 15, 8, 13, 10, 14, 12],\n",
       " [1, 2, 7, 3, 5, 6, 11, 4, 9, 10, 15, 8, 13, 0, 14, 12],\n",
       " [1, 2, 7, 3, 5, 6, 11, 4, 9, 10, 15, 8, 13, 14, 0, 12],\n",
       " [1, 2, 7, 3, 5, 6, 11, 4, 9, 10, 0, 8, 13, 14, 15, 12],\n",
       " [1, 2, 7, 3, 5, 6, 0, 4, 9, 10, 11, 8, 13, 14, 15, 12],\n",
       " [1, 2, 0, 3, 5, 6, 7, 4, 9, 10, 11, 8, 13, 14, 15, 12],\n",
       " [1, 2, 3, 0, 5, 6, 7, 4, 9, 10, 11, 8, 13, 14, 15, 12],\n",
       " [1, 2, 3, 4, 5, 6, 7, 0, 9, 10, 11, 8, 13, 14, 15, 12],\n",
       " [1, 2, 3, 4, 5, 6, 7, 8, 9, 10, 11, 0, 13, 14, 15, 12],\n",
       " [1, 2, 3, 4, 5, 6, 7, 8, 9, 10, 11, 12, 13, 14, 15, 0]]"
      ]
     },
     "execution_count": 20,
     "metadata": {},
     "output_type": "execute_result"
    }
   ],
   "source": [
    "path = iterativeDeepeningSearch(startState, goalState, actionsF_15p, takeActionF_15p, 20)\n",
    "path"
   ]
  },
  {
   "cell_type": "code",
   "execution_count": 21,
   "metadata": {
    "collapsed": false
   },
   "outputs": [
    {
     "name": "stdout",
     "output_type": "stream",
     "text": [
      "Path from\n",
      " 5  1  7  3 \n",
      " 9  2 11  4 \n",
      "13  6 15  8 \n",
      "   10 14 12 \n",
      "\n",
      "  to\n",
      " 1  2  3  4 \n",
      " 5  6  7  8 \n",
      " 9 10 11 12 \n",
      "13 14 15    \n",
      "\n",
      "is 16 nodes long:\n",
      "\n",
      " 5  1  7  3 \n",
      " 9  2 11  4 \n",
      "13  6 15  8 \n",
      "   10 14 12 \n",
      "\n",
      "  5  1  7  3 \n",
      "  9  2 11  4 \n",
      "     6 15  8 \n",
      " 13 10 14 12 \n",
      "\n",
      "   5  1  7  3 \n",
      "      2 11  4 \n",
      "   9  6 15  8 \n",
      "  13 10 14 12 \n",
      "\n",
      "       1  7  3 \n",
      "    5  2 11  4 \n",
      "    9  6 15  8 \n",
      "   13 10 14 12 \n",
      "\n",
      "     1     7  3 \n",
      "     5  2 11  4 \n",
      "     9  6 15  8 \n",
      "    13 10 14 12 \n",
      "\n",
      "      1  2  7  3 \n",
      "      5    11  4 \n",
      "      9  6 15  8 \n",
      "     13 10 14 12 \n",
      "\n",
      "       1  2  7  3 \n",
      "       5  6 11  4 \n",
      "       9    15  8 \n",
      "      13 10 14 12 \n",
      "\n",
      "        1  2  7  3 \n",
      "        5  6 11  4 \n",
      "        9 10 15  8 \n",
      "       13    14 12 \n",
      "\n",
      "         1  2  7  3 \n",
      "         5  6 11  4 \n",
      "         9 10 15  8 \n",
      "        13 14    12 \n",
      "\n",
      "          1  2  7  3 \n",
      "          5  6 11  4 \n",
      "          9 10     8 \n",
      "         13 14 15 12 \n",
      "\n",
      "           1  2  7  3 \n",
      "           5  6     4 \n",
      "           9 10 11  8 \n",
      "          13 14 15 12 \n",
      "\n",
      "            1  2     3 \n",
      "            5  6  7  4 \n",
      "            9 10 11  8 \n",
      "           13 14 15 12 \n",
      "\n",
      "             1  2  3    \n",
      "             5  6  7  4 \n",
      "             9 10 11  8 \n",
      "            13 14 15 12 \n",
      "\n",
      "              1  2  3  4 \n",
      "              5  6  7    \n",
      "              9 10 11  8 \n",
      "             13 14 15 12 \n",
      "\n",
      "               1  2  3  4 \n",
      "               5  6  7  8 \n",
      "               9 10 11    \n",
      "              13 14 15 12 \n",
      "\n",
      "                1  2  3  4 \n",
      "                5  6  7  8 \n",
      "                9 10 11 12 \n",
      "               13 14 15    \n",
      "\n"
     ]
    }
   ],
   "source": [
    "printPath_15p(startState, goalState, path)"
   ]
  },
  {
   "cell_type": "markdown",
   "metadata": {},
   "source": [
    "From this example, I concluded that DLFS is a great algorithm which can end up with the \"least cost\" path. The possible flaw of this algorithm is that it takes more time than the algorithm provided in stackexchange."
   ]
  },
  {
   "cell_type": "markdown",
   "metadata": {},
   "source": [
    "Here are some example of 8-puzzle results."
   ]
  },
  {
   "cell_type": "code",
   "execution_count": 22,
   "metadata": {
    "collapsed": true
   },
   "outputs": [],
   "source": [
    "startState = [1, 0, 3, 4, 2, 5, 6, 7, 8]"
   ]
  },
  {
   "cell_type": "code",
   "execution_count": 23,
   "metadata": {
    "collapsed": false
   },
   "outputs": [
    {
     "name": "stdout",
     "output_type": "stream",
     "text": [
      "1   3 \n",
      "4 2 5 \n",
      "6 7 8 \n"
     ]
    }
   ],
   "source": [
    "printState_8p(startState)  # not a required function for this assignment, but it helps when implementing printPath_8p"
   ]
  },
  {
   "cell_type": "code",
   "execution_count": 24,
   "metadata": {
    "collapsed": false
   },
   "outputs": [
    {
     "data": {
      "text/plain": [
       "(0, 1)"
      ]
     },
     "execution_count": 24,
     "metadata": {},
     "output_type": "execute_result"
    }
   ],
   "source": [
    "findBlank_8p(startState)"
   ]
  },
  {
   "cell_type": "code",
   "execution_count": 25,
   "metadata": {
    "collapsed": false
   },
   "outputs": [
    {
     "data": {
      "text/plain": [
       "['left', 'right', 'down']"
      ]
     },
     "execution_count": 25,
     "metadata": {},
     "output_type": "execute_result"
    }
   ],
   "source": [
    "actionsF_8p(startState)\n",
    "# the original state is (0, 1)\n",
    "# move up into (-1, 1) is not valid"
   ]
  },
  {
   "cell_type": "code",
   "execution_count": 26,
   "metadata": {
    "collapsed": false
   },
   "outputs": [
    {
     "data": {
      "text/plain": [
       "[1, 2, 3, 4, 0, 5, 6, 7, 8]"
      ]
     },
     "execution_count": 26,
     "metadata": {},
     "output_type": "execute_result"
    }
   ],
   "source": [
    "takeActionF_8p(startState, 'down')\n",
    "# 0 move down from the puzzle map\n",
    "# from (0, 1) to (1, 1) = (index)4"
   ]
  },
  {
   "cell_type": "code",
   "execution_count": 27,
   "metadata": {
    "collapsed": false
   },
   "outputs": [
    {
     "name": "stdout",
     "output_type": "stream",
     "text": [
      "1 2 3 \n",
      "4   5 \n",
      "6 7 8 \n"
     ]
    }
   ],
   "source": [
    "printState_8p(takeActionF_8p(startState, 'down'))"
   ]
  },
  {
   "cell_type": "code",
   "execution_count": 28,
   "metadata": {
    "collapsed": true
   },
   "outputs": [],
   "source": [
    "goalState = takeActionF_8p(startState, 'down')\n",
    "# set goalState to be [1, 2, 3, 4, 0, 5, 6, 7, 8]"
   ]
  },
  {
   "cell_type": "code",
   "execution_count": 29,
   "metadata": {
    "collapsed": true
   },
   "outputs": [],
   "source": [
    "newState = takeActionF_8p(startState, 'down')\n",
    "# set a newState to be [1, 2, 3, 4, 0, 5, 6, 7, 8]"
   ]
  },
  {
   "cell_type": "code",
   "execution_count": 30,
   "metadata": {
    "collapsed": false
   },
   "outputs": [
    {
     "data": {
      "text/plain": [
       "True"
      ]
     },
     "execution_count": 30,
     "metadata": {},
     "output_type": "execute_result"
    }
   ],
   "source": [
    "newState == goalState\n",
    "# check equal"
   ]
  },
  {
   "cell_type": "code",
   "execution_count": 31,
   "metadata": {
    "collapsed": false
   },
   "outputs": [
    {
     "data": {
      "text/plain": [
       "[1, 0, 3, 4, 2, 5, 6, 7, 8]"
      ]
     },
     "execution_count": 31,
     "metadata": {},
     "output_type": "execute_result"
    }
   ],
   "source": [
    "startState"
   ]
  },
  {
   "cell_type": "code",
   "execution_count": 32,
   "metadata": {
    "collapsed": false,
    "scrolled": true
   },
   "outputs": [
    {
     "data": {
      "text/plain": [
       "[[0, 1, 3, 4, 2, 5, 6, 7, 8],\n",
       " [1, 0, 3, 4, 2, 5, 6, 7, 8],\n",
       " [1, 2, 3, 4, 0, 5, 6, 7, 8]]"
      ]
     },
     "execution_count": 32,
     "metadata": {},
     "output_type": "execute_result"
    }
   ],
   "source": [
    "path = depthLimitedSearch(startState, goalState, actionsF_8p, takeActionF_8p, 3)\n",
    "# searching a path from startState [1, 0, 3, 4, 2, 5, 6, 7, 8] to goalState [1, 2, 3, 4, 0, 5, 6, 7, 8] \n",
    "# within 3 steps dfs\n",
    "# then print the path as a list\n",
    "path\n",
    "# the result is because by default, \n",
    "# we move left first, which continues dfs (left -> right -> down) and finds goalstate within 3 steps\n",
    "# before we consider the down action for the startState."
   ]
  },
  {
   "cell_type": "markdown",
   "metadata": {},
   "source": [
    "Notice that `depthLimitedSearch` result is **missing the start state**.  This is inserted by `iterativeDeepeningSearch`.\n",
    "\n",
    "But, when we try `iterativeDeepeningSearch` to do the same search, it finds a shorter path!"
   ]
  },
  {
   "cell_type": "code",
   "execution_count": 33,
   "metadata": {
    "collapsed": false,
    "scrolled": true
   },
   "outputs": [
    {
     "data": {
      "text/plain": [
       "[[1, 0, 3, 4, 2, 5, 6, 7, 8], [1, 2, 3, 4, 0, 5, 6, 7, 8]]"
      ]
     },
     "execution_count": 33,
     "metadata": {},
     "output_type": "execute_result"
    }
   ],
   "source": [
    "path = iterativeDeepeningSearch(startState, goalState, actionsF_8p, takeActionF_8p, 3)\n",
    "# iterativeDeepeningSearch gives a shorter path because it consider smaller depth first\n",
    "# and then larger depth, which guarantee the resulting path is the smallest\n",
    "path"
   ]
  },
  {
   "cell_type": "markdown",
   "metadata": {},
   "source": [
    "Also notice that the successor states are lists, not tuples.  This is okay, because the search functions for this assignment do not"
   ]
  },
  {
   "cell_type": "code",
   "execution_count": 34,
   "metadata": {
    "collapsed": false
   },
   "outputs": [
    {
     "data": {
      "text/plain": [
       "'cutoff'"
      ]
     },
     "execution_count": 34,
     "metadata": {},
     "output_type": "execute_result"
    }
   ],
   "source": [
    "startState = [4, 7, 2, 1, 6, 5, 0, 3, 8]\n",
    "path = iterativeDeepeningSearch(startState, goalState, actionsF_8p, takeActionF_8p, 3)\n",
    "path\n",
    "# there is no way for [4, 7, 2, 1, 6, 5, 0, 3, 8] to reach [1, 2, 3, 4, 0, 5, 6, 7, 8] within 3 steps"
   ]
  },
  {
   "cell_type": "code",
   "execution_count": 35,
   "metadata": {
    "collapsed": false
   },
   "outputs": [
    {
     "data": {
      "text/plain": [
       "'cutoff'"
      ]
     },
     "execution_count": 35,
     "metadata": {},
     "output_type": "execute_result"
    }
   ],
   "source": [
    "startState = [4, 7, 2, 1, 6, 5, 0, 3, 8]\n",
    "path = iterativeDeepeningSearch(startState, goalState, actionsF_8p, takeActionF_8p, 5)\n",
    "path\n",
    "# there is no way for [4, 7, 2, 1, 6, 5, 0, 3, 8] to reach [1, 2, 3, 4, 0, 5, 6, 7, 8] within 5 steps"
   ]
  },
  {
   "cell_type": "markdown",
   "metadata": {},
   "source": [
    "Humm...maybe we can't reach the goal state from this state.  We need a way to randomly generate a valid start state."
   ]
  },
  {
   "cell_type": "code",
   "execution_count": 36,
   "metadata": {
    "collapsed": true
   },
   "outputs": [],
   "source": [
    "import random"
   ]
  },
  {
   "cell_type": "code",
   "execution_count": 37,
   "metadata": {
    "collapsed": false
   },
   "outputs": [
    {
     "data": {
      "text/plain": [
       "'left'"
      ]
     },
     "execution_count": 37,
     "metadata": {},
     "output_type": "execute_result"
    }
   ],
   "source": [
    "random.choice(['left', 'right'])"
   ]
  },
  {
   "cell_type": "code",
   "execution_count": 38,
   "metadata": {
    "collapsed": true
   },
   "outputs": [],
   "source": [
    "# randomStartState(goalState, actionsF, takeActionF, nSteps)\n",
    "# the way we generate a startState is\n",
    "# take goalState as startState and find any valid endState within 10 steps\n",
    "# that ensure the path to endState is invertible\n",
    "# and then inversely, take return endState as a valid startState\n",
    "def randomStartState(goalState, actionsF, takeActionF, nSteps):\n",
    "    state = goalState\n",
    "    for i in range(nSteps):\n",
    "        state = takeActionF(state, random.choice(actionsF(state)))\n",
    "    return state"
   ]
  },
  {
   "cell_type": "code",
   "execution_count": 39,
   "metadata": {
    "collapsed": false
   },
   "outputs": [
    {
     "data": {
      "text/plain": [
       "[1, 2, 3, 4, 0, 5, 6, 7, 8]"
      ]
     },
     "execution_count": 39,
     "metadata": {},
     "output_type": "execute_result"
    }
   ],
   "source": [
    "startState = randomStartState(goalState, actionsF_8p, takeActionF_8p, 10)\n",
    "startState"
   ]
  },
  {
   "cell_type": "code",
   "execution_count": 40,
   "metadata": {
    "collapsed": false
   },
   "outputs": [
    {
     "data": {
      "text/plain": [
       "[[1, 2, 3, 4, 0, 5, 6, 7, 8]]"
      ]
     },
     "execution_count": 40,
     "metadata": {},
     "output_type": "execute_result"
    }
   ],
   "source": [
    "path = iterativeDeepeningSearch(startState, goalState, actionsF_8p, takeActionF_8p, 20)\n",
    "path\n",
    "# iterativeDeepeningSearch for a path from within 20 steps"
   ]
  },
  {
   "cell_type": "markdown",
   "metadata": {},
   "source": [
    "Let's print out the state sequence in a readable form."
   ]
  },
  {
   "cell_type": "code",
   "execution_count": 41,
   "metadata": {
    "collapsed": false
   },
   "outputs": [
    {
     "name": "stdout",
     "output_type": "stream",
     "text": [
      "1 2 3 \n",
      "4   5 \n",
      "6 7 8 \n",
      "\n"
     ]
    }
   ],
   "source": [
    "for p in path:\n",
    "    printState_8p(p)\n",
    "    print()"
   ]
  },
  {
   "cell_type": "markdown",
   "metadata": {},
   "source": [
    "Here is one way to format the search problem and solution in a readable form."
   ]
  },
  {
   "cell_type": "code",
   "execution_count": 42,
   "metadata": {
    "collapsed": false
   },
   "outputs": [
    {
     "name": "stdout",
     "output_type": "stream",
     "text": [
      "Path from\n",
      "1 2 3 \n",
      "4   5 \n",
      "6 7 8 \n",
      "  to\n",
      "1 2 3 \n",
      "4   5 \n",
      "6 7 8 \n",
      "is 1 nodes long:\n",
      "1 2 3 \n",
      "4   5 \n",
      "6 7 8 \n",
      "\n"
     ]
    }
   ],
   "source": [
    "printPath_8p(startState, goalState, path)"
   ]
  },
  {
   "cell_type": "code",
   "execution_count": 43,
   "metadata": {
    "collapsed": false
   },
   "outputs": [
    {
     "data": {
      "text/plain": [
       "'cutoff'"
      ]
     },
     "execution_count": 43,
     "metadata": {},
     "output_type": "execute_result"
    }
   ],
   "source": [
    "startState = [1, 2, 4, 7, 0, 5, 6, 8, 3]\n",
    "goalState =  [1, 2, 3, 4, 5, 6, 7, 8, 0]\n",
    "path = iterativeDeepeningSearch(startState, goalState, actionsF_8p, takeActionF_8p, 15)\n",
    "path"
   ]
  },
  {
   "cell_type": "markdown",
   "metadata": {},
   "source": [
    "Download [A2grader.tar](A2grader.tar) and extract A2grader.py from it."
   ]
  },
  {
   "cell_type": "code",
   "execution_count": 44,
   "metadata": {
    "collapsed": false,
    "scrolled": false
   },
   "outputs": [
    {
     "name": "stdout",
     "output_type": "stream",
     "text": [
      "\n",
      "Searching this graph:\n",
      " {'a': ['b', 'z', 'd'], 'b': ['a'], 'e': ['z'], 'd': ['y'], 'y': ['z']}\n",
      "\n",
      "Looking for path from a to y with max depth of 1.\n",
      " 5/ 5 points. Your search correctly returned cutoff\n",
      "\n",
      "Looking for path from a to z with max depth of 5.\n",
      "10/10 points. Your search correctly returned ['a', 'z']\n",
      "\n",
      "Testing findBlank_8p([1, 2, 3, 4, 5, 6, 7, 0, 8])\n",
      " 5/ 5 points. Your findBlank_8p correctly returned 2 1\n",
      "\n",
      "Testing actionsF_8p([1, 2, 3, 4, 5, 6, 7, 0, 8])\n",
      "10/10 points. Your actionsF_8p correctly returned ['left', 'right', 'up']\n",
      "\n",
      "Testing takeActionF_8p([1, 2, 3, 4, 5, 6, 7, 0, 8],up)\n",
      "10/10 points. Your takeActionsF_8p correctly returned [1, 2, 3, 4, 0, 6, 7, 5, 8]\n",
      "\n",
      "Testing iterativeDeepeningSearch([1, 2, 3, 4, 5, 6, 7, 0, 8],[0, 2, 3, 1, 4,  6, 7, 5, 8], actionsF_8p, takeActionF_8p, 5)\n",
      "20/20 points. Your search correctly returned [[1, 2, 3, 4, 5, 6, 7, 0, 8], [1, 2, 3, 4, 0, 6, 7, 5, 8], [1, 2, 3, 0, 4, 6, 7, 5, 8], [0, 2, 3, 1, 4, 6, 7, 5, 8]]\n",
      "\n",
      "Testing iterativeDeepeningSearch([5, 2, 8, 0, 1, 4, 3, 7, 6], [0, 2, 3, 1, 4,  6, 7, 5, 8], actionsF_8p, takeActionF_8p, 10)\n",
      "20/20 points. Your search correctly returned cutoff\n",
      "\n",
      "A2 Grade is 80/80\n",
      "Up to 20 more points will be given based on the qualty of your descriptions of the method and the results.\n"
     ]
    }
   ],
   "source": [
    "%run -i A2graderfinal.py"
   ]
  }
 ],
 "metadata": {
  "anaconda-cloud": {},
  "kernelspec": {
   "display_name": "Python 3",
   "language": "python",
   "name": "python3"
  },
  "language_info": {
   "codemirror_mode": {
    "name": "ipython",
    "version": 3
   },
   "file_extension": ".py",
   "mimetype": "text/x-python",
   "name": "python",
   "nbconvert_exporter": "python",
   "pygments_lexer": "ipython3",
   "version": "3.6.0"
  }
 },
 "nbformat": 4,
 "nbformat_minor": 1
}
