{
 "cells": [
  {
   "cell_type": "markdown",
   "metadata": {},
   "source": [
    "# Assignment 4: Classification with QDA, LDA, and Logistic Regression"
   ]
  },
  {
   "cell_type": "markdown",
   "metadata": {},
   "source": [
    "Jim Xu"
   ]
  },
  {
   "cell_type": "markdown",
   "metadata": {},
   "source": [
    "## Overview"
   ]
  },
  {
   "cell_type": "markdown",
   "metadata": {},
   "source": [
    "In this assignment, you will make a new version of your ```NeuralNetwork``` class called ```NeuralNetworkClassifier```. You will then apply ```QDA```, ```LDA``` and your ```NeuralNetworkClassifier``` to a classification problem and discuss the results.  The ```tanh``` function will be used as the activation function for ```NeuralNetworkClassifier```."
   ]
  },
  {
   "cell_type": "markdown",
   "metadata": {},
   "source": [
    "### NeuralNetworkClassifier"
   ]
  },
  {
   "cell_type": "markdown",
   "metadata": {},
   "source": [
    "Extends `NeuralNetwork` and rewrite the following methods:\n",
    "```\n",
    "class NeuralNetworkClassifier(NeuralNetwork):\n",
    "\n",
    "    def _multinomialize(self, Y):\n",
    "       \n",
    "    def _objectiveF(self, w, X, Tindicators):\n",
    "    \n",
    "    def _gradientF(self, w, X, Tindicators):\n",
    "        \n",
    "    def train(self, X, T, nIterations=100, verbose=False,\n",
    "              weightPrecision=0, errorPrecision=0, saveWeightsHistory=False):\n",
    "\n",
    "    def use(self, X, allOutputs=False):\n",
    "```"
   ]
  },
  {
   "cell_type": "code",
   "execution_count": 1,
   "metadata": {
    "collapsed": true
   },
   "outputs": [],
   "source": [
    "import numpy as np\n",
    "import neuralnetworksA4 as nn"
   ]
  },
  {
   "cell_type": "code",
   "execution_count": 2,
   "metadata": {
    "collapsed": true
   },
   "outputs": [],
   "source": [
    "X = np.arange(10).reshape((-1, 1))\n",
    "T = np.array([1]*5 + [2]*5).reshape((-1, 1))"
   ]
  },
  {
   "cell_type": "code",
   "execution_count": 3,
   "metadata": {
    "collapsed": false
   },
   "outputs": [
    {
     "name": "stdout",
     "output_type": "stream",
     "text": [
      "NeuralNetwork(1, [5, 5], 2)\n",
      "   Network was trained for 21 iterations that took 0.0079 seconds. Final error is 0.0006412486109161482.\n",
      "T, Predicted\n",
      "[[1 1]\n",
      " [1 1]\n",
      " [1 1]\n",
      " [1 1]\n",
      " [1 1]\n",
      " [2 2]\n",
      " [2 2]\n",
      " [2 2]\n",
      " [2 2]\n",
      " [2 2]]\n"
     ]
    }
   ],
   "source": [
    "netc = nn.NeuralNetworkClassifier(X.shape[1], [5, 5], len(np.unique(T)))\n",
    "netc.train(X, T, 20)\n",
    "print(netc)\n",
    "print('T, Predicted')\n",
    "print(np.hstack((T, netc.use(X))))"
   ]
  },
  {
   "cell_type": "markdown",
   "metadata": {},
   "source": [
    "## ```partition``` function"
   ]
  },
  {
   "cell_type": "markdown",
   "metadata": {},
   "source": [
    "Add the keyword parameter ```classification``` with a default value of ```False``` to your ```partition``` function.  When its value is set to ```True``` the ```partition``` function perform a stratified partitioning."
   ]
  },
  {
   "cell_type": "code",
   "execution_count": 4,
   "metadata": {
    "collapsed": true
   },
   "outputs": [],
   "source": [
    "import mlutilities as ml\n",
    "Xtrain, Ttrain, Xtest, Ttest = ml.partition(X, T, 0.6, shuffle=False, classification=True)"
   ]
  },
  {
   "cell_type": "code",
   "execution_count": 5,
   "metadata": {
    "collapsed": false
   },
   "outputs": [
    {
     "data": {
      "text/plain": [
       "array([[0],\n",
       "       [1],\n",
       "       [2],\n",
       "       [5],\n",
       "       [6],\n",
       "       [7]])"
      ]
     },
     "execution_count": 5,
     "metadata": {},
     "output_type": "execute_result"
    }
   ],
   "source": [
    "Xtrain"
   ]
  },
  {
   "cell_type": "code",
   "execution_count": 6,
   "metadata": {
    "collapsed": false
   },
   "outputs": [
    {
     "data": {
      "text/plain": [
       "array([[1],\n",
       "       [1],\n",
       "       [1],\n",
       "       [2],\n",
       "       [2],\n",
       "       [2]])"
      ]
     },
     "execution_count": 6,
     "metadata": {},
     "output_type": "execute_result"
    }
   ],
   "source": [
    "Ttrain"
   ]
  },
  {
   "cell_type": "code",
   "execution_count": 7,
   "metadata": {
    "collapsed": false
   },
   "outputs": [
    {
     "data": {
      "text/plain": [
       "array([[3],\n",
       "       [4],\n",
       "       [8],\n",
       "       [9]])"
      ]
     },
     "execution_count": 7,
     "metadata": {},
     "output_type": "execute_result"
    }
   ],
   "source": [
    "Xtest"
   ]
  },
  {
   "cell_type": "code",
   "execution_count": 8,
   "metadata": {
    "collapsed": false
   },
   "outputs": [
    {
     "data": {
      "text/plain": [
       "array([[1],\n",
       "       [1],\n",
       "       [2],\n",
       "       [2]])"
      ]
     },
     "execution_count": 8,
     "metadata": {},
     "output_type": "execute_result"
    }
   ],
   "source": [
    "Ttest"
   ]
  },
  {
   "cell_type": "markdown",
   "metadata": {},
   "source": [
    "## Printing a confusion matrix"
   ]
  },
  {
   "cell_type": "markdown",
   "metadata": {},
   "source": [
    "### Example with toy data"
   ]
  },
  {
   "cell_type": "markdown",
   "metadata": {},
   "source": [
    "Use the above data to compare QDA, LDA, and linear and nonlinear logistic regression."
   ]
  },
  {
   "cell_type": "code",
   "execution_count": 9,
   "metadata": {
    "collapsed": true
   },
   "outputs": [],
   "source": [
    "import qdalda\n",
    "qda = qdalda.QDA()\n",
    "qda.train(Xtrain, Ttrain)\n",
    "Ytrain = qda.use(Xtrain)\n",
    "Ytest = qda.use(Xtest)"
   ]
  },
  {
   "cell_type": "code",
   "execution_count": 10,
   "metadata": {
    "collapsed": false
   },
   "outputs": [
    {
     "name": "stdout",
     "output_type": "stream",
     "text": [
      "[[1 1]\n",
      " [1 1]\n",
      " [1 1]\n",
      " [2 2]\n",
      " [2 2]\n",
      " [2 2]]\n"
     ]
    }
   ],
   "source": [
    "print(np.hstack((Ttrain, Ytrain)))"
   ]
  },
  {
   "cell_type": "code",
   "execution_count": 11,
   "metadata": {
    "collapsed": false
   },
   "outputs": [
    {
     "data": {
      "text/plain": [
       "100.0"
      ]
     },
     "execution_count": 11,
     "metadata": {},
     "output_type": "execute_result"
    }
   ],
   "source": [
    "np.sum(Ttrain == Ytrain) / len(Ttrain) * 100"
   ]
  },
  {
   "cell_type": "code",
   "execution_count": 12,
   "metadata": {
    "collapsed": false
   },
   "outputs": [
    {
     "name": "stdout",
     "output_type": "stream",
     "text": [
      "[[1 1]\n",
      " [1 2]\n",
      " [2 2]\n",
      " [2 2]]\n"
     ]
    }
   ],
   "source": [
    "print(np.hstack((Ttest, Ytest)))"
   ]
  },
  {
   "cell_type": "code",
   "execution_count": 13,
   "metadata": {
    "collapsed": false
   },
   "outputs": [
    {
     "data": {
      "text/plain": [
       "75.0"
      ]
     },
     "execution_count": 13,
     "metadata": {},
     "output_type": "execute_result"
    }
   ],
   "source": [
    "np.sum(Ttest == Ytest) / len(Ttest) * 100"
   ]
  },
  {
   "cell_type": "code",
   "execution_count": 14,
   "metadata": {
    "collapsed": true
   },
   "outputs": [],
   "source": [
    "lda = qdalda.LDA()\n",
    "lda.train(Xtrain, Ttrain)\n",
    "Ytrain = lda.use(Xtrain)\n",
    "Ytest = lda.use(Xtest)"
   ]
  },
  {
   "cell_type": "code",
   "execution_count": 15,
   "metadata": {
    "collapsed": false
   },
   "outputs": [
    {
     "name": "stdout",
     "output_type": "stream",
     "text": [
      "[[1 1]\n",
      " [1 1]\n",
      " [1 1]\n",
      " [2 2]\n",
      " [2 2]\n",
      " [2 2]]\n"
     ]
    }
   ],
   "source": [
    "print(np.hstack((Ttrain, Ytrain)))"
   ]
  },
  {
   "cell_type": "code",
   "execution_count": 16,
   "metadata": {
    "collapsed": false
   },
   "outputs": [
    {
     "name": "stdout",
     "output_type": "stream",
     "text": [
      "[[1 1]\n",
      " [1 2]\n",
      " [2 2]\n",
      " [2 2]]\n"
     ]
    }
   ],
   "source": [
    "print(np.hstack((Ttest, Ytest)))"
   ]
  },
  {
   "cell_type": "code",
   "execution_count": 17,
   "metadata": {
    "collapsed": false
   },
   "outputs": [
    {
     "data": {
      "text/plain": [
       "100.0"
      ]
     },
     "execution_count": 17,
     "metadata": {},
     "output_type": "execute_result"
    }
   ],
   "source": [
    "np.sum(Ttrain == Ytrain) / len(Ttrain) * 100"
   ]
  },
  {
   "cell_type": "code",
   "execution_count": 18,
   "metadata": {
    "collapsed": false
   },
   "outputs": [
    {
     "data": {
      "text/plain": [
       "75.0"
      ]
     },
     "execution_count": 18,
     "metadata": {},
     "output_type": "execute_result"
    }
   ],
   "source": [
    "np.sum(Ttest == Ytest) / len(Ttest) * 100"
   ]
  },
  {
   "cell_type": "code",
   "execution_count": 19,
   "metadata": {
    "collapsed": false
   },
   "outputs": [
    {
     "name": "stdout",
     "output_type": "stream",
     "text": [
      "       1    2\n",
      "    ------------\n",
      " 1 |100.0  0  \n",
      " 2 |  0  100.0\n"
     ]
    }
   ],
   "source": [
    "ml.confusionMatrix(Ttrain, Ytrain, [1, 2]);"
   ]
  },
  {
   "cell_type": "code",
   "execution_count": 20,
   "metadata": {
    "collapsed": false
   },
   "outputs": [
    {
     "name": "stdout",
     "output_type": "stream",
     "text": [
      "       1    2\n",
      "    ------------\n",
      " 1 | 50.0 50.0\n",
      " 2 |  0  100.0\n"
     ]
    }
   ],
   "source": [
    "ml.confusionMatrix(Ttest, Ytest, [1, 2]);"
   ]
  },
  {
   "cell_type": "code",
   "execution_count": 21,
   "metadata": {
    "collapsed": false
   },
   "outputs": [
    {
     "name": "stdout",
     "output_type": "stream",
     "text": [
      "NeuralNetwork(1, [5, 5], 2)\n",
      "   Network was trained for 101 iterations that took 0.0372 seconds. Final error is -0.0.\n",
      "T, Predicted\n"
     ]
    }
   ],
   "source": [
    "netc = nn.NeuralNetworkClassifier(X.shape[1], [5, 5], len(np.unique(T)))\n",
    "netc.train(Xtrain, Ttrain, 100)\n",
    "print(netc)\n",
    "print('T, Predicted')\n",
    "Ytrain = netc.use(Xtrain)\n",
    "Ytest = netc.use(Xtest)"
   ]
  },
  {
   "cell_type": "code",
   "execution_count": 22,
   "metadata": {
    "collapsed": false
   },
   "outputs": [
    {
     "name": "stdout",
     "output_type": "stream",
     "text": [
      "[[1 1]\n",
      " [1 1]\n",
      " [1 1]\n",
      " [2 2]\n",
      " [2 2]\n",
      " [2 2]]\n"
     ]
    }
   ],
   "source": [
    "print(np.hstack((Ttrain, Ytrain)))"
   ]
  },
  {
   "cell_type": "code",
   "execution_count": 23,
   "metadata": {
    "collapsed": false
   },
   "outputs": [
    {
     "name": "stdout",
     "output_type": "stream",
     "text": [
      "[[1 1]\n",
      " [1 2]\n",
      " [2 2]\n",
      " [2 2]]\n"
     ]
    }
   ],
   "source": [
    "print(np.hstack((Ttest, Ytest)))"
   ]
  },
  {
   "cell_type": "code",
   "execution_count": 24,
   "metadata": {
    "collapsed": false
   },
   "outputs": [
    {
     "data": {
      "text/plain": [
       "100.0"
      ]
     },
     "execution_count": 24,
     "metadata": {},
     "output_type": "execute_result"
    }
   ],
   "source": [
    "np.sum(Ttrain == Ytrain) / len(Ttrain) * 100"
   ]
  },
  {
   "cell_type": "code",
   "execution_count": 25,
   "metadata": {
    "collapsed": false
   },
   "outputs": [
    {
     "data": {
      "text/plain": [
       "75.0"
      ]
     },
     "execution_count": 25,
     "metadata": {},
     "output_type": "execute_result"
    }
   ],
   "source": [
    "np.sum(Ttest == Ytest) / len(Ttest) * 100"
   ]
  },
  {
   "cell_type": "code",
   "execution_count": 26,
   "metadata": {
    "collapsed": false
   },
   "outputs": [
    {
     "name": "stdout",
     "output_type": "stream",
     "text": [
      "       1    2\n",
      "    ------------\n",
      " 1 |100.0  0  \n",
      " 2 |  0  100.0\n"
     ]
    }
   ],
   "source": [
    "ml.confusionMatrix(Ttrain, Ytrain, [1, 2]);"
   ]
  },
  {
   "cell_type": "code",
   "execution_count": 27,
   "metadata": {
    "collapsed": false
   },
   "outputs": [
    {
     "name": "stdout",
     "output_type": "stream",
     "text": [
      "       1    2\n",
      "    ------------\n",
      " 1 | 50.0 50.0\n",
      " 2 |  0  100.0\n"
     ]
    }
   ],
   "source": [
    "ml.confusionMatrix(Ttest, Ytest, [1, 2]);"
   ]
  },
  {
   "cell_type": "markdown",
   "metadata": {},
   "source": [
    "Remember that linear logistic regression can be applied by specifying 0 hidden units."
   ]
  },
  {
   "cell_type": "code",
   "execution_count": 28,
   "metadata": {
    "collapsed": false
   },
   "outputs": [
    {
     "name": "stdout",
     "output_type": "stream",
     "text": [
      "NeuralNetwork(1, [], 2)\n",
      "   Network was trained for 101 iterations that took 0.0176 seconds. Final error is 1.3164159347653214e-05.\n",
      "T, Predicted\n"
     ]
    }
   ],
   "source": [
    "netc = nn.NeuralNetworkClassifier(X.shape[1], 0, len(np.unique(T)))\n",
    "netc.train(Xtrain, Ttrain, 100)\n",
    "print(netc)\n",
    "print('T, Predicted')\n",
    "Ytrain = netc.use(Xtrain)\n",
    "Ytest = netc.use(Xtest)"
   ]
  },
  {
   "cell_type": "code",
   "execution_count": 29,
   "metadata": {
    "collapsed": false
   },
   "outputs": [
    {
     "name": "stdout",
     "output_type": "stream",
     "text": [
      "       1    2\n",
      "    ------------\n",
      " 1 |100.0  0  \n",
      " 2 |  0  100.0\n"
     ]
    }
   ],
   "source": [
    "ml.confusionMatrix(Ttrain, Ytrain, [1, 2]);"
   ]
  },
  {
   "cell_type": "code",
   "execution_count": 30,
   "metadata": {
    "collapsed": false
   },
   "outputs": [
    {
     "name": "stdout",
     "output_type": "stream",
     "text": [
      "       1    2\n",
      "    ------------\n",
      " 1 | 50.0 50.0\n",
      " 2 |  0  100.0\n"
     ]
    }
   ],
   "source": [
    "ml.confusionMatrix(Ttest, Ytest, [1, 2]);"
   ]
  },
  {
   "cell_type": "markdown",
   "metadata": {},
   "source": [
    "## Apply to data from orthopedic patients"
   ]
  },
  {
   "cell_type": "markdown",
   "metadata": {},
   "source": [
    "Download ```column_3C_weka.csv``` from [Kaggle site](https://www.kaggle.com/uciml/biomechanical-features-of-orthopedic-patients).  "
   ]
  },
  {
   "cell_type": "markdown",
   "metadata": {},
   "source": [
    "- pelvic_incidence\n",
    "- pelvic_tilt\n",
    "- lumbar_lordosis_angle\n",
    "- sacral_slope\n",
    "- pelvic_radius\n",
    "- degree_spondylolisthesis\n",
    "- class\n",
    "\n",
    "The first two lines of the dataset looks like:\n",
    "`\n",
    "pelvic_incidence,pelvic_tilt,lumbar_lordosis_angle,sacral_slope,pelvic_radius,degree_spondylolisthesis,class\n",
    "63.0278175,22.55258597,39.60911701,40.47523153,98.67291675,-0.254399986,Hernia\n",
    "39.05695098,10.06099147,25.01537822,28.99595951,114.4054254,4.564258645,Hernia\n",
    "`"
   ]
  },
  {
   "cell_type": "markdown",
   "metadata": {},
   "source": [
    "Use the column named ```class``` to create target class labels. Apply QDA, LDA, linear logistic regression, and nonlinear logistic regression to this data. Experiment with different hidden layer structures and numbers of iterations and discuss their performance."
   ]
  },
  {
   "cell_type": "code",
   "execution_count": 31,
   "metadata": {
    "collapsed": true
   },
   "outputs": [],
   "source": [
    "import pandas as pd\n",
    "import mlutilities as ml\n",
    "import qdalda\n",
    "import matplotlib.pyplot as plt\n",
    "%matplotlib inline"
   ]
  },
  {
   "cell_type": "code",
   "execution_count": 32,
   "metadata": {
    "collapsed": true
   },
   "outputs": [],
   "source": [
    "data = pd.read_csv('column_3C_weka.csv')"
   ]
  },
  {
   "cell_type": "code",
   "execution_count": 33,
   "metadata": {
    "collapsed": false,
    "scrolled": true
   },
   "outputs": [
    {
     "data": {
      "text/plain": [
       "array(['Hernia', 'Spondylolisthesis', 'Normal'], dtype=object)"
      ]
     },
     "execution_count": 33,
     "metadata": {},
     "output_type": "execute_result"
    }
   ],
   "source": [
    "data['class'].unique()"
   ]
  },
  {
   "cell_type": "code",
   "execution_count": 34,
   "metadata": {
    "collapsed": true
   },
   "outputs": [],
   "source": [
    "targetMapping = {'Hernia':1, 'Normal':2, 'Spondylolisthesis':3}"
   ]
  },
  {
   "cell_type": "code",
   "execution_count": 35,
   "metadata": {
    "collapsed": false
   },
   "outputs": [
    {
     "data": {
      "text/plain": [
       "((310, 7), numpy.ndarray)"
      ]
     },
     "execution_count": 35,
     "metadata": {},
     "output_type": "execute_result"
    }
   ],
   "source": [
    "data['class'] = data['class'].map(targetMapping)\n",
    "data = data.as_matrix()\n",
    "data.shape, type(data)"
   ]
  },
  {
   "cell_type": "code",
   "execution_count": 36,
   "metadata": {
    "collapsed": false
   },
   "outputs": [
    {
     "data": {
      "text/plain": [
       "array([ 1.,  2.,  3.])"
      ]
     },
     "execution_count": 36,
     "metadata": {},
     "output_type": "execute_result"
    }
   ],
   "source": [
    "np.unique(data[:,6].reshape((-1,1)))"
   ]
  },
  {
   "cell_type": "code",
   "execution_count": 37,
   "metadata": {
    "collapsed": false
   },
   "outputs": [
    {
     "data": {
      "text/plain": [
       "((310, 6), (310, 1))"
      ]
     },
     "execution_count": 37,
     "metadata": {},
     "output_type": "execute_result"
    }
   ],
   "source": [
    "T = data[:,6].reshape((-1,1))\n",
    "X = data[:,:6].astype(float)\n",
    "X.shape, T.shape"
   ]
  },
  {
   "cell_type": "code",
   "execution_count": 38,
   "metadata": {
    "collapsed": false
   },
   "outputs": [
    {
     "data": {
      "text/plain": [
       "((248, 6), (248, 1), (62, 6), (62, 1))"
      ]
     },
     "execution_count": 38,
     "metadata": {},
     "output_type": "execute_result"
    }
   ],
   "source": [
    "Xtrain, Ttrain, Xtest, Ttest = ml.partition(X, T, 0.8, shuffle=True, classification=True)\n",
    "Xtrain.shape, Ttrain.shape, Xtest.shape, Ttest.shape"
   ]
  },
  {
   "cell_type": "code",
   "execution_count": 39,
   "metadata": {
    "collapsed": true
   },
   "outputs": [],
   "source": [
    "hls = [0, [1], [5], [10], [1,1], [5,5], [10,10], [1,1,1,1,1], [5,5,5,5,5], [10,10,10,10,10]]\n",
    "nIterations = [10, 100, 200, 500, 1000]\n",
    "percentages = []\n",
    "for i, hl in enumerate(hls):\n",
    "    for j, nIter in enumerate(nIterations):\n",
    "        Xtrain, Ttrain, Xtest, Ttest = ml.partition(X, T, 0.8, shuffle=True, classification=True)\n",
    "        netc = nn.NeuralNetworkClassifier(X.shape[1], hl, len(np.unique(T)))\n",
    "        netc.train(Xtrain, Ttrain, nIter)\n",
    "        Ytrain = netc.use(Xtrain)\n",
    "        Ytest = netc.use(Xtest)\n",
    "        percentages.append([hl, nIter] + [np.sum(Ttrain == Ytrain) / len(Ttrain) * 100, np.sum(Ttest == Ytest) / len(Ttest) * 100])"
   ]
  },
  {
   "cell_type": "code",
   "execution_count": 40,
   "metadata": {
    "collapsed": true
   },
   "outputs": [],
   "source": [
    "Xtrain, Ttrain, Xtest, Ttest = ml.partition(X, T, 0.8, shuffle=True, classification=True)\n",
    "qda = qdalda.QDA()\n",
    "qda.train(Xtrain, Ttrain)\n",
    "Ytrain = qda.use(Xtrain)\n",
    "Ytest = qda.use(Xtest)\n",
    "percentages.append(['neural network classifiers', 'QDA'] + [np.sum(Ttrain == Ytrain) / len(Ttrain) * 100, np.sum(Ttest == Ytest) / len(Ttest) * 100])"
   ]
  },
  {
   "cell_type": "code",
   "execution_count": 41,
   "metadata": {
    "collapsed": true
   },
   "outputs": [],
   "source": [
    "Xtrain, Ttrain, Xtest, Ttest = ml.partition(X, T, 0.8, shuffle=True, classification=True)\n",
    "lda = qdalda.LDA()\n",
    "lda.train(Xtrain, Ttrain)\n",
    "Ytrain = lda.use(Xtrain)\n",
    "Ytest = lda.use(Xtest)\n",
    "percentages.append(['neural network classifiers', 'LDA'] + [np.sum(Ttrain == Ytrain) / len(Ttrain) * 100, np.sum(Ttest == Ytest) / len(Ttest) * 100])"
   ]
  },
  {
   "cell_type": "code",
   "execution_count": 42,
   "metadata": {
    "collapsed": false
   },
   "outputs": [
    {
     "name": "stdout",
     "output_type": "stream",
     "text": [
      "                             0     1           2          3\n",
      "0                            0    10   85.080645  88.709677\n",
      "1                            0   100   85.887097  87.096774\n",
      "2                            0   200   86.290323  77.419355\n",
      "3                            0   500   88.306452  83.870968\n",
      "4                            0  1000   86.290323  82.258065\n",
      "5                          [1]    10   61.693548  64.516129\n",
      "6                          [1]   100   79.032258  77.419355\n",
      "7                          [1]   200   81.451613  82.258065\n",
      "8                          [1]   500   81.048387  74.193548\n",
      "9                          [1]  1000   81.048387  80.645161\n",
      "10                         [5]    10   88.709677  85.483871\n",
      "11                         [5]   100   93.548387  87.096774\n",
      "12                         [5]   200   92.741935  83.870968\n",
      "13                         [5]   500   91.935484  83.870968\n",
      "14                         [5]  1000   94.354839  79.032258\n",
      "15                        [10]    10   88.306452  88.709677\n",
      "16                        [10]   100   95.564516  75.806452\n",
      "17                        [10]   200   99.596774  82.258065\n",
      "18                        [10]   500   97.580645  79.032258\n",
      "19                        [10]  1000   99.596774  75.806452\n",
      "20                      [1, 1]    10   77.822581  79.032258\n",
      "21                      [1, 1]   100   80.241935  82.258065\n",
      "22                      [1, 1]   200   80.645161  77.419355\n",
      "23                      [1, 1]   500   81.048387  79.032258\n",
      "24                      [1, 1]  1000   79.032258  77.419355\n",
      "25                      [5, 5]    10   86.290323  90.322581\n",
      "26                      [5, 5]   100   91.935484  93.548387\n",
      "27                      [5, 5]   200   93.951613  91.935484\n",
      "28                      [5, 5]   500   96.774194  67.741935\n",
      "29                      [5, 5]  1000   97.983871  75.806452\n",
      "30                    [10, 10]    10   87.096774  85.483871\n",
      "31                    [10, 10]   100   96.774194  87.096774\n",
      "32                    [10, 10]   200  100.000000  79.032258\n",
      "33                    [10, 10]   500  100.000000  80.645161\n",
      "34                    [10, 10]  1000  100.000000  82.258065\n",
      "35             [1, 1, 1, 1, 1]    10   48.387097  48.387097\n",
      "36             [1, 1, 1, 1, 1]   100   78.629032  80.645161\n",
      "37             [1, 1, 1, 1, 1]   200   69.354839  64.516129\n",
      "38             [1, 1, 1, 1, 1]   500   79.435484  75.806452\n",
      "39             [1, 1, 1, 1, 1]  1000   75.403226  74.193548\n",
      "40             [5, 5, 5, 5, 5]    10   73.790323  61.290323\n",
      "41             [5, 5, 5, 5, 5]   100   93.145161  77.419355\n",
      "42             [5, 5, 5, 5, 5]   200   93.951613  83.870968\n",
      "43             [5, 5, 5, 5, 5]   500   92.741935  80.645161\n",
      "44             [5, 5, 5, 5, 5]  1000   95.564516  75.806452\n",
      "45        [10, 10, 10, 10, 10]    10   74.596774  72.580645\n",
      "46        [10, 10, 10, 10, 10]   100   92.338710  82.258065\n",
      "47        [10, 10, 10, 10, 10]   200   91.532258  85.483871\n",
      "48        [10, 10, 10, 10, 10]   500  100.000000  74.193548\n",
      "49        [10, 10, 10, 10, 10]  1000  100.000000  85.483871\n",
      "50  neural network classifiers   QDA   19.354839  19.354839\n",
      "51  neural network classifiers   LDA   81.048387  87.096774\n"
     ]
    }
   ],
   "source": [
    "percentagespd2 = pd.DataFrame(percentages)\n",
    "print(percentagespd2)"
   ]
  },
  {
   "cell_type": "code",
   "execution_count": 43,
   "metadata": {
    "collapsed": false,
    "scrolled": false
   },
   "outputs": [
    {
     "data": {
      "image/png": "[encoded data removed]",
      "text/plain": [
       "<matplotlib.figure.Figure at 0x7f4f6fdd4320>"
      ]
     },
     "metadata": {},
     "output_type": "display_data"
    }
   ],
   "source": [
    "plt.figure(figsize=(15, 10))\n",
    "xs = np.arange(0,50,5)\n",
    "index = np.arange(0, 20, 2)\n",
    "bar_width = 0.3\n",
    "opacity = 0.6\n",
    "colors = ['#624ea7', 'g', 'yellow', 'k', 'maroon']\n",
    "for i, nIter in enumerate(nIterations):\n",
    "    plt.bar(index+i*bar_width, percentagespd2.values[xs + i, 3], bar_width,\\\n",
    "            alpha=opacity ,label=str(nIter)+' iterations', color=colors[i])\n",
    "plt.bar(20.5, percentagespd2.values[50, 3], bar_width,\\\n",
    "            alpha=opacity ,label='QDA', color='cyan')\n",
    "plt.bar(22.5, percentagespd2.values[51, 3], bar_width,\\\n",
    "            alpha=opacity ,label='LDA', color='red')\n",
    "plt.legend()\n",
    "xlabels = ['Linear'] + hls[1:] + ['QDA', 'LDA']\n",
    "xindexs = np.arange(0,24,2)\n",
    "plt.xticks(xindexs+0.6, xlabels, rotation=90, horizontalalignment='right')\n",
    "plt.xlabel('Hidden Layer Structures')\n",
    "plt.ylabel('Percentage Correctness')\n",
    "plt.ylim(ymin = 0, ymax = 100)\n",
    "\n",
    "plt.grid(True)\n",
    "\n",
    "plt.show()"
   ]
  },
  {
   "cell_type": "markdown",
   "metadata": {},
   "source": [
    "Based on orthopedic patients dataset and runtime partition, the plot shows that `linear logistic regression` produces good enough correctness rate, around 80%. As to the `non-linear logistic regression`, `[5, 5]` hidden layer structure produces relatively higher correctness rate compared to other hidden layer structures. `[10, 10]` has slightly less peak correctness rate but has steadly performance across different iterations. `LDA` has 76% correctness rate while `QDA` only has 32% correctness rate on testing data.\n",
    "\n",
    "In light of iterations times, larger number of iterations will generally improve the correctness rate on training data, but decreasing the correctness on testing data, which indicates a overfitting problem. For this particular dataset and runtime partition, `100` iterations generates highest correctness rate compared to `10, 200, 500, 1000`"
   ]
  },
  {
   "cell_type": "code",
   "execution_count": 44,
   "metadata": {
    "collapsed": true
   },
   "outputs": [],
   "source": [
    "classes = np.unique(T).astype(int)"
   ]
  },
  {
   "cell_type": "code",
   "execution_count": 45,
   "metadata": {
    "collapsed": false
   },
   "outputs": [
    {
     "name": "stdout",
     "output_type": "stream",
     "text": [
      "0\n",
      "       1    2    3\n",
      "    ------------------\n",
      " 1 | 68.8 29.2  2.1\n",
      " 2 | 12.5 85.0  2.5\n",
      " 3 |  0.8  4.2 95.0\n",
      "       1    2    3\n",
      "    ------------------\n",
      " 1 | 58.3 41.7  0  \n",
      " 2 | 10.0 85.0  5.0\n",
      " 3 |  3.3  3.3 93.3\n",
      "\n",
      "[10, 10]\n",
      "       1    2    3\n",
      "    ------------------\n",
      " 1 | 93.8  6.2  0  \n",
      " 2 |  3.8 96.2  0  \n",
      " 3 |  0    0  100.0\n",
      "       1    2    3\n",
      "    ------------------\n",
      " 1 | 58.3 41.7  0  \n",
      " 2 | 15.0 80.0  5.0\n",
      " 3 |  3.3  6.7 90.0\n",
      "\n"
     ]
    }
   ],
   "source": [
    "hls = [0, [10,10]]\n",
    "nIterations = [100]\n",
    "for i, hl in enumerate(hls):\n",
    "    for j, nIter in enumerate(nIterations):\n",
    "        Xtrain, Ttrain, Xtest, Ttest = ml.partition(X, T, 0.8, shuffle=True, classification=True)\n",
    "        netc = nn.NeuralNetworkClassifier(X.shape[1], hl, len(np.unique(T)))\n",
    "        netc.train(Xtrain, Ttrain, nIter)\n",
    "        Ytrain = netc.use(Xtrain)\n",
    "        Ytest = netc.use(Xtest)\n",
    "        print(hl)\n",
    "        _ = ml.confusionMatrix(Ttrain, Ytrain, classes)\n",
    "        _ = ml.confusionMatrix(Ttest, Ytest, classes)\n",
    "        print()"
   ]
  },
  {
   "cell_type": "code",
   "execution_count": 64,
   "metadata": {
    "collapsed": false
   },
   "outputs": [
    {
     "name": "stdout",
     "output_type": "stream",
     "text": [
      "QDA\n",
      "       1    2    3\n",
      "    ------------------\n",
      " 1 | 39.6 58.3  2.1\n",
      " 2 |  3.8 93.8  2.5\n",
      " 3 |  0    5.8 94.2\n",
      "       1    2    3\n",
      "    ------------------\n",
      " 1 | 33.3 66.7  0  \n",
      " 2 |  0   90.0 10.0\n",
      " 3 |  0    3.3 96.7\n"
     ]
    }
   ],
   "source": [
    "print('QDA')\n",
    "Xtrain, Ttrain, Xtest, Ttest = ml.partition(X, T, 0.8, shuffle=True, classification=True)\n",
    "qda = qdalda.QDA()\n",
    "qda.train(Xtrain, Ttrain)\n",
    "Ytrain = qda.use(Xtrain)\n",
    "Ytest = qda.use(Xtest)\n",
    "_ = ml.confusionMatrix(Ttrain, Ytrain, classes)\n",
    "_ = ml.confusionMatrix(Ttest, Ytest, classes)"
   ]
  },
  {
   "cell_type": "code",
   "execution_count": 65,
   "metadata": {
    "collapsed": false,
    "scrolled": false
   },
   "outputs": [
    {
     "name": "stdout",
     "output_type": "stream",
     "text": [
      "LDA\n",
      "       1    2    3\n",
      "    ------------------\n",
      " 1 | 85.4 14.6  0  \n",
      " 2 | 20.0 71.2  8.8\n",
      " 3 |  8.3  8.3 83.3\n",
      "       1    2    3\n",
      "    ------------------\n",
      " 1 | 58.3 41.7  0  \n",
      " 2 |  5.0 90.0  5.0\n",
      " 3 |  3.3 13.3 83.3\n"
     ]
    }
   ],
   "source": [
    "print('LDA')\n",
    "lda = qdalda.LDA()\n",
    "lda.train(Xtrain, Ttrain)\n",
    "Ytrain = lda.use(Xtrain)\n",
    "Ytest = lda.use(Xtest)\n",
    "_ = ml.confusionMatrix(Ttrain, Ytrain, classes)\n",
    "_ = ml.confusionMatrix(Ttest, Ytest, classes)"
   ]
  },
  {
   "cell_type": "code",
   "execution_count": 66,
   "metadata": {
    "collapsed": false
   },
   "outputs": [
    {
     "data": {
      "text/plain": [
       "{'Hernia': 1, 'Normal': 2, 'Spondylolisthesis': 3}"
      ]
     },
     "execution_count": 66,
     "metadata": {},
     "output_type": "execute_result"
    }
   ],
   "source": [
    "targetMapping"
   ]
  },
  {
   "cell_type": "markdown",
   "metadata": {},
   "source": [
    "As we can see from the confusion matrix for four different neural network classifiers, namely, linear logistic regression, non-linear logistic regression, QDA, and LDA. They both have high correctness on predicting `Spondylolisthesis`, which still has some confusion over `Normal`. `Hernia` are generally badlly predicted, with high confusion over `Normal`. `Normal` are predicted in a good shape, but the major confusion it shares is with `Hernia`.\n",
    "\n",
    "As to different neural network classifiers, non-linear logistic regression gives the best prediction results. Linear logistic regression does bad on predicting `Hernia`. QDA and LDA do bad on predicting `Hernia`. Things need to be noticed are that QDA fails on predicting more than half of the `Hernia` by mistaking it into half of `Normal` and half of `Spondylolisthesis`, and LDA does bad on predicting `Hernia` and `Spondylolisthesis`."
   ]
  },
  {
   "cell_type": "markdown",
   "metadata": {},
   "source": [
    "# Comparison with different activation function (ReLU)"
   ]
  },
  {
   "cell_type": "code",
   "execution_count": 67,
   "metadata": {
    "collapsed": true
   },
   "outputs": [],
   "source": [
    "netcR = nn.NeuralNetworkClassifierReLU(X.shape[1], hl, len(np.unique(T)))"
   ]
  },
  {
   "cell_type": "code",
   "execution_count": 69,
   "metadata": {
    "collapsed": false
   },
   "outputs": [
    {
     "name": "stdout",
     "output_type": "stream",
     "text": [
      "0\n",
      "       1    2    3\n",
      "    ------------------\n",
      " 1 | 68.8 31.2  0  \n",
      " 2 | 13.8 83.8  2.5\n",
      " 3 |  1.7  4.2 94.2\n",
      "       1    2    3\n",
      "    ------------------\n",
      " 1 | 75.0 16.7  8.3\n",
      " 2 | 15.0 80.0  5.0\n",
      " 3 |  0    3.3 96.7\n",
      "\n",
      "[10, 10]\n",
      "       1    2    3\n",
      "    ------------------\n",
      " 1 | 93.8  6.2  0  \n",
      " 2 |  5.0 95.0  0  \n",
      " 3 |  0    0.8 99.2\n",
      "       1    2    3\n",
      "    ------------------\n",
      " 1 | 66.7 33.3  0  \n",
      " 2 |  5.0 75.0 20.0\n",
      " 3 |  0    0  100.0\n",
      "\n"
     ]
    }
   ],
   "source": [
    "hls = [0, [10,10]]\n",
    "nIterations = [100]\n",
    "percentages3 = []\n",
    "for i, hl in enumerate(hls):\n",
    "    for j, nIter in enumerate(nIterations):\n",
    "        Xtrain, Ttrain, Xtest, Ttest = ml.partition(X, T, 0.8, shuffle=True, classification=True)\n",
    "        netc = nn.NeuralNetworkClassifier(X.shape[1], hl, len(np.unique(T)))\n",
    "        netc.train(Xtrain, Ttrain, nIter)\n",
    "        Ytrain = netc.use(Xtrain)\n",
    "        Ytest = netc.use(Xtest)\n",
    "        print(hl)\n",
    "        _ = ml.confusionMatrix(Ttrain, Ytrain, classes)\n",
    "        _ = ml.confusionMatrix(Ttest, Ytest, classes)\n",
    "        percentages3.append([hl, nIter] + [np.sum(Ttrain == Ytrain) / len(Ttrain) * 100, np.sum(Ttest == Ytest) / len(Ttest) * 100])\n",
    "        print()"
   ]
  },
  {
   "cell_type": "code",
   "execution_count": 70,
   "metadata": {
    "collapsed": false
   },
   "outputs": [
    {
     "name": "stdout",
     "output_type": "stream",
     "text": [
      "          0    1          2          3\n",
      "0         0  100  85.887097  87.096774\n",
      "1  [10, 10]  100  96.774194  85.483871\n"
     ]
    }
   ],
   "source": [
    "percentagespd3 = pd.DataFrame(percentages3)\n",
    "print(percentagespd3)"
   ]
  },
  {
   "cell_type": "markdown",
   "metadata": {},
   "source": [
    "Based on this dataset and my specific runtime partition, `ReLU` activation function gives similar performance using linear logistic regression model, which produces 87% correctness rate compared to 87 produced by `tanh` activation function. However, as to non-linear logistic regression model, `ReLU` only produces 85% correctness rate compared to 93% using `tanh`.\n",
    "\n",
    "Note that this is runtime partition based data comparison, which could be different across different runs. My insights on this is both `tanh` and `ReLU` has similar good performance on this dataset, since they both produces around 90% correctness rate. Another reason is that they both suffer from the error when predicting `Hernia` and `Normal` while doing good when predicting `Spondylolisthesis`."
   ]
  }
 ],
 "metadata": {
  "kernelspec": {
   "display_name": "Python 3",
   "language": "python",
   "name": "python3"
  },
  "language_info": {
   "codemirror_mode": {
    "name": "ipython",
    "version": 3
   },
   "file_extension": ".py",
   "mimetype": "text/x-python",
   "name": "python",
   "nbconvert_exporter": "python",
   "pygments_lexer": "ipython3",
   "version": "3.6.0"
  }
 },
 "nbformat": 4,
 "nbformat_minor": 2
}
